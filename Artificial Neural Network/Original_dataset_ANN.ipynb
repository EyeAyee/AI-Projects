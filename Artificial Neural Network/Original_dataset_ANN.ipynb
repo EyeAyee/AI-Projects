{
 "cells": [
  {
   "cell_type": "code",
   "execution_count": 1,
   "id": "911df59c-3a2d-4a4e-9630-d6740893d707",
   "metadata": {
    "execution": {
     "iopub.execute_input": "2024-06-17T12:43:08.210993Z",
     "iopub.status.busy": "2024-06-17T12:43:08.209915Z",
     "iopub.status.idle": "2024-06-17T12:43:12.116307Z",
     "shell.execute_reply": "2024-06-17T12:43:12.116307Z",
     "shell.execute_reply.started": "2024-06-17T12:43:08.210993Z"
    },
    "tags": []
   },
   "outputs": [],
   "source": [
    "from mpl_toolkits.mplot3d import Axes3D\n",
    "from sklearn.preprocessing import StandardScaler\n",
    "import matplotlib.pyplot as plt \n",
    "import numpy as np \n",
    "import os \n",
    "import pandas as pd "
   ]
  },
  {
   "cell_type": "code",
   "execution_count": 2,
   "id": "73e8c230-9e01-42c8-9e7a-02e948e7ab5c",
   "metadata": {
    "execution": {
     "iopub.execute_input": "2024-06-17T12:43:12.119569Z",
     "iopub.status.busy": "2024-06-17T12:43:12.118556Z",
     "iopub.status.idle": "2024-06-17T12:43:24.303811Z",
     "shell.execute_reply": "2024-06-17T12:43:24.302790Z",
     "shell.execute_reply.started": "2024-06-17T12:43:12.119569Z"
    },
    "tags": []
   },
   "outputs": [],
   "source": [
    "# Load your dataset\n",
    "data = pd.read_csv('C:/Users/Imran/OneDrive - Ontario Tech University/Documents/Capstone/final_df.csv')"
   ]
  },
  {
   "cell_type": "code",
   "execution_count": 3,
   "id": "a90bac01-b2e9-43d0-aad6-0efdfbae1c14",
   "metadata": {
    "execution": {
     "iopub.execute_input": "2024-06-17T12:43:24.304812Z",
     "iopub.status.busy": "2024-06-17T12:43:24.304812Z",
     "iopub.status.idle": "2024-06-17T12:43:24.314896Z",
     "shell.execute_reply": "2024-06-17T12:43:24.313883Z",
     "shell.execute_reply.started": "2024-06-17T12:43:24.304812Z"
    },
    "tags": []
   },
   "outputs": [],
   "source": [
    "labels = data['rar']"
   ]
  },
  {
   "cell_type": "code",
   "execution_count": 4,
   "id": "17f411ee-4006-4f0c-af09-e1b72b675570",
   "metadata": {
    "execution": {
     "iopub.execute_input": "2024-06-17T12:43:24.316891Z",
     "iopub.status.busy": "2024-06-17T12:43:24.316891Z",
     "iopub.status.idle": "2024-06-17T12:43:24.659152Z",
     "shell.execute_reply": "2024-06-17T12:43:24.658173Z",
     "shell.execute_reply.started": "2024-06-17T12:43:24.316891Z"
    },
    "tags": []
   },
   "outputs": [],
   "source": [
    "features = data.drop('rar', axis=1)"
   ]
  },
  {
   "cell_type": "code",
   "execution_count": 5,
   "id": "6fc826bd-d07c-408d-a9ea-2856dd66b01b",
   "metadata": {
    "execution": {
     "iopub.execute_input": "2024-06-17T12:43:24.660661Z",
     "iopub.status.busy": "2024-06-17T12:43:24.659152Z",
     "iopub.status.idle": "2024-06-17T12:43:31.601669Z",
     "shell.execute_reply": "2024-06-17T12:43:31.601669Z",
     "shell.execute_reply.started": "2024-06-17T12:43:24.660661Z"
    },
    "tags": []
   },
   "outputs": [],
   "source": [
    "import tensorflow as tf\n",
    "from tensorflow.keras.models import Sequential\n",
    "from tensorflow.keras.layers import Dense\n",
    "from sklearn.model_selection import train_test_split\n",
    "from sklearn.preprocessing import StandardScaler\n",
    "import joblib\n",
    "import os\n"
   ]
  },
  {
   "cell_type": "code",
   "execution_count": 6,
   "id": "a0f90aab-4750-412b-b12b-b9a8abbf6ee0",
   "metadata": {
    "execution": {
     "iopub.execute_input": "2024-06-17T12:43:31.603716Z",
     "iopub.status.busy": "2024-06-17T12:43:31.602768Z",
     "iopub.status.idle": "2024-06-17T12:43:40.075455Z",
     "shell.execute_reply": "2024-06-17T12:43:40.072449Z",
     "shell.execute_reply.started": "2024-06-17T12:43:31.603716Z"
    },
    "tags": []
   },
   "outputs": [],
   "source": [
    "# Standardize the data\n",
    "scaler = StandardScaler().fit(features)\n",
    "features = scaler.transform(features)"
   ]
  },
  {
   "cell_type": "markdown",
   "id": "345f1d5d-c67d-46b0-b563-22424a3787c2",
   "metadata": {},
   "source": [
    "### Creating an individual model"
   ]
  },
  {
   "cell_type": "code",
   "execution_count": 8,
   "id": "597a5328-c505-40e4-bdb3-c11ed6234cff",
   "metadata": {
    "execution": {
     "iopub.execute_input": "2024-06-17T12:43:40.165321Z",
     "iopub.status.busy": "2024-06-17T12:43:40.164320Z",
     "iopub.status.idle": "2024-06-17T12:43:45.551444Z",
     "shell.execute_reply": "2024-06-17T12:43:45.549392Z",
     "shell.execute_reply.started": "2024-06-17T12:43:40.165321Z"
    },
    "tags": []
   },
   "outputs": [],
   "source": [
    "# Split the data into training and testing sets\n",
    "X_train, X_test, y_train, y_test = train_test_split(features, labels, test_size=0.2, random_state=42)"
   ]
  },
  {
   "cell_type": "code",
   "execution_count": 9,
   "id": "b951972f-e6c8-4eb2-84de-e97636c1485e",
   "metadata": {
    "execution": {
     "iopub.execute_input": "2024-06-17T12:43:45.557423Z",
     "iopub.status.busy": "2024-06-17T12:43:45.556454Z",
     "iopub.status.idle": "2024-06-17T13:23:14.645405Z",
     "shell.execute_reply": "2024-06-17T13:23:14.644813Z",
     "shell.execute_reply.started": "2024-06-17T12:43:45.557423Z"
    },
    "tags": []
   },
   "outputs": [
    {
     "name": "stderr",
     "output_type": "stream",
     "text": [
      "C:\\Users\\Imran\\anaconda3\\Lib\\site-packages\\keras\\src\\layers\\core\\dense.py:87: UserWarning: Do not pass an `input_shape`/`input_dim` argument to a layer. When using Sequential models, prefer using an `Input(shape)` object as the first layer in the model instead.\n",
      "  super().__init__(activity_regularizer=activity_regularizer, **kwargs)\n"
     ]
    },
    {
     "name": "stdout",
     "output_type": "stream",
     "text": [
      "Epoch 1/50\n",
      "\u001b[1m33702/33702\u001b[0m \u001b[32m━━━━━━━━━━━━━━━━━━━━\u001b[0m\u001b[37m\u001b[0m \u001b[1m43s\u001b[0m 1ms/step - loss: 29169728.0000 - val_loss: 344367.1562\n",
      "Epoch 2/50\n",
      "\u001b[1m33702/33702\u001b[0m \u001b[32m━━━━━━━━━━━━━━━━━━━━\u001b[0m\u001b[37m\u001b[0m \u001b[1m41s\u001b[0m 1ms/step - loss: 301928.6562 - val_loss: 226236.1250\n",
      "Epoch 3/50\n",
      "\u001b[1m33702/33702\u001b[0m \u001b[32m━━━━━━━━━━━━━━━━━━━━\u001b[0m\u001b[37m\u001b[0m \u001b[1m41s\u001b[0m 1ms/step - loss: 211170.6250 - val_loss: 193362.7500\n",
      "Epoch 4/50\n",
      "\u001b[1m33702/33702\u001b[0m \u001b[32m━━━━━━━━━━━━━━━━━━━━\u001b[0m\u001b[37m\u001b[0m \u001b[1m45s\u001b[0m 1ms/step - loss: 197623.5000 - val_loss: 185013.7344\n",
      "Epoch 5/50\n",
      "\u001b[1m33702/33702\u001b[0m \u001b[32m━━━━━━━━━━━━━━━━━━━━\u001b[0m\u001b[37m\u001b[0m \u001b[1m43s\u001b[0m 1ms/step - loss: 180244.0000 - val_loss: 175522.3125\n",
      "Epoch 6/50\n",
      "\u001b[1m33702/33702\u001b[0m \u001b[32m━━━━━━━━━━━━━━━━━━━━\u001b[0m\u001b[37m\u001b[0m \u001b[1m45s\u001b[0m 1ms/step - loss: 159546.0938 - val_loss: 133783.6875\n",
      "Epoch 7/50\n",
      "\u001b[1m33702/33702\u001b[0m \u001b[32m━━━━━━━━━━━━━━━━━━━━\u001b[0m\u001b[37m\u001b[0m \u001b[1m40s\u001b[0m 1ms/step - loss: 135599.8750 - val_loss: 133214.5781\n",
      "Epoch 8/50\n",
      "\u001b[1m33702/33702\u001b[0m \u001b[32m━━━━━━━━━━━━━━━━━━━━\u001b[0m\u001b[37m\u001b[0m \u001b[1m43s\u001b[0m 1ms/step - loss: 126956.6797 - val_loss: 126940.4062\n",
      "Epoch 9/50\n",
      "\u001b[1m33702/33702\u001b[0m \u001b[32m━━━━━━━━━━━━━━━━━━━━\u001b[0m\u001b[37m\u001b[0m \u001b[1m41s\u001b[0m 1ms/step - loss: 128092.2500 - val_loss: 122773.7812\n",
      "Epoch 10/50\n",
      "\u001b[1m33702/33702\u001b[0m \u001b[32m━━━━━━━━━━━━━━━━━━━━\u001b[0m\u001b[37m\u001b[0m \u001b[1m43s\u001b[0m 1ms/step - loss: 130781.7031 - val_loss: 120464.3750\n",
      "Epoch 11/50\n",
      "\u001b[1m33702/33702\u001b[0m \u001b[32m━━━━━━━━━━━━━━━━━━━━\u001b[0m\u001b[37m\u001b[0m \u001b[1m41s\u001b[0m 1ms/step - loss: 119937.5625 - val_loss: 115447.5234\n",
      "Epoch 12/50\n",
      "\u001b[1m33702/33702\u001b[0m \u001b[32m━━━━━━━━━━━━━━━━━━━━\u001b[0m\u001b[37m\u001b[0m \u001b[1m44s\u001b[0m 1ms/step - loss: 119275.5391 - val_loss: 111697.0078\n",
      "Epoch 13/50\n",
      "\u001b[1m33702/33702\u001b[0m \u001b[32m━━━━━━━━━━━━━━━━━━━━\u001b[0m\u001b[37m\u001b[0m \u001b[1m43s\u001b[0m 1ms/step - loss: 116065.0625 - val_loss: 118299.5703\n",
      "Epoch 14/50\n",
      "\u001b[1m33702/33702\u001b[0m \u001b[32m━━━━━━━━━━━━━━━━━━━━\u001b[0m\u001b[37m\u001b[0m \u001b[1m44s\u001b[0m 1ms/step - loss: 111274.0312 - val_loss: 122519.9375\n",
      "Epoch 15/50\n",
      "\u001b[1m33702/33702\u001b[0m \u001b[32m━━━━━━━━━━━━━━━━━━━━\u001b[0m\u001b[37m\u001b[0m \u001b[1m41s\u001b[0m 1ms/step - loss: 115630.0312 - val_loss: 116245.1094\n",
      "Epoch 16/50\n",
      "\u001b[1m33702/33702\u001b[0m \u001b[32m━━━━━━━━━━━━━━━━━━━━\u001b[0m\u001b[37m\u001b[0m \u001b[1m43s\u001b[0m 1ms/step - loss: 109819.7109 - val_loss: 106764.3828\n",
      "Epoch 17/50\n",
      "\u001b[1m33702/33702\u001b[0m \u001b[32m━━━━━━━━━━━━━━━━━━━━\u001b[0m\u001b[37m\u001b[0m \u001b[1m42s\u001b[0m 1ms/step - loss: 107188.9453 - val_loss: 105652.2969\n",
      "Epoch 18/50\n",
      "\u001b[1m33702/33702\u001b[0m \u001b[32m━━━━━━━━━━━━━━━━━━━━\u001b[0m\u001b[37m\u001b[0m \u001b[1m42s\u001b[0m 1ms/step - loss: 108525.4219 - val_loss: 106127.0781\n",
      "Epoch 19/50\n",
      "\u001b[1m33702/33702\u001b[0m \u001b[32m━━━━━━━━━━━━━━━━━━━━\u001b[0m\u001b[37m\u001b[0m \u001b[1m46s\u001b[0m 1ms/step - loss: 104580.5312 - val_loss: 100421.2266\n",
      "Epoch 20/50\n",
      "\u001b[1m33702/33702\u001b[0m \u001b[32m━━━━━━━━━━━━━━━━━━━━\u001b[0m\u001b[37m\u001b[0m \u001b[1m45s\u001b[0m 1ms/step - loss: 103407.9453 - val_loss: 101101.5625\n",
      "Epoch 21/50\n",
      "\u001b[1m33702/33702\u001b[0m \u001b[32m━━━━━━━━━━━━━━━━━━━━\u001b[0m\u001b[37m\u001b[0m \u001b[1m48s\u001b[0m 1ms/step - loss: 106060.1562 - val_loss: 103819.2422\n",
      "Epoch 22/50\n",
      "\u001b[1m33702/33702\u001b[0m \u001b[32m━━━━━━━━━━━━━━━━━━━━\u001b[0m\u001b[37m\u001b[0m \u001b[1m46s\u001b[0m 1ms/step - loss: 107041.4375 - val_loss: 105978.2266\n",
      "Epoch 23/50\n",
      "\u001b[1m33702/33702\u001b[0m \u001b[32m━━━━━━━━━━━━━━━━━━━━\u001b[0m\u001b[37m\u001b[0m \u001b[1m46s\u001b[0m 1ms/step - loss: 99437.9609 - val_loss: 102352.9609\n",
      "Epoch 24/50\n",
      "\u001b[1m33702/33702\u001b[0m \u001b[32m━━━━━━━━━━━━━━━━━━━━\u001b[0m\u001b[37m\u001b[0m \u001b[1m47s\u001b[0m 1ms/step - loss: 100648.5312 - val_loss: 112918.9219\n",
      "Epoch 25/50\n",
      "\u001b[1m33702/33702\u001b[0m \u001b[32m━━━━━━━━━━━━━━━━━━━━\u001b[0m\u001b[37m\u001b[0m \u001b[1m46s\u001b[0m 1ms/step - loss: 96362.0156 - val_loss: 98332.2109\n",
      "Epoch 26/50\n",
      "\u001b[1m33702/33702\u001b[0m \u001b[32m━━━━━━━━━━━━━━━━━━━━\u001b[0m\u001b[37m\u001b[0m \u001b[1m47s\u001b[0m 1ms/step - loss: 97156.0625 - val_loss: 96305.1250\n",
      "Epoch 27/50\n",
      "\u001b[1m33702/33702\u001b[0m \u001b[32m━━━━━━━━━━━━━━━━━━━━\u001b[0m\u001b[37m\u001b[0m \u001b[1m46s\u001b[0m 1ms/step - loss: 97013.0156 - val_loss: 98370.2422\n",
      "Epoch 28/50\n",
      "\u001b[1m33702/33702\u001b[0m \u001b[32m━━━━━━━━━━━━━━━━━━━━\u001b[0m\u001b[37m\u001b[0m \u001b[1m48s\u001b[0m 1ms/step - loss: 96309.7266 - val_loss: 94022.0859\n",
      "Epoch 29/50\n",
      "\u001b[1m33702/33702\u001b[0m \u001b[32m━━━━━━━━━━━━━━━━━━━━\u001b[0m\u001b[37m\u001b[0m \u001b[1m49s\u001b[0m 1ms/step - loss: 94636.3984 - val_loss: 103926.4766\n",
      "Epoch 30/50\n",
      "\u001b[1m33702/33702\u001b[0m \u001b[32m━━━━━━━━━━━━━━━━━━━━\u001b[0m\u001b[37m\u001b[0m \u001b[1m47s\u001b[0m 1ms/step - loss: 102668.1562 - val_loss: 99491.0078\n",
      "Epoch 31/50\n",
      "\u001b[1m33702/33702\u001b[0m \u001b[32m━━━━━━━━━━━━━━━━━━━━\u001b[0m\u001b[37m\u001b[0m \u001b[1m48s\u001b[0m 1ms/step - loss: 92417.7109 - val_loss: 89359.1016\n",
      "Epoch 32/50\n",
      "\u001b[1m33702/33702\u001b[0m \u001b[32m━━━━━━━━━━━━━━━━━━━━\u001b[0m\u001b[37m\u001b[0m \u001b[1m51s\u001b[0m 2ms/step - loss: 90367.9297 - val_loss: 92268.8984\n",
      "Epoch 33/50\n",
      "\u001b[1m33702/33702\u001b[0m \u001b[32m━━━━━━━━━━━━━━━━━━━━\u001b[0m\u001b[37m\u001b[0m \u001b[1m49s\u001b[0m 1ms/step - loss: 91663.1094 - val_loss: 106953.8984\n",
      "Epoch 34/50\n",
      "\u001b[1m33702/33702\u001b[0m \u001b[32m━━━━━━━━━━━━━━━━━━━━\u001b[0m\u001b[37m\u001b[0m \u001b[1m49s\u001b[0m 1ms/step - loss: 89287.5781 - val_loss: 87432.8281\n",
      "Epoch 35/50\n",
      "\u001b[1m33702/33702\u001b[0m \u001b[32m━━━━━━━━━━━━━━━━━━━━\u001b[0m\u001b[37m\u001b[0m \u001b[1m49s\u001b[0m 1ms/step - loss: 84647.9922 - val_loss: 86749.9297\n",
      "Epoch 36/50\n",
      "\u001b[1m33702/33702\u001b[0m \u001b[32m━━━━━━━━━━━━━━━━━━━━\u001b[0m\u001b[37m\u001b[0m \u001b[1m50s\u001b[0m 1ms/step - loss: 91604.1875 - val_loss: 83863.9297\n",
      "Epoch 37/50\n",
      "\u001b[1m33702/33702\u001b[0m \u001b[32m━━━━━━━━━━━━━━━━━━━━\u001b[0m\u001b[37m\u001b[0m \u001b[1m50s\u001b[0m 1ms/step - loss: 82892.3750 - val_loss: 86784.9453\n",
      "Epoch 38/50\n",
      "\u001b[1m33702/33702\u001b[0m \u001b[32m━━━━━━━━━━━━━━━━━━━━\u001b[0m\u001b[37m\u001b[0m \u001b[1m51s\u001b[0m 2ms/step - loss: 87314.5391 - val_loss: 87014.4609\n",
      "Epoch 39/50\n",
      "\u001b[1m33702/33702\u001b[0m \u001b[32m━━━━━━━━━━━━━━━━━━━━\u001b[0m\u001b[37m\u001b[0m \u001b[1m52s\u001b[0m 2ms/step - loss: 82586.1797 - val_loss: 80833.1797\n",
      "Epoch 40/50\n",
      "\u001b[1m33702/33702\u001b[0m \u001b[32m━━━━━━━━━━━━━━━━━━━━\u001b[0m\u001b[37m\u001b[0m \u001b[1m52s\u001b[0m 2ms/step - loss: 82027.5938 - val_loss: 82670.5469\n",
      "Epoch 41/50\n",
      "\u001b[1m33702/33702\u001b[0m \u001b[32m━━━━━━━━━━━━━━━━━━━━\u001b[0m\u001b[37m\u001b[0m \u001b[1m52s\u001b[0m 2ms/step - loss: 79662.5703 - val_loss: 86152.6719\n",
      "Epoch 42/50\n",
      "\u001b[1m33702/33702\u001b[0m \u001b[32m━━━━━━━━━━━━━━━━━━━━\u001b[0m\u001b[37m\u001b[0m \u001b[1m51s\u001b[0m 2ms/step - loss: 79679.6875 - val_loss: 78055.1953\n",
      "Epoch 43/50\n",
      "\u001b[1m33702/33702\u001b[0m \u001b[32m━━━━━━━━━━━━━━━━━━━━\u001b[0m\u001b[37m\u001b[0m \u001b[1m54s\u001b[0m 2ms/step - loss: 79619.4922 - val_loss: 80435.2969\n",
      "Epoch 44/50\n",
      "\u001b[1m33702/33702\u001b[0m \u001b[32m━━━━━━━━━━━━━━━━━━━━\u001b[0m\u001b[37m\u001b[0m \u001b[1m53s\u001b[0m 2ms/step - loss: 78594.3359 - val_loss: 82916.2500\n",
      "Epoch 45/50\n",
      "\u001b[1m33702/33702\u001b[0m \u001b[32m━━━━━━━━━━━━━━━━━━━━\u001b[0m\u001b[37m\u001b[0m \u001b[1m53s\u001b[0m 2ms/step - loss: 76529.6562 - val_loss: 76569.0391\n",
      "Epoch 46/50\n",
      "\u001b[1m33702/33702\u001b[0m \u001b[32m━━━━━━━━━━━━━━━━━━━━\u001b[0m\u001b[37m\u001b[0m \u001b[1m54s\u001b[0m 2ms/step - loss: 71856.9609 - val_loss: 79920.2500\n",
      "Epoch 47/50\n",
      "\u001b[1m33702/33702\u001b[0m \u001b[32m━━━━━━━━━━━━━━━━━━━━\u001b[0m\u001b[37m\u001b[0m \u001b[1m54s\u001b[0m 2ms/step - loss: 73358.1797 - val_loss: 77459.3281\n",
      "Epoch 48/50\n",
      "\u001b[1m33702/33702\u001b[0m \u001b[32m━━━━━━━━━━━━━━━━━━━━\u001b[0m\u001b[37m\u001b[0m \u001b[1m55s\u001b[0m 2ms/step - loss: 80018.8828 - val_loss: 75726.4375\n",
      "Epoch 49/50\n",
      "\u001b[1m33702/33702\u001b[0m \u001b[32m━━━━━━━━━━━━━━━━━━━━\u001b[0m\u001b[37m\u001b[0m \u001b[1m57s\u001b[0m 2ms/step - loss: 72878.4844 - val_loss: 74711.8203\n",
      "Epoch 50/50\n",
      "\u001b[1m33702/33702\u001b[0m \u001b[32m━━━━━━━━━━━━━━━━━━━━\u001b[0m\u001b[37m\u001b[0m \u001b[1m55s\u001b[0m 2ms/step - loss: 72476.5078 - val_loss: 79860.4922\n"
     ]
    },
    {
     "data": {
      "text/plain": [
       "<keras.src.callbacks.history.History at 0x1f142a10950>"
      ]
     },
     "execution_count": 9,
     "metadata": {},
     "output_type": "execute_result"
    }
   ],
   "source": [
    "# Define and train the model\n",
    "def create_ann(input_dim):\n",
    "    model = Sequential()\n",
    "    model.add(Dense(64, input_dim=input_dim, activation='relu'))\n",
    "    model.add(Dense(32, activation='relu'))\n",
    "    model.add(Dense(1))  # Single output for regression\n",
    "    model.compile(optimizer='adam', loss='mean_squared_error')\n",
    "    return model\n",
    "\n",
    "# Create and train the model\n",
    "single_model = create_ann(input_dim=X_train.shape[1])\n",
    "single_model.fit(X_train, y_train, epochs=50, batch_size=32, validation_data=(X_test, y_test))"
   ]
  },
  {
   "cell_type": "markdown",
   "id": "17f0c597-4599-40f6-afc5-3d388336953a",
   "metadata": {},
   "source": [
    "### Creating the hybrid model"
   ]
  },
  {
   "cell_type": "code",
   "execution_count": 11,
   "id": "a093d373-2e6e-45c2-89ea-a70e4ba89603",
   "metadata": {
    "execution": {
     "iopub.execute_input": "2024-06-17T13:23:14.687132Z",
     "iopub.status.busy": "2024-06-17T13:23:14.687132Z",
     "iopub.status.idle": "2024-06-17T13:23:15.413484Z",
     "shell.execute_reply": "2024-06-17T13:23:15.411471Z",
     "shell.execute_reply.started": "2024-06-17T13:23:14.687132Z"
    },
    "tags": []
   },
   "outputs": [],
   "source": [
    "from sklearn.cluster import KMeans"
   ]
  },
  {
   "cell_type": "code",
   "execution_count": 12,
   "id": "07df5b8b-f336-4385-9788-dac50c9b1806",
   "metadata": {
    "execution": {
     "iopub.execute_input": "2024-06-17T13:23:15.418486Z",
     "iopub.status.busy": "2024-06-17T13:23:15.416496Z",
     "iopub.status.idle": "2024-06-17T13:23:15.437480Z",
     "shell.execute_reply": "2024-06-17T13:23:15.436466Z",
     "shell.execute_reply.started": "2024-06-17T13:23:15.418486Z"
    },
    "tags": []
   },
   "outputs": [],
   "source": [
    "features_km = pd.DataFrame(features)\n",
    "features_km['rar'] = labels"
   ]
  },
  {
   "cell_type": "code",
   "execution_count": 13,
   "id": "94b7b022-2e83-4bf6-b5d4-4ec80ff3df98",
   "metadata": {
    "execution": {
     "iopub.execute_input": "2024-06-17T13:23:15.441711Z",
     "iopub.status.busy": "2024-06-17T13:23:15.440710Z",
     "iopub.status.idle": "2024-06-17T13:23:18.998893Z",
     "shell.execute_reply": "2024-06-17T13:23:18.995767Z",
     "shell.execute_reply.started": "2024-06-17T13:23:15.441711Z"
    },
    "tags": []
   },
   "outputs": [],
   "source": [
    "# Perform K-means clustering\n",
    "kmeans = KMeans(n_clusters=3, random_state=42)\n",
    "clusters = kmeans.fit_predict(features)\n",
    "\n",
    "# Add cluster labels to the dataset\n",
    "features_km['cluster'] = clusters"
   ]
  },
  {
   "cell_type": "code",
   "execution_count": 14,
   "id": "436d4558-10a5-4efb-82f9-47ae8e596838",
   "metadata": {
    "execution": {
     "iopub.execute_input": "2024-06-17T13:23:19.005779Z",
     "iopub.status.busy": "2024-06-17T13:23:19.005779Z",
     "iopub.status.idle": "2024-06-17T13:23:19.016198Z",
     "shell.execute_reply": "2024-06-17T13:23:19.015190Z",
     "shell.execute_reply.started": "2024-06-17T13:23:19.005779Z"
    },
    "tags": []
   },
   "outputs": [],
   "source": [
    "def create_ann(input_dim):\n",
    "    model = Sequential()\n",
    "    model.add(Dense(64, input_dim=input_dim, activation='relu'))\n",
    "    model.add(Dense(32, activation='relu'))\n",
    "    model.add(Dense(1))  \n",
    "    model.compile(optimizer='adam', loss='mean_squared_error')\n",
    "    return model\n",
    "\n",
    "# Function to train ANN on a specific cluster\n",
    "def train_ann_on_cluster(cluster_data):\n",
    "    features = cluster_data.drop(['rar', 'cluster'], axis=1)\n",
    "    labels = cluster_data['rar']\n",
    "    \n",
    "    X_train, X_test, y_train, y_test = train_test_split(features, labels, test_size=0.2, random_state=42)\n",
    "    \n",
    "    ann = create_ann(input_dim=features.shape[1])\n",
    "    ann.fit(X_train, y_train, epochs=50, batch_size=32, validation_data=(X_test, y_test))\n",
    "    \n",
    "    return ann"
   ]
  },
  {
   "cell_type": "code",
   "execution_count": 15,
   "id": "2f563d49-a143-4469-a919-6a48001eafb4",
   "metadata": {
    "execution": {
     "iopub.execute_input": "2024-06-17T13:23:19.018198Z",
     "iopub.status.busy": "2024-06-17T13:23:19.017197Z",
     "iopub.status.idle": "2024-06-17T14:07:44.551452Z",
     "shell.execute_reply": "2024-06-17T14:07:44.549441Z",
     "shell.execute_reply.started": "2024-06-17T13:23:19.018198Z"
    },
    "tags": []
   },
   "outputs": [
    {
     "name": "stdout",
     "output_type": "stream",
     "text": [
      "Epoch 1/50\n"
     ]
    },
    {
     "name": "stderr",
     "output_type": "stream",
     "text": [
      "C:\\Users\\Imran\\anaconda3\\Lib\\site-packages\\keras\\src\\layers\\core\\dense.py:87: UserWarning: Do not pass an `input_shape`/`input_dim` argument to a layer. When using Sequential models, prefer using an `Input(shape)` object as the first layer in the model instead.\n",
      "  super().__init__(activity_regularizer=activity_regularizer, **kwargs)\n"
     ]
    },
    {
     "name": "stdout",
     "output_type": "stream",
     "text": [
      "\u001b[1m645/645\u001b[0m \u001b[32m━━━━━━━━━━━━━━━━━━━━\u001b[0m\u001b[37m\u001b[0m \u001b[1m2s\u001b[0m 1ms/step - loss: 394819872.0000 - val_loss: 33797020.0000\n",
      "Epoch 2/50\n",
      "\u001b[1m645/645\u001b[0m \u001b[32m━━━━━━━━━━━━━━━━━━━━\u001b[0m\u001b[37m\u001b[0m \u001b[1m1s\u001b[0m 1ms/step - loss: 26258796.0000 - val_loss: 10479306.0000\n",
      "Epoch 3/50\n",
      "\u001b[1m645/645\u001b[0m \u001b[32m━━━━━━━━━━━━━━━━━━━━\u001b[0m\u001b[37m\u001b[0m \u001b[1m1s\u001b[0m 1ms/step - loss: 9207810.0000 - val_loss: 4901892.5000\n",
      "Epoch 4/50\n",
      "\u001b[1m645/645\u001b[0m \u001b[32m━━━━━━━━━━━━━━━━━━━━\u001b[0m\u001b[37m\u001b[0m \u001b[1m1s\u001b[0m 1ms/step - loss: 4831630.0000 - val_loss: 3151145.5000\n",
      "Epoch 5/50\n",
      "\u001b[1m645/645\u001b[0m \u001b[32m━━━━━━━━━━━━━━━━━━━━\u001b[0m\u001b[37m\u001b[0m \u001b[1m1s\u001b[0m 1ms/step - loss: 3123844.0000 - val_loss: 2422551.7500\n",
      "Epoch 6/50\n",
      "\u001b[1m645/645\u001b[0m \u001b[32m━━━━━━━━━━━━━━━━━━━━\u001b[0m\u001b[37m\u001b[0m \u001b[1m1s\u001b[0m 2ms/step - loss: 2279778.7500 - val_loss: 1969260.7500\n",
      "Epoch 7/50\n",
      "\u001b[1m645/645\u001b[0m \u001b[32m━━━━━━━━━━━━━━━━━━━━\u001b[0m\u001b[37m\u001b[0m \u001b[1m1s\u001b[0m 2ms/step - loss: 1925468.2500 - val_loss: 1678465.0000\n",
      "Epoch 8/50\n",
      "\u001b[1m645/645\u001b[0m \u001b[32m━━━━━━━━━━━━━━━━━━━━\u001b[0m\u001b[37m\u001b[0m \u001b[1m1s\u001b[0m 2ms/step - loss: 1554622.7500 - val_loss: 1449333.5000\n",
      "Epoch 9/50\n",
      "\u001b[1m645/645\u001b[0m \u001b[32m━━━━━━━━━━━━━━━━━━━━\u001b[0m\u001b[37m\u001b[0m \u001b[1m1s\u001b[0m 2ms/step - loss: 1515403.2500 - val_loss: 1293114.8750\n",
      "Epoch 10/50\n",
      "\u001b[1m645/645\u001b[0m \u001b[32m━━━━━━━━━━━━━━━━━━━━\u001b[0m\u001b[37m\u001b[0m \u001b[1m2s\u001b[0m 3ms/step - loss: 1348454.1250 - val_loss: 1190066.1250\n",
      "Epoch 11/50\n",
      "\u001b[1m645/645\u001b[0m \u001b[32m━━━━━━━━━━━━━━━━━━━━\u001b[0m\u001b[37m\u001b[0m \u001b[1m1s\u001b[0m 2ms/step - loss: 1161121.3750 - val_loss: 1130983.5000\n",
      "Epoch 12/50\n",
      "\u001b[1m645/645\u001b[0m \u001b[32m━━━━━━━━━━━━━━━━━━━━\u001b[0m\u001b[37m\u001b[0m \u001b[1m1s\u001b[0m 1ms/step - loss: 1077609.0000 - val_loss: 1079831.0000\n",
      "Epoch 13/50\n",
      "\u001b[1m645/645\u001b[0m \u001b[32m━━━━━━━━━━━━━━━━━━━━\u001b[0m\u001b[37m\u001b[0m \u001b[1m1s\u001b[0m 2ms/step - loss: 1027138.0000 - val_loss: 1036161.5625\n",
      "Epoch 14/50\n",
      "\u001b[1m645/645\u001b[0m \u001b[32m━━━━━━━━━━━━━━━━━━━━\u001b[0m\u001b[37m\u001b[0m \u001b[1m1s\u001b[0m 1ms/step - loss: 995024.5000 - val_loss: 1021763.3125\n",
      "Epoch 15/50\n",
      "\u001b[1m645/645\u001b[0m \u001b[32m━━━━━━━━━━━━━━━━━━━━\u001b[0m\u001b[37m\u001b[0m \u001b[1m1s\u001b[0m 2ms/step - loss: 1013247.8125 - val_loss: 969188.5000\n",
      "Epoch 16/50\n",
      "\u001b[1m645/645\u001b[0m \u001b[32m━━━━━━━━━━━━━━━━━━━━\u001b[0m\u001b[37m\u001b[0m \u001b[1m1s\u001b[0m 2ms/step - loss: 963209.8125 - val_loss: 933626.6250\n",
      "Epoch 17/50\n",
      "\u001b[1m645/645\u001b[0m \u001b[32m━━━━━━━━━━━━━━━━━━━━\u001b[0m\u001b[37m\u001b[0m \u001b[1m1s\u001b[0m 2ms/step - loss: 885600.1875 - val_loss: 887668.0625\n",
      "Epoch 18/50\n",
      "\u001b[1m645/645\u001b[0m \u001b[32m━━━━━━━━━━━━━━━━━━━━\u001b[0m\u001b[37m\u001b[0m \u001b[1m1s\u001b[0m 1ms/step - loss: 811092.4375 - val_loss: 853712.5625\n",
      "Epoch 19/50\n",
      "\u001b[1m645/645\u001b[0m \u001b[32m━━━━━━━━━━━━━━━━━━━━\u001b[0m\u001b[37m\u001b[0m \u001b[1m1s\u001b[0m 1ms/step - loss: 838289.0000 - val_loss: 820769.6250\n",
      "Epoch 20/50\n",
      "\u001b[1m645/645\u001b[0m \u001b[32m━━━━━━━━━━━━━━━━━━━━\u001b[0m\u001b[37m\u001b[0m \u001b[1m1s\u001b[0m 1ms/step - loss: 806392.5625 - val_loss: 805483.6250\n",
      "Epoch 21/50\n",
      "\u001b[1m645/645\u001b[0m \u001b[32m━━━━━━━━━━━━━━━━━━━━\u001b[0m\u001b[37m\u001b[0m \u001b[1m1s\u001b[0m 1ms/step - loss: 782734.0000 - val_loss: 753658.9375\n",
      "Epoch 22/50\n",
      "\u001b[1m645/645\u001b[0m \u001b[32m━━━━━━━━━━━━━━━━━━━━\u001b[0m\u001b[37m\u001b[0m \u001b[1m1s\u001b[0m 1ms/step - loss: 738370.8750 - val_loss: 717214.5625\n",
      "Epoch 23/50\n",
      "\u001b[1m645/645\u001b[0m \u001b[32m━━━━━━━━━━━━━━━━━━━━\u001b[0m\u001b[37m\u001b[0m \u001b[1m1s\u001b[0m 2ms/step - loss: 709253.8125 - val_loss: 701799.0625\n",
      "Epoch 24/50\n",
      "\u001b[1m645/645\u001b[0m \u001b[32m━━━━━━━━━━━━━━━━━━━━\u001b[0m\u001b[37m\u001b[0m \u001b[1m1s\u001b[0m 2ms/step - loss: 726299.0000 - val_loss: 676523.2500\n",
      "Epoch 25/50\n",
      "\u001b[1m645/645\u001b[0m \u001b[32m━━━━━━━━━━━━━━━━━━━━\u001b[0m\u001b[37m\u001b[0m \u001b[1m2s\u001b[0m 2ms/step - loss: 674777.5000 - val_loss: 657261.1250\n",
      "Epoch 26/50\n",
      "\u001b[1m645/645\u001b[0m \u001b[32m━━━━━━━━━━━━━━━━━━━━\u001b[0m\u001b[37m\u001b[0m \u001b[1m1s\u001b[0m 2ms/step - loss: 674187.1250 - val_loss: 661346.9375\n",
      "Epoch 27/50\n",
      "\u001b[1m645/645\u001b[0m \u001b[32m━━━━━━━━━━━━━━━━━━━━\u001b[0m\u001b[37m\u001b[0m \u001b[1m1s\u001b[0m 1ms/step - loss: 687546.5000 - val_loss: 631556.9375\n",
      "Epoch 28/50\n",
      "\u001b[1m645/645\u001b[0m \u001b[32m━━━━━━━━━━━━━━━━━━━━\u001b[0m\u001b[37m\u001b[0m \u001b[1m1s\u001b[0m 2ms/step - loss: 608598.5000 - val_loss: 621528.0000\n",
      "Epoch 29/50\n",
      "\u001b[1m645/645\u001b[0m \u001b[32m━━━━━━━━━━━━━━━━━━━━\u001b[0m\u001b[37m\u001b[0m \u001b[1m1s\u001b[0m 2ms/step - loss: 581308.3750 - val_loss: 596632.9375\n",
      "Epoch 30/50\n",
      "\u001b[1m645/645\u001b[0m \u001b[32m━━━━━━━━━━━━━━━━━━━━\u001b[0m\u001b[37m\u001b[0m \u001b[1m1s\u001b[0m 1ms/step - loss: 575223.8125 - val_loss: 585463.0625\n",
      "Epoch 31/50\n",
      "\u001b[1m645/645\u001b[0m \u001b[32m━━━━━━━━━━━━━━━━━━━━\u001b[0m\u001b[37m\u001b[0m \u001b[1m1s\u001b[0m 1ms/step - loss: 569873.1250 - val_loss: 581076.2500\n",
      "Epoch 32/50\n",
      "\u001b[1m645/645\u001b[0m \u001b[32m━━━━━━━━━━━━━━━━━━━━\u001b[0m\u001b[37m\u001b[0m \u001b[1m1s\u001b[0m 1ms/step - loss: 590330.7500 - val_loss: 560817.5000\n",
      "Epoch 33/50\n",
      "\u001b[1m645/645\u001b[0m \u001b[32m━━━━━━━━━━━━━━━━━━━━\u001b[0m\u001b[37m\u001b[0m \u001b[1m1s\u001b[0m 2ms/step - loss: 548563.0000 - val_loss: 547112.3750\n",
      "Epoch 34/50\n",
      "\u001b[1m645/645\u001b[0m \u001b[32m━━━━━━━━━━━━━━━━━━━━\u001b[0m\u001b[37m\u001b[0m \u001b[1m1s\u001b[0m 1ms/step - loss: 561005.3125 - val_loss: 545212.7500\n",
      "Epoch 35/50\n",
      "\u001b[1m645/645\u001b[0m \u001b[32m━━━━━━━━━━━━━━━━━━━━\u001b[0m\u001b[37m\u001b[0m \u001b[1m1s\u001b[0m 2ms/step - loss: 482131.0312 - val_loss: 532127.6250\n",
      "Epoch 36/50\n",
      "\u001b[1m645/645\u001b[0m \u001b[32m━━━━━━━━━━━━━━━━━━━━\u001b[0m\u001b[37m\u001b[0m \u001b[1m1s\u001b[0m 2ms/step - loss: 480159.0625 - val_loss: 528694.8125\n",
      "Epoch 37/50\n",
      "\u001b[1m645/645\u001b[0m \u001b[32m━━━━━━━━━━━━━━━━━━━━\u001b[0m\u001b[37m\u001b[0m \u001b[1m1s\u001b[0m 2ms/step - loss: 502732.7812 - val_loss: 514004.0312\n",
      "Epoch 38/50\n",
      "\u001b[1m645/645\u001b[0m \u001b[32m━━━━━━━━━━━━━━━━━━━━\u001b[0m\u001b[37m\u001b[0m \u001b[1m1s\u001b[0m 2ms/step - loss: 490949.5312 - val_loss: 510394.4062\n",
      "Epoch 39/50\n",
      "\u001b[1m645/645\u001b[0m \u001b[32m━━━━━━━━━━━━━━━━━━━━\u001b[0m\u001b[37m\u001b[0m \u001b[1m2s\u001b[0m 3ms/step - loss: 492565.6562 - val_loss: 502405.3125\n",
      "Epoch 40/50\n",
      "\u001b[1m645/645\u001b[0m \u001b[32m━━━━━━━━━━━━━━━━━━━━\u001b[0m\u001b[37m\u001b[0m \u001b[1m1s\u001b[0m 2ms/step - loss: 469606.9375 - val_loss: 487455.8125\n",
      "Epoch 41/50\n",
      "\u001b[1m645/645\u001b[0m \u001b[32m━━━━━━━━━━━━━━━━━━━━\u001b[0m\u001b[37m\u001b[0m \u001b[1m1s\u001b[0m 2ms/step - loss: 465885.3125 - val_loss: 482242.0625\n",
      "Epoch 42/50\n",
      "\u001b[1m645/645\u001b[0m \u001b[32m━━━━━━━━━━━━━━━━━━━━\u001b[0m\u001b[37m\u001b[0m \u001b[1m1s\u001b[0m 2ms/step - loss: 459924.4375 - val_loss: 468420.7500\n",
      "Epoch 43/50\n",
      "\u001b[1m645/645\u001b[0m \u001b[32m━━━━━━━━━━━━━━━━━━━━\u001b[0m\u001b[37m\u001b[0m \u001b[1m1s\u001b[0m 2ms/step - loss: 433105.0312 - val_loss: 491599.1562\n",
      "Epoch 44/50\n",
      "\u001b[1m645/645\u001b[0m \u001b[32m━━━━━━━━━━━━━━━━━━━━\u001b[0m\u001b[37m\u001b[0m \u001b[1m1s\u001b[0m 2ms/step - loss: 425506.5938 - val_loss: 444957.9688\n",
      "Epoch 45/50\n",
      "\u001b[1m645/645\u001b[0m \u001b[32m━━━━━━━━━━━━━━━━━━━━\u001b[0m\u001b[37m\u001b[0m \u001b[1m1s\u001b[0m 1ms/step - loss: 371498.3750 - val_loss: 419872.5625\n",
      "Epoch 46/50\n",
      "\u001b[1m645/645\u001b[0m \u001b[32m━━━━━━━━━━━━━━━━━━━━\u001b[0m\u001b[37m\u001b[0m \u001b[1m1s\u001b[0m 2ms/step - loss: 371910.3125 - val_loss: 409215.8125\n",
      "Epoch 47/50\n",
      "\u001b[1m645/645\u001b[0m \u001b[32m━━━━━━━━━━━━━━━━━━━━\u001b[0m\u001b[37m\u001b[0m \u001b[1m1s\u001b[0m 2ms/step - loss: 361942.1250 - val_loss: 387359.1250\n",
      "Epoch 48/50\n",
      "\u001b[1m645/645\u001b[0m \u001b[32m━━━━━━━━━━━━━━━━━━━━\u001b[0m\u001b[37m\u001b[0m \u001b[1m1s\u001b[0m 2ms/step - loss: 346428.4375 - val_loss: 364312.7812\n",
      "Epoch 49/50\n",
      "\u001b[1m645/645\u001b[0m \u001b[32m━━━━━━━━━━━━━━━━━━━━\u001b[0m\u001b[37m\u001b[0m \u001b[1m1s\u001b[0m 1ms/step - loss: 304895.5625 - val_loss: 353269.1250\n",
      "Epoch 50/50\n",
      "\u001b[1m645/645\u001b[0m \u001b[32m━━━━━━━━━━━━━━━━━━━━\u001b[0m\u001b[37m\u001b[0m \u001b[1m1s\u001b[0m 2ms/step - loss: 333422.7188 - val_loss: 346827.7188\n"
     ]
    },
    {
     "name": "stderr",
     "output_type": "stream",
     "text": [
      "C:\\Users\\Imran\\anaconda3\\Lib\\site-packages\\keras\\src\\layers\\core\\dense.py:87: UserWarning: Do not pass an `input_shape`/`input_dim` argument to a layer. When using Sequential models, prefer using an `Input(shape)` object as the first layer in the model instead.\n",
      "  super().__init__(activity_regularizer=activity_regularizer, **kwargs)\n"
     ]
    },
    {
     "name": "stdout",
     "output_type": "stream",
     "text": [
      "Epoch 1/50\n",
      "\u001b[1m22511/22511\u001b[0m \u001b[32m━━━━━━━━━━━━━━━━━━━━\u001b[0m\u001b[37m\u001b[0m \u001b[1m31s\u001b[0m 1ms/step - loss: 15784095.0000 - val_loss: 231959.4531\n",
      "Epoch 2/50\n",
      "\u001b[1m22511/22511\u001b[0m \u001b[32m━━━━━━━━━━━━━━━━━━━━\u001b[0m\u001b[37m\u001b[0m \u001b[1m32s\u001b[0m 1ms/step - loss: 202611.4531 - val_loss: 148038.2031\n",
      "Epoch 3/50\n",
      "\u001b[1m22511/22511\u001b[0m \u001b[32m━━━━━━━━━━━━━━━━━━━━\u001b[0m\u001b[37m\u001b[0m \u001b[1m30s\u001b[0m 1ms/step - loss: 126126.0938 - val_loss: 102725.8516\n",
      "Epoch 4/50\n",
      "\u001b[1m22511/22511\u001b[0m \u001b[32m━━━━━━━━━━━━━━━━━━━━\u001b[0m\u001b[37m\u001b[0m \u001b[1m29s\u001b[0m 1ms/step - loss: 95029.4219 - val_loss: 73748.4531\n",
      "Epoch 5/50\n",
      "\u001b[1m22511/22511\u001b[0m \u001b[32m━━━━━━━━━━━━━━━━━━━━\u001b[0m\u001b[37m\u001b[0m \u001b[1m38s\u001b[0m 1ms/step - loss: 68712.1953 - val_loss: 68291.1328\n",
      "Epoch 6/50\n",
      "\u001b[1m22511/22511\u001b[0m \u001b[32m━━━━━━━━━━━━━━━━━━━━\u001b[0m\u001b[37m\u001b[0m \u001b[1m29s\u001b[0m 1ms/step - loss: 63469.8008 - val_loss: 60982.8594\n",
      "Epoch 7/50\n",
      "\u001b[1m22511/22511\u001b[0m \u001b[32m━━━━━━━━━━━━━━━━━━━━\u001b[0m\u001b[37m\u001b[0m \u001b[1m29s\u001b[0m 1ms/step - loss: 63815.5977 - val_loss: 56090.1172\n",
      "Epoch 8/50\n",
      "\u001b[1m22511/22511\u001b[0m \u001b[32m━━━━━━━━━━━━━━━━━━━━\u001b[0m\u001b[37m\u001b[0m \u001b[1m30s\u001b[0m 1ms/step - loss: 56614.9961 - val_loss: 56438.1836\n",
      "Epoch 9/50\n",
      "\u001b[1m22511/22511\u001b[0m \u001b[32m━━━━━━━━━━━━━━━━━━━━\u001b[0m\u001b[37m\u001b[0m \u001b[1m29s\u001b[0m 1ms/step - loss: 58098.6211 - val_loss: 55337.7383\n",
      "Epoch 10/50\n",
      "\u001b[1m22511/22511\u001b[0m \u001b[32m━━━━━━━━━━━━━━━━━━━━\u001b[0m\u001b[37m\u001b[0m \u001b[1m30s\u001b[0m 1ms/step - loss: 53307.9141 - val_loss: 54947.9570\n",
      "Epoch 11/50\n",
      "\u001b[1m22511/22511\u001b[0m \u001b[32m━━━━━━━━━━━━━━━━━━━━\u001b[0m\u001b[37m\u001b[0m \u001b[1m30s\u001b[0m 1ms/step - loss: 54232.7422 - val_loss: 53545.6055\n",
      "Epoch 12/50\n",
      "\u001b[1m22511/22511\u001b[0m \u001b[32m━━━━━━━━━━━━━━━━━━━━\u001b[0m\u001b[37m\u001b[0m \u001b[1m33s\u001b[0m 1ms/step - loss: 51083.9961 - val_loss: 50629.3555\n",
      "Epoch 13/50\n",
      "\u001b[1m22511/22511\u001b[0m \u001b[32m━━━━━━━━━━━━━━━━━━━━\u001b[0m\u001b[37m\u001b[0m \u001b[1m30s\u001b[0m 1ms/step - loss: 53291.7930 - val_loss: 51578.4453\n",
      "Epoch 14/50\n",
      "\u001b[1m22511/22511\u001b[0m \u001b[32m━━━━━━━━━━━━━━━━━━━━\u001b[0m\u001b[37m\u001b[0m \u001b[1m29s\u001b[0m 1ms/step - loss: 48227.8555 - val_loss: 52164.1914\n",
      "Epoch 15/50\n",
      "\u001b[1m22511/22511\u001b[0m \u001b[32m━━━━━━━━━━━━━━━━━━━━\u001b[0m\u001b[37m\u001b[0m \u001b[1m28s\u001b[0m 1ms/step - loss: 49028.3750 - val_loss: 49123.0156\n",
      "Epoch 16/50\n",
      "\u001b[1m22511/22511\u001b[0m \u001b[32m━━━━━━━━━━━━━━━━━━━━\u001b[0m\u001b[37m\u001b[0m \u001b[1m34s\u001b[0m 2ms/step - loss: 50421.4180 - val_loss: 47473.8359\n",
      "Epoch 17/50\n",
      "\u001b[1m22511/22511\u001b[0m \u001b[32m━━━━━━━━━━━━━━━━━━━━\u001b[0m\u001b[37m\u001b[0m \u001b[1m35s\u001b[0m 2ms/step - loss: 49457.5078 - val_loss: 46605.5508\n",
      "Epoch 18/50\n",
      "\u001b[1m22511/22511\u001b[0m \u001b[32m━━━━━━━━━━━━━━━━━━━━\u001b[0m\u001b[37m\u001b[0m \u001b[1m36s\u001b[0m 2ms/step - loss: 47848.4570 - val_loss: 46259.3516\n",
      "Epoch 19/50\n",
      "\u001b[1m22511/22511\u001b[0m \u001b[32m━━━━━━━━━━━━━━━━━━━━\u001b[0m\u001b[37m\u001b[0m \u001b[1m36s\u001b[0m 2ms/step - loss: 46668.8047 - val_loss: 49863.7812\n",
      "Epoch 20/50\n",
      "\u001b[1m22511/22511\u001b[0m \u001b[32m━━━━━━━━━━━━━━━━━━━━\u001b[0m\u001b[37m\u001b[0m \u001b[1m36s\u001b[0m 2ms/step - loss: 44489.7852 - val_loss: 48184.8789\n",
      "Epoch 21/50\n",
      "\u001b[1m22511/22511\u001b[0m \u001b[32m━━━━━━━━━━━━━━━━━━━━\u001b[0m\u001b[37m\u001b[0m \u001b[1m36s\u001b[0m 2ms/step - loss: 45914.2148 - val_loss: 47887.2461\n",
      "Epoch 22/50\n",
      "\u001b[1m22511/22511\u001b[0m \u001b[32m━━━━━━━━━━━━━━━━━━━━\u001b[0m\u001b[37m\u001b[0m \u001b[1m36s\u001b[0m 2ms/step - loss: 44276.8438 - val_loss: 48900.5547\n",
      "Epoch 23/50\n",
      "\u001b[1m22511/22511\u001b[0m \u001b[32m━━━━━━━━━━━━━━━━━━━━\u001b[0m\u001b[37m\u001b[0m \u001b[1m41s\u001b[0m 2ms/step - loss: 44916.5156 - val_loss: 49240.4844\n",
      "Epoch 24/50\n",
      "\u001b[1m22511/22511\u001b[0m \u001b[32m━━━━━━━━━━━━━━━━━━━━\u001b[0m\u001b[37m\u001b[0m \u001b[1m51s\u001b[0m 2ms/step - loss: 43295.3281 - val_loss: 41586.6992\n",
      "Epoch 25/50\n",
      "\u001b[1m22511/22511\u001b[0m \u001b[32m━━━━━━━━━━━━━━━━━━━━\u001b[0m\u001b[37m\u001b[0m \u001b[1m35s\u001b[0m 2ms/step - loss: 45069.5273 - val_loss: 44161.9961\n",
      "Epoch 26/50\n",
      "\u001b[1m22511/22511\u001b[0m \u001b[32m━━━━━━━━━━━━━━━━━━━━\u001b[0m\u001b[37m\u001b[0m \u001b[1m36s\u001b[0m 2ms/step - loss: 41986.0000 - val_loss: 40074.6875\n",
      "Epoch 27/50\n",
      "\u001b[1m22511/22511\u001b[0m \u001b[32m━━━━━━━━━━━━━━━━━━━━\u001b[0m\u001b[37m\u001b[0m \u001b[1m35s\u001b[0m 2ms/step - loss: 43732.3633 - val_loss: 39963.5508\n",
      "Epoch 28/50\n",
      "\u001b[1m22511/22511\u001b[0m \u001b[32m━━━━━━━━━━━━━━━━━━━━\u001b[0m\u001b[37m\u001b[0m \u001b[1m38s\u001b[0m 1ms/step - loss: 41667.6484 - val_loss: 39546.0547\n",
      "Epoch 29/50\n",
      "\u001b[1m22511/22511\u001b[0m \u001b[32m━━━━━━━━━━━━━━━━━━━━\u001b[0m\u001b[37m\u001b[0m \u001b[1m38s\u001b[0m 2ms/step - loss: 46126.5352 - val_loss: 38174.2227\n",
      "Epoch 30/50\n",
      "\u001b[1m22511/22511\u001b[0m \u001b[32m━━━━━━━━━━━━━━━━━━━━\u001b[0m\u001b[37m\u001b[0m \u001b[1m39s\u001b[0m 2ms/step - loss: 43317.1953 - val_loss: 39260.3555\n",
      "Epoch 31/50\n",
      "\u001b[1m22511/22511\u001b[0m \u001b[32m━━━━━━━━━━━━━━━━━━━━\u001b[0m\u001b[37m\u001b[0m \u001b[1m36s\u001b[0m 2ms/step - loss: 40518.1133 - val_loss: 36332.0117\n",
      "Epoch 32/50\n",
      "\u001b[1m22511/22511\u001b[0m \u001b[32m━━━━━━━━━━━━━━━━━━━━\u001b[0m\u001b[37m\u001b[0m \u001b[1m37s\u001b[0m 2ms/step - loss: 36768.1211 - val_loss: 40451.5586\n",
      "Epoch 33/50\n",
      "\u001b[1m22511/22511\u001b[0m \u001b[32m━━━━━━━━━━━━━━━━━━━━\u001b[0m\u001b[37m\u001b[0m \u001b[1m37s\u001b[0m 2ms/step - loss: 39284.7070 - val_loss: 35530.7070\n",
      "Epoch 34/50\n",
      "\u001b[1m22511/22511\u001b[0m \u001b[32m━━━━━━━━━━━━━━━━━━━━\u001b[0m\u001b[37m\u001b[0m \u001b[1m37s\u001b[0m 2ms/step - loss: 37867.5117 - val_loss: 37765.1680\n",
      "Epoch 35/50\n",
      "\u001b[1m22511/22511\u001b[0m \u001b[32m━━━━━━━━━━━━━━━━━━━━\u001b[0m\u001b[37m\u001b[0m \u001b[1m36s\u001b[0m 2ms/step - loss: 41639.1328 - val_loss: 37260.8047\n",
      "Epoch 36/50\n",
      "\u001b[1m22511/22511\u001b[0m \u001b[32m━━━━━━━━━━━━━━━━━━━━\u001b[0m\u001b[37m\u001b[0m \u001b[1m36s\u001b[0m 2ms/step - loss: 54919.4648 - val_loss: 35562.0508\n",
      "Epoch 37/50\n",
      "\u001b[1m22511/22511\u001b[0m \u001b[32m━━━━━━━━━━━━━━━━━━━━\u001b[0m\u001b[37m\u001b[0m \u001b[1m36s\u001b[0m 2ms/step - loss: 40905.2852 - val_loss: 35801.1016\n",
      "Epoch 38/50\n",
      "\u001b[1m22511/22511\u001b[0m \u001b[32m━━━━━━━━━━━━━━━━━━━━\u001b[0m\u001b[37m\u001b[0m \u001b[1m37s\u001b[0m 1ms/step - loss: 35440.5859 - val_loss: 36855.4531\n",
      "Epoch 39/50\n",
      "\u001b[1m22511/22511\u001b[0m \u001b[32m━━━━━━━━━━━━━━━━━━━━\u001b[0m\u001b[37m\u001b[0m \u001b[1m37s\u001b[0m 2ms/step - loss: 36689.8359 - val_loss: 36775.2656\n",
      "Epoch 40/50\n",
      "\u001b[1m22511/22511\u001b[0m \u001b[32m━━━━━━━━━━━━━━━━━━━━\u001b[0m\u001b[37m\u001b[0m \u001b[1m37s\u001b[0m 2ms/step - loss: 35964.9844 - val_loss: 37551.6953\n",
      "Epoch 41/50\n",
      "\u001b[1m22511/22511\u001b[0m \u001b[32m━━━━━━━━━━━━━━━━━━━━\u001b[0m\u001b[37m\u001b[0m \u001b[1m37s\u001b[0m 2ms/step - loss: 37829.1953 - val_loss: 37037.5664\n",
      "Epoch 42/50\n",
      "\u001b[1m22511/22511\u001b[0m \u001b[32m━━━━━━━━━━━━━━━━━━━━\u001b[0m\u001b[37m\u001b[0m \u001b[1m37s\u001b[0m 2ms/step - loss: 49654.3555 - val_loss: 37836.2461\n",
      "Epoch 43/50\n",
      "\u001b[1m22511/22511\u001b[0m \u001b[32m━━━━━━━━━━━━━━━━━━━━\u001b[0m\u001b[37m\u001b[0m \u001b[1m36s\u001b[0m 2ms/step - loss: 35041.1953 - val_loss: 34812.3867\n",
      "Epoch 44/50\n",
      "\u001b[1m22511/22511\u001b[0m \u001b[32m━━━━━━━━━━━━━━━━━━━━\u001b[0m\u001b[37m\u001b[0m \u001b[1m36s\u001b[0m 2ms/step - loss: 49425.4492 - val_loss: 35546.6953\n",
      "Epoch 45/50\n",
      "\u001b[1m22511/22511\u001b[0m \u001b[32m━━━━━━━━━━━━━━━━━━━━\u001b[0m\u001b[37m\u001b[0m \u001b[1m36s\u001b[0m 2ms/step - loss: 50172.6562 - val_loss: 35781.8164\n",
      "Epoch 46/50\n",
      "\u001b[1m22511/22511\u001b[0m \u001b[32m━━━━━━━━━━━━━━━━━━━━\u001b[0m\u001b[37m\u001b[0m \u001b[1m41s\u001b[0m 2ms/step - loss: 34084.6445 - val_loss: 35857.2578\n",
      "Epoch 47/50\n",
      "\u001b[1m22511/22511\u001b[0m \u001b[32m━━━━━━━━━━━━━━━━━━━━\u001b[0m\u001b[37m\u001b[0m \u001b[1m37s\u001b[0m 2ms/step - loss: 34925.0078 - val_loss: 34702.4453\n",
      "Epoch 48/50\n",
      "\u001b[1m22511/22511\u001b[0m \u001b[32m━━━━━━━━━━━━━━━━━━━━\u001b[0m\u001b[37m\u001b[0m \u001b[1m39s\u001b[0m 2ms/step - loss: 38938.9219 - val_loss: 34224.4766\n",
      "Epoch 49/50\n",
      "\u001b[1m22511/22511\u001b[0m \u001b[32m━━━━━━━━━━━━━━━━━━━━\u001b[0m\u001b[37m\u001b[0m \u001b[1m37s\u001b[0m 2ms/step - loss: 38504.9570 - val_loss: 34908.8633\n",
      "Epoch 50/50\n",
      "\u001b[1m22511/22511\u001b[0m \u001b[32m━━━━━━━━━━━━━━━━━━━━\u001b[0m\u001b[37m\u001b[0m \u001b[1m36s\u001b[0m 2ms/step - loss: 37744.7109 - val_loss: 33854.1680\n",
      "Epoch 1/50\n"
     ]
    },
    {
     "name": "stderr",
     "output_type": "stream",
     "text": [
      "C:\\Users\\Imran\\anaconda3\\Lib\\site-packages\\keras\\src\\layers\\core\\dense.py:87: UserWarning: Do not pass an `input_shape`/`input_dim` argument to a layer. When using Sequential models, prefer using an `Input(shape)` object as the first layer in the model instead.\n",
      "  super().__init__(activity_regularizer=activity_regularizer, **kwargs)\n"
     ]
    },
    {
     "name": "stdout",
     "output_type": "stream",
     "text": [
      "\u001b[1m10547/10547\u001b[0m \u001b[32m━━━━━━━━━━━━━━━━━━━━\u001b[0m\u001b[37m\u001b[0m \u001b[1m18s\u001b[0m 2ms/step - loss: 141427104.0000 - val_loss: 1788205.3750\n",
      "Epoch 2/50\n",
      "\u001b[1m10547/10547\u001b[0m \u001b[32m━━━━━━━━━━━━━━━━━━━━\u001b[0m\u001b[37m\u001b[0m \u001b[1m16s\u001b[0m 1ms/step - loss: 1432076.3750 - val_loss: 1056500.7500\n",
      "Epoch 3/50\n",
      "\u001b[1m10547/10547\u001b[0m \u001b[32m━━━━━━━━━━━━━━━━━━━━\u001b[0m\u001b[37m\u001b[0m \u001b[1m16s\u001b[0m 1ms/step - loss: 946207.9375 - val_loss: 881767.5000\n",
      "Epoch 4/50\n",
      "\u001b[1m10547/10547\u001b[0m \u001b[32m━━━━━━━━━━━━━━━━━━━━\u001b[0m\u001b[37m\u001b[0m \u001b[1m16s\u001b[0m 1ms/step - loss: 795397.2500 - val_loss: 769546.3750\n",
      "Epoch 5/50\n",
      "\u001b[1m10547/10547\u001b[0m \u001b[32m━━━━━━━━━━━━━━━━━━━━\u001b[0m\u001b[37m\u001b[0m \u001b[1m18s\u001b[0m 2ms/step - loss: 702622.8125 - val_loss: 640318.2500\n",
      "Epoch 6/50\n",
      "\u001b[1m10547/10547\u001b[0m \u001b[32m━━━━━━━━━━━━━━━━━━━━\u001b[0m\u001b[37m\u001b[0m \u001b[1m23s\u001b[0m 2ms/step - loss: 582325.1250 - val_loss: 517361.5000\n",
      "Epoch 7/50\n",
      "\u001b[1m10547/10547\u001b[0m \u001b[32m━━━━━━━━━━━━━━━━━━━━\u001b[0m\u001b[37m\u001b[0m \u001b[1m18s\u001b[0m 2ms/step - loss: 488641.7812 - val_loss: 474331.7188\n",
      "Epoch 8/50\n",
      "\u001b[1m10547/10547\u001b[0m \u001b[32m━━━━━━━━━━━━━━━━━━━━\u001b[0m\u001b[37m\u001b[0m \u001b[1m16s\u001b[0m 2ms/step - loss: 416809.9062 - val_loss: 446852.4375\n",
      "Epoch 9/50\n",
      "\u001b[1m10547/10547\u001b[0m \u001b[32m━━━━━━━━━━━━━━━━━━━━\u001b[0m\u001b[37m\u001b[0m \u001b[1m16s\u001b[0m 2ms/step - loss: 389267.9375 - val_loss: 393599.1250\n",
      "Epoch 10/50\n",
      "\u001b[1m10547/10547\u001b[0m \u001b[32m━━━━━━━━━━━━━━━━━━━━\u001b[0m\u001b[37m\u001b[0m \u001b[1m17s\u001b[0m 2ms/step - loss: 364644.0625 - val_loss: 362022.3750\n",
      "Epoch 11/50\n",
      "\u001b[1m10547/10547\u001b[0m \u001b[32m━━━━━━━━━━━━━━━━━━━━\u001b[0m\u001b[37m\u001b[0m \u001b[1m16s\u001b[0m 2ms/step - loss: 334475.5938 - val_loss: 347954.9062\n",
      "Epoch 12/50\n",
      "\u001b[1m10547/10547\u001b[0m \u001b[32m━━━━━━━━━━━━━━━━━━━━\u001b[0m\u001b[37m\u001b[0m \u001b[1m17s\u001b[0m 2ms/step - loss: 315326.2500 - val_loss: 342473.6875\n",
      "Epoch 13/50\n",
      "\u001b[1m10547/10547\u001b[0m \u001b[32m━━━━━━━━━━━━━━━━━━━━\u001b[0m\u001b[37m\u001b[0m \u001b[1m17s\u001b[0m 2ms/step - loss: 297178.8750 - val_loss: 333345.8438\n",
      "Epoch 14/50\n",
      "\u001b[1m10547/10547\u001b[0m \u001b[32m━━━━━━━━━━━━━━━━━━━━\u001b[0m\u001b[37m\u001b[0m \u001b[1m17s\u001b[0m 2ms/step - loss: 313828.7812 - val_loss: 321611.7500\n",
      "Epoch 15/50\n",
      "\u001b[1m10547/10547\u001b[0m \u001b[32m━━━━━━━━━━━━━━━━━━━━\u001b[0m\u001b[37m\u001b[0m \u001b[1m16s\u001b[0m 2ms/step - loss: 287763.2812 - val_loss: 317199.2812\n",
      "Epoch 16/50\n",
      "\u001b[1m10547/10547\u001b[0m \u001b[32m━━━━━━━━━━━━━━━━━━━━\u001b[0m\u001b[37m\u001b[0m \u001b[1m17s\u001b[0m 2ms/step - loss: 273791.3438 - val_loss: 291474.9062\n",
      "Epoch 17/50\n",
      "\u001b[1m10547/10547\u001b[0m \u001b[32m━━━━━━━━━━━━━━━━━━━━\u001b[0m\u001b[37m\u001b[0m \u001b[1m16s\u001b[0m 2ms/step - loss: 260318.4688 - val_loss: 263778.0625\n",
      "Epoch 18/50\n",
      "\u001b[1m10547/10547\u001b[0m \u001b[32m━━━━━━━━━━━━━━━━━━━━\u001b[0m\u001b[37m\u001b[0m \u001b[1m16s\u001b[0m 2ms/step - loss: 240656.3594 - val_loss: 252283.8594\n",
      "Epoch 19/50\n",
      "\u001b[1m10547/10547\u001b[0m \u001b[32m━━━━━━━━━━━━━━━━━━━━\u001b[0m\u001b[37m\u001b[0m \u001b[1m17s\u001b[0m 2ms/step - loss: 240407.0000 - val_loss: 240930.2656\n",
      "Epoch 20/50\n",
      "\u001b[1m10547/10547\u001b[0m \u001b[32m━━━━━━━━━━━━━━━━━━━━\u001b[0m\u001b[37m\u001b[0m \u001b[1m16s\u001b[0m 2ms/step - loss: 232001.3438 - val_loss: 240375.1875\n",
      "Epoch 21/50\n",
      "\u001b[1m10547/10547\u001b[0m \u001b[32m━━━━━━━━━━━━━━━━━━━━\u001b[0m\u001b[37m\u001b[0m \u001b[1m16s\u001b[0m 2ms/step - loss: 224751.7812 - val_loss: 235767.2969\n",
      "Epoch 22/50\n",
      "\u001b[1m10547/10547\u001b[0m \u001b[32m━━━━━━━━━━━━━━━━━━━━\u001b[0m\u001b[37m\u001b[0m \u001b[1m18s\u001b[0m 2ms/step - loss: 224277.2188 - val_loss: 229810.1875\n",
      "Epoch 23/50\n",
      "\u001b[1m10547/10547\u001b[0m \u001b[32m━━━━━━━━━━━━━━━━━━━━\u001b[0m\u001b[37m\u001b[0m \u001b[1m18s\u001b[0m 2ms/step - loss: 219547.8438 - val_loss: 224869.3594\n",
      "Epoch 24/50\n",
      "\u001b[1m10547/10547\u001b[0m \u001b[32m━━━━━━━━━━━━━━━━━━━━\u001b[0m\u001b[37m\u001b[0m \u001b[1m18s\u001b[0m 2ms/step - loss: 215267.7656 - val_loss: 227931.6250\n",
      "Epoch 25/50\n",
      "\u001b[1m10547/10547\u001b[0m \u001b[32m━━━━━━━━━━━━━━━━━━━━\u001b[0m\u001b[37m\u001b[0m \u001b[1m18s\u001b[0m 2ms/step - loss: 218623.0938 - val_loss: 223856.7188\n",
      "Epoch 26/50\n",
      "\u001b[1m10547/10547\u001b[0m \u001b[32m━━━━━━━━━━━━━━━━━━━━\u001b[0m\u001b[37m\u001b[0m \u001b[1m16s\u001b[0m 2ms/step - loss: 204072.6719 - val_loss: 217287.1875\n",
      "Epoch 27/50\n",
      "\u001b[1m10547/10547\u001b[0m \u001b[32m━━━━━━━━━━━━━━━━━━━━\u001b[0m\u001b[37m\u001b[0m \u001b[1m17s\u001b[0m 2ms/step - loss: 206245.2188 - val_loss: 216317.2344\n",
      "Epoch 28/50\n",
      "\u001b[1m10547/10547\u001b[0m \u001b[32m━━━━━━━━━━━━━━━━━━━━\u001b[0m\u001b[37m\u001b[0m \u001b[1m17s\u001b[0m 2ms/step - loss: 206637.9844 - val_loss: 242573.0938\n",
      "Epoch 29/50\n",
      "\u001b[1m10547/10547\u001b[0m \u001b[32m━━━━━━━━━━━━━━━━━━━━\u001b[0m\u001b[37m\u001b[0m \u001b[1m17s\u001b[0m 2ms/step - loss: 201418.5469 - val_loss: 209248.6562\n",
      "Epoch 30/50\n",
      "\u001b[1m10547/10547\u001b[0m \u001b[32m━━━━━━━━━━━━━━━━━━━━\u001b[0m\u001b[37m\u001b[0m \u001b[1m17s\u001b[0m 2ms/step - loss: 213306.2031 - val_loss: 213695.3125\n",
      "Epoch 31/50\n",
      "\u001b[1m10547/10547\u001b[0m \u001b[32m━━━━━━━━━━━━━━━━━━━━\u001b[0m\u001b[37m\u001b[0m \u001b[1m18s\u001b[0m 2ms/step - loss: 211258.5781 - val_loss: 204208.8281\n",
      "Epoch 32/50\n",
      "\u001b[1m10547/10547\u001b[0m \u001b[32m━━━━━━━━━━━━━━━━━━━━\u001b[0m\u001b[37m\u001b[0m \u001b[1m16s\u001b[0m 2ms/step - loss: 201420.3750 - val_loss: 208471.0156\n",
      "Epoch 33/50\n",
      "\u001b[1m10547/10547\u001b[0m \u001b[32m━━━━━━━━━━━━━━━━━━━━\u001b[0m\u001b[37m\u001b[0m \u001b[1m17s\u001b[0m 2ms/step - loss: 203392.8594 - val_loss: 204891.9688\n",
      "Epoch 34/50\n",
      "\u001b[1m10547/10547\u001b[0m \u001b[32m━━━━━━━━━━━━━━━━━━━━\u001b[0m\u001b[37m\u001b[0m \u001b[1m17s\u001b[0m 2ms/step - loss: 199639.4844 - val_loss: 224450.8281\n",
      "Epoch 35/50\n",
      "\u001b[1m10547/10547\u001b[0m \u001b[32m━━━━━━━━━━━━━━━━━━━━\u001b[0m\u001b[37m\u001b[0m \u001b[1m16s\u001b[0m 2ms/step - loss: 195916.7031 - val_loss: 203926.5156\n",
      "Epoch 36/50\n",
      "\u001b[1m10547/10547\u001b[0m \u001b[32m━━━━━━━━━━━━━━━━━━━━\u001b[0m\u001b[37m\u001b[0m \u001b[1m17s\u001b[0m 2ms/step - loss: 189894.1406 - val_loss: 196525.0000\n",
      "Epoch 37/50\n",
      "\u001b[1m10547/10547\u001b[0m \u001b[32m━━━━━━━━━━━━━━━━━━━━\u001b[0m\u001b[37m\u001b[0m \u001b[1m17s\u001b[0m 2ms/step - loss: 190618.4219 - val_loss: 204086.5312\n",
      "Epoch 38/50\n",
      "\u001b[1m10547/10547\u001b[0m \u001b[32m━━━━━━━━━━━━━━━━━━━━\u001b[0m\u001b[37m\u001b[0m \u001b[1m17s\u001b[0m 2ms/step - loss: 188077.7656 - val_loss: 196801.9688\n",
      "Epoch 39/50\n",
      "\u001b[1m10547/10547\u001b[0m \u001b[32m━━━━━━━━━━━━━━━━━━━━\u001b[0m\u001b[37m\u001b[0m \u001b[1m18s\u001b[0m 2ms/step - loss: 188388.7500 - val_loss: 203850.8438\n",
      "Epoch 40/50\n",
      "\u001b[1m10547/10547\u001b[0m \u001b[32m━━━━━━━━━━━━━━━━━━━━\u001b[0m\u001b[37m\u001b[0m \u001b[1m17s\u001b[0m 2ms/step - loss: 180289.7812 - val_loss: 196553.8906\n",
      "Epoch 41/50\n",
      "\u001b[1m10547/10547\u001b[0m \u001b[32m━━━━━━━━━━━━━━━━━━━━\u001b[0m\u001b[37m\u001b[0m \u001b[1m17s\u001b[0m 2ms/step - loss: 182400.8281 - val_loss: 200628.4844\n",
      "Epoch 42/50\n",
      "\u001b[1m10547/10547\u001b[0m \u001b[32m━━━━━━━━━━━━━━━━━━━━\u001b[0m\u001b[37m\u001b[0m \u001b[1m17s\u001b[0m 2ms/step - loss: 189713.4062 - val_loss: 187772.2969\n",
      "Epoch 43/50\n",
      "\u001b[1m10547/10547\u001b[0m \u001b[32m━━━━━━━━━━━━━━━━━━━━\u001b[0m\u001b[37m\u001b[0m \u001b[1m17s\u001b[0m 2ms/step - loss: 181098.5625 - val_loss: 190507.6875\n",
      "Epoch 44/50\n",
      "\u001b[1m10547/10547\u001b[0m \u001b[32m━━━━━━━━━━━━━━━━━━━━\u001b[0m\u001b[37m\u001b[0m \u001b[1m17s\u001b[0m 2ms/step - loss: 181007.6406 - val_loss: 198345.3438\n",
      "Epoch 45/50\n",
      "\u001b[1m10547/10547\u001b[0m \u001b[32m━━━━━━━━━━━━━━━━━━━━\u001b[0m\u001b[37m\u001b[0m \u001b[1m17s\u001b[0m 2ms/step - loss: 180915.4688 - val_loss: 188216.7969\n",
      "Epoch 46/50\n",
      "\u001b[1m10547/10547\u001b[0m \u001b[32m━━━━━━━━━━━━━━━━━━━━\u001b[0m\u001b[37m\u001b[0m \u001b[1m17s\u001b[0m 2ms/step - loss: 188368.8281 - val_loss: 189751.0469\n",
      "Epoch 47/50\n",
      "\u001b[1m10547/10547\u001b[0m \u001b[32m━━━━━━━━━━━━━━━━━━━━\u001b[0m\u001b[37m\u001b[0m \u001b[1m17s\u001b[0m 2ms/step - loss: 186091.6719 - val_loss: 185471.2188\n",
      "Epoch 48/50\n",
      "\u001b[1m10547/10547\u001b[0m \u001b[32m━━━━━━━━━━━━━━━━━━━━\u001b[0m\u001b[37m\u001b[0m \u001b[1m17s\u001b[0m 2ms/step - loss: 173348.3750 - val_loss: 187267.9531\n",
      "Epoch 49/50\n",
      "\u001b[1m10547/10547\u001b[0m \u001b[32m━━━━━━━━━━━━━━━━━━━━\u001b[0m\u001b[37m\u001b[0m \u001b[1m17s\u001b[0m 2ms/step - loss: 171140.7188 - val_loss: 184629.8906\n",
      "Epoch 50/50\n",
      "\u001b[1m10547/10547\u001b[0m \u001b[32m━━━━━━━━━━━━━━━━━━━━\u001b[0m\u001b[37m\u001b[0m \u001b[1m19s\u001b[0m 2ms/step - loss: 171632.6406 - val_loss: 183997.9688\n"
     ]
    }
   ],
   "source": [
    "# Train an ANN for each cluster\n",
    "ann_models = {}\n",
    "for cluster in range(3):\n",
    "    cluster_data = features_km[features_km['cluster'] == cluster]\n",
    "    ann_models[cluster] = train_ann_on_cluster(cluster_data)"
   ]
  },
  {
   "cell_type": "code",
   "execution_count": 16,
   "id": "e382141b-5e9e-4682-8035-1092c8bc840b",
   "metadata": {
    "execution": {
     "iopub.execute_input": "2024-06-17T14:07:44.553453Z",
     "iopub.status.busy": "2024-06-17T14:07:44.553453Z",
     "iopub.status.idle": "2024-06-17T14:07:44.559583Z",
     "shell.execute_reply": "2024-06-17T14:07:44.558336Z",
     "shell.execute_reply.started": "2024-06-17T14:07:44.553453Z"
    },
    "tags": []
   },
   "outputs": [],
   "source": [
    "import numpy as np\n",
    "from sklearn.metrics import mean_squared_error, mean_absolute_error, r2_score"
   ]
  },
  {
   "cell_type": "code",
   "execution_count": 17,
   "id": "73f352cb-a5a7-4de8-87a2-6ddaf76b6694",
   "metadata": {
    "execution": {
     "iopub.execute_input": "2024-06-17T14:07:44.561782Z",
     "iopub.status.busy": "2024-06-17T14:07:44.561782Z",
     "iopub.status.idle": "2024-06-17T14:07:44.732171Z",
     "shell.execute_reply": "2024-06-17T14:07:44.730744Z",
     "shell.execute_reply.started": "2024-06-17T14:07:44.561782Z"
    },
    "tags": []
   },
   "outputs": [],
   "source": [
    "# Assign each sample in the test set to a cluster\n",
    "test_clusters = kmeans.predict(X_test)\n",
    "\n",
    "# Initialize an array to hold the predictions\n",
    "combined_predictions = np.zeros_like(y_test)"
   ]
  },
  {
   "cell_type": "code",
   "execution_count": 18,
   "id": "e0407e7d-3fde-4793-9696-b86cb4d39a96",
   "metadata": {
    "execution": {
     "iopub.execute_input": "2024-06-17T14:07:44.736252Z",
     "iopub.status.busy": "2024-06-17T14:07:44.735252Z",
     "iopub.status.idle": "2024-06-17T14:07:59.647070Z",
     "shell.execute_reply": "2024-06-17T14:07:59.646038Z",
     "shell.execute_reply.started": "2024-06-17T14:07:44.736252Z"
    },
    "tags": []
   },
   "outputs": [
    {
     "name": "stdout",
     "output_type": "stream",
     "text": [
      "\u001b[1m161/161\u001b[0m \u001b[32m━━━━━━━━━━━━━━━━━━━━\u001b[0m\u001b[37m\u001b[0m \u001b[1m1s\u001b[0m 3ms/step\n",
      "\u001b[1m5628/5628\u001b[0m \u001b[32m━━━━━━━━━━━━━━━━━━━━\u001b[0m\u001b[37m\u001b[0m \u001b[1m7s\u001b[0m 1ms/step\n",
      "\u001b[1m2638/2638\u001b[0m \u001b[32m━━━━━━━━━━━━━━━━━━━━\u001b[0m\u001b[37m\u001b[0m \u001b[1m3s\u001b[0m 991us/step\n",
      "Combined Model MSE: 82405.15245603336\n",
      "Combined Model RMSE: 287.06297646341187\n",
      "Combined Model MAE: 109.5761279781523\n",
      "Combined Model R²: 0.9991039389375662\n"
     ]
    }
   ],
   "source": [
    "# Make predictions using the corresponding model for each cluster\n",
    "for cluster in range(3):\n",
    "    cluster_indices = np.where(test_clusters == cluster)[0]\n",
    "    if len(cluster_indices) > 0:\n",
    "        X_cluster = X_test[cluster_indices]  # Use NumPy indexing\n",
    "        model = ann_models[cluster]\n",
    "        combined_predictions[cluster_indices] = model.predict(X_cluster).flatten()\n",
    "\n",
    "# Evaluate the combined performance\n",
    "combined_mse = mean_squared_error(y_test, combined_predictions)\n",
    "combined_rmse = np.sqrt(combined_mse)\n",
    "combined_mae = mean_absolute_error(y_test, combined_predictions)\n",
    "combined_r2 = r2_score(y_test, combined_predictions)\n",
    "\n",
    "print(f'Combined Model MSE: {combined_mse}')\n",
    "print(f'Combined Model RMSE: {combined_rmse}')\n",
    "print(f'Combined Model MAE: {combined_mae}')\n",
    "print(f'Combined Model R²: {combined_r2}')"
   ]
  },
  {
   "cell_type": "code",
   "execution_count": 19,
   "id": "731b1d3e-b92f-446c-8019-dcd8c3f2c355",
   "metadata": {
    "execution": {
     "iopub.execute_input": "2024-06-17T14:07:59.650052Z",
     "iopub.status.busy": "2024-06-17T14:07:59.649053Z",
     "iopub.status.idle": "2024-06-17T14:08:10.668297Z",
     "shell.execute_reply": "2024-06-17T14:08:10.667275Z",
     "shell.execute_reply.started": "2024-06-17T14:07:59.650052Z"
    },
    "tags": []
   },
   "outputs": [
    {
     "name": "stdout",
     "output_type": "stream",
     "text": [
      "\u001b[1m8426/8426\u001b[0m \u001b[32m━━━━━━━━━━━━━━━━━━━━\u001b[0m\u001b[37m\u001b[0m \u001b[1m8s\u001b[0m 930us/step\n",
      "Single Model MSE: 79860.400643655\n",
      "Single Model RMSE: 282.5958255948856\n",
      "Single Model MAE: 123.22853169901775\n",
      "Single Model R²: 0.999131610180743\n"
     ]
    }
   ],
   "source": [
    "# Make predictions using the single model\n",
    "single_predictions = single_model.predict(X_test).flatten()\n",
    "\n",
    "# Evaluate the performance\n",
    "single_mse = mean_squared_error(y_test, single_predictions)\n",
    "single_rmse = np.sqrt(single_mse)\n",
    "single_mae = mean_absolute_error(y_test, single_predictions)\n",
    "single_r2 = r2_score(y_test, single_predictions)\n",
    "\n",
    "print(f'Single Model MSE: {single_mse}')\n",
    "print(f'Single Model RMSE: {single_rmse}')\n",
    "print(f'Single Model MAE: {single_mae}')\n",
    "print(f'Single Model R²: {single_r2}')"
   ]
  },
  {
   "cell_type": "code",
   "execution_count": 20,
   "id": "73f1b19f-f7e1-42ab-812b-9afdbade4733",
   "metadata": {
    "execution": {
     "iopub.execute_input": "2024-06-17T14:08:10.670307Z",
     "iopub.status.busy": "2024-06-17T14:08:10.670307Z",
     "iopub.status.idle": "2024-06-17T14:08:10.677095Z",
     "shell.execute_reply": "2024-06-17T14:08:10.676086Z",
     "shell.execute_reply.started": "2024-06-17T14:08:10.670307Z"
    }
   },
   "outputs": [],
   "source": [
    "#create a dataframe of scores\n",
    "performance_metrics = pd.DataFrame({\n",
    "    'Metric': ['MSE', 'RMSE', 'MAE', 'R²'],\n",
    "    'Single Model': [single_mse, single_rmse, single_mae, single_r2],\n",
    "    'Combined Model': [combined_mse, combined_rmse, combined_mae, combined_r2]\n",
    "})"
   ]
  },
  {
   "cell_type": "code",
   "execution_count": 21,
   "id": "4836646b-1476-4f9c-a69f-0c36609dff3a",
   "metadata": {
    "execution": {
     "iopub.execute_input": "2024-06-17T14:08:10.678610Z",
     "iopub.status.busy": "2024-06-17T14:08:10.678610Z",
     "iopub.status.idle": "2024-06-17T14:08:10.702152Z",
     "shell.execute_reply": "2024-06-17T14:08:10.701143Z",
     "shell.execute_reply.started": "2024-06-17T14:08:10.678610Z"
    }
   },
   "outputs": [],
   "source": [
    "# Export the performance metrics to a CSV file\n",
    "performance_metrics.to_csv('performance_metrics_Original_ANN.csv', index=False)"
   ]
  },
  {
   "cell_type": "code",
   "execution_count": 22,
   "id": "1e6a932f-b11b-4a03-9d0c-7659cc296b6a",
   "metadata": {
    "execution": {
     "iopub.execute_input": "2024-06-17T14:08:10.703152Z",
     "iopub.status.busy": "2024-06-17T14:08:10.703152Z",
     "iopub.status.idle": "2024-06-17T14:08:10.718735Z",
     "shell.execute_reply": "2024-06-17T14:08:10.717339Z",
     "shell.execute_reply.started": "2024-06-17T14:08:10.703152Z"
    }
   },
   "outputs": [
    {
     "name": "stdout",
     "output_type": "stream",
     "text": [
      "Feature 33: Importance 5.3442606925964355\n",
      "Feature 4: Importance 4.67896842956543\n",
      "Feature 21: Importance 3.6800696849823\n",
      "Feature 16: Importance 3.2387373447418213\n",
      "Feature 45: Importance 3.0146641731262207\n"
     ]
    }
   ],
   "source": [
    "# Get the weights of the connections between input and hidden layers\n",
    "weights_input_hidden = single_model.layers[0].get_weights()[0]\n",
    "\n",
    "# Compute feature importances based on the weights\n",
    "importances = np.mean(np.abs(weights_input_hidden), axis=1)\n",
    "\n",
    "# Get the indices that would sort the importances array in descending order\n",
    "sorted_indices = np.argsort(importances)[::-1]\n",
    "\n",
    "# Display top 5 feature importance\n",
    "top_n = 5\n",
    "for i in range(top_n):\n",
    "    print(f\"Feature {sorted_indices[i]}: Importance {importances[sorted_indices[i]]}\")"
   ]
  },
  {
   "cell_type": "code",
   "execution_count": 23,
   "id": "87a87f5a-ae4e-40ad-8019-846e98431fc9",
   "metadata": {
    "execution": {
     "iopub.execute_input": "2024-06-17T14:08:10.720778Z",
     "iopub.status.busy": "2024-06-17T14:08:10.720778Z",
     "iopub.status.idle": "2024-06-17T14:08:10.957932Z",
     "shell.execute_reply": "2024-06-17T14:08:10.956922Z",
     "shell.execute_reply.started": "2024-06-17T14:08:10.720778Z"
    }
   },
   "outputs": [
    {
     "data": {
      "image/png": "[encoded data removed]",
      "text/plain": [
       "<Figure size 800x500 with 1 Axes>"
      ]
     },
     "metadata": {},
     "output_type": "display_data"
    }
   ],
   "source": [
    "# Define colors for bars\n",
    "colors = ['blue', 'green', 'red', 'orange', 'purple']\n",
    "\n",
    "# Plot horizontal bar chart of top 5 feature importances with different colors\n",
    "top_n = 5\n",
    "plt.figure(figsize=(8, 5))\n",
    "plt.barh(range(top_n), importances[sorted_indices][:top_n], align='center', color=colors)\n",
    "plt.yticks(range(top_n), sorted_indices[:top_n])\n",
    "plt.xlabel('Importance')\n",
    "plt.ylabel('Feature Index')\n",
    "plt.title('Top 5 Feature Importances')\n",
    "plt.show()"
   ]
  },
  {
   "cell_type": "code",
   "execution_count": 65,
   "id": "5d34d901-583d-46a7-ad55-386a8210c09e",
   "metadata": {
    "execution": {
     "iopub.execute_input": "2024-06-19T20:49:46.667303Z",
     "iopub.status.busy": "2024-06-19T20:49:46.666304Z",
     "iopub.status.idle": "2024-06-19T20:49:46.738666Z",
     "shell.execute_reply": "2024-06-19T20:49:46.737296Z",
     "shell.execute_reply.started": "2024-06-19T20:49:46.667303Z"
    }
   },
   "outputs": [
    {
     "name": "stdout",
     "output_type": "stream",
     "text": [
      "Index(['recoveries', 'collection_recovery_fee', 'loan_amnt', 'installment',\n",
      "       'total_rec_prncp'],\n",
      "      dtype='object')\n"
     ]
    }
   ],
   "source": [
    "colnames = data.columns[[33, 4, 21, 16, 45]]\n",
    "print(colnames)"
   ]
  },
  {
   "cell_type": "code",
   "execution_count": 24,
   "id": "19e1c4e2-1ec0-454d-aef1-9e1273e3d032",
   "metadata": {
    "execution": {
     "iopub.execute_input": "2024-06-17T14:08:10.960052Z",
     "iopub.status.busy": "2024-06-17T14:08:10.958940Z",
     "iopub.status.idle": "2024-06-17T14:08:10.970423Z",
     "shell.execute_reply": "2024-06-17T14:08:10.968580Z",
     "shell.execute_reply.started": "2024-06-17T14:08:10.960052Z"
    }
   },
   "outputs": [
    {
     "name": "stdout",
     "output_type": "stream",
     "text": [
      "Feature 33: Importance 4.829290390014648\n",
      "Feature 4: Importance 4.304861068725586\n",
      "Feature 21: Importance 3.934108018875122\n",
      "Feature 47: Importance 3.6284866333007812\n",
      "Feature 3: Importance 3.616558313369751\n"
     ]
    }
   ],
   "source": [
    "# Get the weights of the connections between input and hidden layers\n",
    "weights_input_hidden = model.layers[0].get_weights()[0]\n",
    "\n",
    "# Compute feature importances based on the weights\n",
    "importances = np.mean(np.abs(weights_input_hidden), axis=1)\n",
    "\n",
    "# Get the indices that would sort the importances array in descending order\n",
    "sorted_indices = np.argsort(importances)[::-1]\n",
    "\n",
    "# Display top 5 feature importance\n",
    "top_n = 5\n",
    "for i in range(top_n):\n",
    "    print(f\"Feature {sorted_indices[i]}: Importance {importances[sorted_indices[i]]}\")"
   ]
  },
  {
   "cell_type": "code",
   "execution_count": 25,
   "id": "a81bb16e-a6a2-421d-aaaa-2140504478fe",
   "metadata": {
    "execution": {
     "iopub.execute_input": "2024-06-17T14:08:10.972920Z",
     "iopub.status.busy": "2024-06-17T14:08:10.971907Z",
     "iopub.status.idle": "2024-06-17T14:08:11.097040Z",
     "shell.execute_reply": "2024-06-17T14:08:11.095973Z",
     "shell.execute_reply.started": "2024-06-17T14:08:10.972920Z"
    },
    "scrolled": true
   },
   "outputs": [
    {
     "data": {
      "image/png": "[encoded data removed]",
      "text/plain": [
       "<Figure size 800x500 with 1 Axes>"
      ]
     },
     "metadata": {},
     "output_type": "display_data"
    }
   ],
   "source": [
    "# Define colors for bars\n",
    "colors = ['blue', 'green', 'red', 'orange', 'purple']\n",
    "\n",
    "# Plot horizontal bar chart of top 5 feature importances with different colors\n",
    "top_n = 5\n",
    "plt.figure(figsize=(8, 5))\n",
    "plt.barh(range(top_n), importances[sorted_indices][:top_n], align='center', color=colors)\n",
    "plt.yticks(range(top_n), sorted_indices[:top_n])\n",
    "plt.xlabel('Importance')\n",
    "plt.ylabel('Feature Index')\n",
    "plt.title('Top 5 Feature Importances')\n",
    "plt.show()"
   ]
  },
  {
   "cell_type": "code",
   "execution_count": 67,
   "id": "53c1b34d-6245-4544-8b29-091b1a3389d8",
   "metadata": {
    "execution": {
     "iopub.execute_input": "2024-06-19T20:50:13.896391Z",
     "iopub.status.busy": "2024-06-19T20:50:13.895372Z",
     "iopub.status.idle": "2024-06-19T20:50:13.908289Z",
     "shell.execute_reply": "2024-06-19T20:50:13.907279Z",
     "shell.execute_reply.started": "2024-06-19T20:50:13.896391Z"
    }
   },
   "outputs": [
    {
     "name": "stdout",
     "output_type": "stream",
     "text": [
      "Index(['recoveries', 'collection_recovery_fee', 'loan_amnt',\n",
      "       'application_type_OrdinalEncoded', 'annual_inc_joint'],\n",
      "      dtype='object')\n"
     ]
    }
   ],
   "source": [
    "colnames = data.columns[[33, 4, 21, 47, 3]]\n",
    "print(colnames)"
   ]
  }
 ],
 "metadata": {
  "kernelspec": {
   "display_name": "Python 3 (ipykernel)",
   "language": "python",
   "name": "python3"
  },
  "language_info": {
   "codemirror_mode": {
    "name": "ipython",
    "version": 3
   },
   "file_extension": ".py",
   "mimetype": "text/x-python",
   "name": "python",
   "nbconvert_exporter": "python",
   "pygments_lexer": "ipython3",
   "version": "3.11.7"
  }
 },
 "nbformat": 4,
 "nbformat_minor": 5
}
