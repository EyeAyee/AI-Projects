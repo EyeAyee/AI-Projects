{
 "cells": [
  {
   "cell_type": "code",
   "execution_count": 1,
   "id": "bf174c15-f851-402c-adf2-dccff4e5ab1c",
   "metadata": {
    "execution": {
     "iopub.execute_input": "2024-06-18T17:13:54.480562Z",
     "iopub.status.busy": "2024-06-18T17:13:54.480562Z",
     "iopub.status.idle": "2024-06-18T17:14:00.660390Z",
     "shell.execute_reply": "2024-06-18T17:14:00.660390Z",
     "shell.execute_reply.started": "2024-06-18T17:13:54.480562Z"
    },
    "tags": []
   },
   "outputs": [],
   "source": [
    "import pandas as pd\n",
    "from sklearn.cluster import KMeans\n",
    "from tensorflow.keras.models import Sequential\n",
    "from tensorflow.keras.layers import Dense\n",
    "from sklearn.model_selection import train_test_split"
   ]
  },
  {
   "cell_type": "code",
   "execution_count": 2,
   "id": "cec53699-98db-4337-8b01-d7994f9b92f1",
   "metadata": {
    "execution": {
     "iopub.execute_input": "2024-06-18T17:14:00.661533Z",
     "iopub.status.busy": "2024-06-18T17:14:00.661533Z",
     "iopub.status.idle": "2024-06-18T17:14:10.885406Z",
     "shell.execute_reply": "2024-06-18T17:14:10.885406Z",
     "shell.execute_reply.started": "2024-06-18T17:14:00.661533Z"
    },
    "tags": []
   },
   "outputs": [],
   "source": [
    "# Load your dataset\n",
    "data = pd.read_csv('C:/Users/Imran/OneDrive - Ontario Tech University/Documents/Capstone/pca_df_36.csv')\n"
   ]
  },
  {
   "cell_type": "code",
   "execution_count": 3,
   "id": "b63ff85a-e04c-4d75-aad3-6e6c2bac0214",
   "metadata": {
    "execution": {
     "iopub.execute_input": "2024-06-18T17:14:10.887416Z",
     "iopub.status.busy": "2024-06-18T17:14:10.886417Z",
     "iopub.status.idle": "2024-06-18T17:14:33.487661Z",
     "shell.execute_reply": "2024-06-18T17:14:33.486128Z",
     "shell.execute_reply.started": "2024-06-18T17:14:10.887416Z"
    },
    "tags": []
   },
   "outputs": [],
   "source": [
    "dataobj = pd.read_csv('C:/Users/Imran/OneDrive - Ontario Tech University/Documents/Capstone/standardized.csv')"
   ]
  },
  {
   "cell_type": "code",
   "execution_count": 4,
   "id": "601beb20-0985-49d1-823f-51441f02522e",
   "metadata": {
    "execution": {
     "iopub.execute_input": "2024-06-18T17:14:33.489666Z",
     "iopub.status.busy": "2024-06-18T17:14:33.489666Z",
     "iopub.status.idle": "2024-06-18T17:14:33.499349Z",
     "shell.execute_reply": "2024-06-18T17:14:33.498131Z",
     "shell.execute_reply.started": "2024-06-18T17:14:33.489666Z"
    },
    "tags": []
   },
   "outputs": [],
   "source": [
    "data['rar'] = dataobj['rar']"
   ]
  },
  {
   "cell_type": "code",
   "execution_count": 5,
   "id": "1fa6dd55-b260-4457-bf08-53aebe4c6c5e",
   "metadata": {
    "execution": {
     "iopub.execute_input": "2024-06-18T17:14:33.501362Z",
     "iopub.status.busy": "2024-06-18T17:14:33.500362Z",
     "iopub.status.idle": "2024-06-18T17:14:33.704595Z",
     "shell.execute_reply": "2024-06-18T17:14:33.703544Z",
     "shell.execute_reply.started": "2024-06-18T17:14:33.501362Z"
    },
    "tags": []
   },
   "outputs": [],
   "source": [
    "data = data.drop('Unnamed: 0', axis=1)\n"
   ]
  },
  {
   "cell_type": "code",
   "execution_count": 6,
   "id": "b92204a9-aa35-4b81-a7c9-6c8d2d64a8a1",
   "metadata": {
    "execution": {
     "iopub.execute_input": "2024-06-18T17:14:33.706656Z",
     "iopub.status.busy": "2024-06-18T17:14:33.706656Z",
     "iopub.status.idle": "2024-06-18T17:14:33.713933Z",
     "shell.execute_reply": "2024-06-18T17:14:33.711890Z",
     "shell.execute_reply.started": "2024-06-18T17:14:33.706656Z"
    },
    "tags": []
   },
   "outputs": [],
   "source": [
    "labels = data['rar']"
   ]
  },
  {
   "cell_type": "code",
   "execution_count": 7,
   "id": "984a4c5d-825f-45bc-9dc0-e43b6618284e",
   "metadata": {
    "execution": {
     "iopub.execute_input": "2024-06-18T17:14:33.715940Z",
     "iopub.status.busy": "2024-06-18T17:14:33.715434Z",
     "iopub.status.idle": "2024-06-18T17:14:33.886148Z",
     "shell.execute_reply": "2024-06-18T17:14:33.884195Z",
     "shell.execute_reply.started": "2024-06-18T17:14:33.715940Z"
    },
    "tags": []
   },
   "outputs": [],
   "source": [
    "features = data.drop('rar', axis=1)\n"
   ]
  },
  {
   "cell_type": "markdown",
   "id": "f9023d90-d4f4-465f-a708-f8a1394741c9",
   "metadata": {},
   "source": [
    "### Creating an individual model"
   ]
  },
  {
   "cell_type": "code",
   "execution_count": 9,
   "id": "822ddde3-d351-4f5b-8fa3-df084303f1b9",
   "metadata": {
    "execution": {
     "iopub.execute_input": "2024-06-18T17:14:33.941398Z",
     "iopub.status.busy": "2024-06-18T17:14:33.940376Z",
     "iopub.status.idle": "2024-06-18T18:01:01.146397Z",
     "shell.execute_reply": "2024-06-18T18:01:01.146397Z",
     "shell.execute_reply.started": "2024-06-18T17:14:33.941398Z"
    },
    "tags": []
   },
   "outputs": [
    {
     "name": "stderr",
     "output_type": "stream",
     "text": [
      "C:\\Users\\Imran\\anaconda3\\Lib\\site-packages\\keras\\src\\layers\\core\\dense.py:87: UserWarning: Do not pass an `input_shape`/`input_dim` argument to a layer. When using Sequential models, prefer using an `Input(shape)` object as the first layer in the model instead.\n",
      "  super().__init__(activity_regularizer=activity_regularizer, **kwargs)\n"
     ]
    },
    {
     "name": "stdout",
     "output_type": "stream",
     "text": [
      "Epoch 1/50\n",
      "\u001b[1m33702/33702\u001b[0m \u001b[32m━━━━━━━━━━━━━━━━━━━━\u001b[0m\u001b[37m\u001b[0m \u001b[1m54s\u001b[0m 2ms/step - loss: 34269128.0000 - val_loss: 3824547.5000\n",
      "Epoch 2/50\n",
      "\u001b[1m33702/33702\u001b[0m \u001b[32m━━━━━━━━━━━━━━━━━━━━\u001b[0m\u001b[37m\u001b[0m \u001b[1m53s\u001b[0m 2ms/step - loss: 3502944.2500 - val_loss: 2871039.2500\n",
      "Epoch 3/50\n",
      "\u001b[1m33702/33702\u001b[0m \u001b[32m━━━━━━━━━━━━━━━━━━━━\u001b[0m\u001b[37m\u001b[0m \u001b[1m48s\u001b[0m 1ms/step - loss: 2746582.2500 - val_loss: 2476169.2500\n",
      "Epoch 4/50\n",
      "\u001b[1m33702/33702\u001b[0m \u001b[32m━━━━━━━━━━━━━━━━━━━━\u001b[0m\u001b[37m\u001b[0m \u001b[1m55s\u001b[0m 2ms/step - loss: 2366468.2500 - val_loss: 2204209.5000\n",
      "Epoch 5/50\n",
      "\u001b[1m33702/33702\u001b[0m \u001b[32m━━━━━━━━━━━━━━━━━━━━\u001b[0m\u001b[37m\u001b[0m \u001b[1m50s\u001b[0m 1ms/step - loss: 2173448.0000 - val_loss: 2095981.1250\n",
      "Epoch 6/50\n",
      "\u001b[1m33702/33702\u001b[0m \u001b[32m━━━━━━━━━━━━━━━━━━━━\u001b[0m\u001b[37m\u001b[0m \u001b[1m48s\u001b[0m 1ms/step - loss: 2101301.0000 - val_loss: 2058685.1250\n",
      "Epoch 7/50\n",
      "\u001b[1m33702/33702\u001b[0m \u001b[32m━━━━━━━━━━━━━━━━━━━━\u001b[0m\u001b[37m\u001b[0m \u001b[1m52s\u001b[0m 2ms/step - loss: 2002300.7500 - val_loss: 2011478.7500\n",
      "Epoch 8/50\n",
      "\u001b[1m33702/33702\u001b[0m \u001b[32m━━━━━━━━━━━━━━━━━━━━\u001b[0m\u001b[37m\u001b[0m \u001b[1m53s\u001b[0m 2ms/step - loss: 1929791.3750 - val_loss: 1939592.8750\n",
      "Epoch 9/50\n",
      "\u001b[1m33702/33702\u001b[0m \u001b[32m━━━━━━━━━━━━━━━━━━━━\u001b[0m\u001b[37m\u001b[0m \u001b[1m55s\u001b[0m 2ms/step - loss: 1865065.2500 - val_loss: 1985065.0000\n",
      "Epoch 10/50\n",
      "\u001b[1m33702/33702\u001b[0m \u001b[32m━━━━━━━━━━━━━━━━━━━━\u001b[0m\u001b[37m\u001b[0m \u001b[1m66s\u001b[0m 2ms/step - loss: 1846750.8750 - val_loss: 2006239.7500\n",
      "Epoch 11/50\n",
      "\u001b[1m33702/33702\u001b[0m \u001b[32m━━━━━━━━━━━━━━━━━━━━\u001b[0m\u001b[37m\u001b[0m \u001b[1m56s\u001b[0m 2ms/step - loss: 1779902.3750 - val_loss: 1973025.6250\n",
      "Epoch 12/50\n",
      "\u001b[1m33702/33702\u001b[0m \u001b[32m━━━━━━━━━━━━━━━━━━━━\u001b[0m\u001b[37m\u001b[0m \u001b[1m51s\u001b[0m 2ms/step - loss: 1750593.3750 - val_loss: 1734328.1250\n",
      "Epoch 13/50\n",
      "\u001b[1m33702/33702\u001b[0m \u001b[32m━━━━━━━━━━━━━━━━━━━━\u001b[0m\u001b[37m\u001b[0m \u001b[1m52s\u001b[0m 2ms/step - loss: 1714151.2500 - val_loss: 1720538.3750\n",
      "Epoch 14/50\n",
      "\u001b[1m33702/33702\u001b[0m \u001b[32m━━━━━━━━━━━━━━━━━━━━\u001b[0m\u001b[37m\u001b[0m \u001b[1m52s\u001b[0m 2ms/step - loss: 1679086.7500 - val_loss: 1695065.2500\n",
      "Epoch 15/50\n",
      "\u001b[1m33702/33702\u001b[0m \u001b[32m━━━━━━━━━━━━━━━━━━━━\u001b[0m\u001b[37m\u001b[0m \u001b[1m57s\u001b[0m 2ms/step - loss: 1695614.1250 - val_loss: 1623836.6250\n",
      "Epoch 16/50\n",
      "\u001b[1m33702/33702\u001b[0m \u001b[32m━━━━━━━━━━━━━━━━━━━━\u001b[0m\u001b[37m\u001b[0m \u001b[1m52s\u001b[0m 2ms/step - loss: 1647710.0000 - val_loss: 1602646.7500\n",
      "Epoch 17/50\n",
      "\u001b[1m33702/33702\u001b[0m \u001b[32m━━━━━━━━━━━━━━━━━━━━\u001b[0m\u001b[37m\u001b[0m \u001b[1m55s\u001b[0m 2ms/step - loss: 1606639.3750 - val_loss: 1698917.5000\n",
      "Epoch 18/50\n",
      "\u001b[1m33702/33702\u001b[0m \u001b[32m━━━━━━━━━━━━━━━━━━━━\u001b[0m\u001b[37m\u001b[0m \u001b[1m52s\u001b[0m 2ms/step - loss: 1594874.3750 - val_loss: 1620576.1250\n",
      "Epoch 19/50\n",
      "\u001b[1m33702/33702\u001b[0m \u001b[32m━━━━━━━━━━━━━━━━━━━━\u001b[0m\u001b[37m\u001b[0m \u001b[1m54s\u001b[0m 2ms/step - loss: 1616887.7500 - val_loss: 1601615.2500\n",
      "Epoch 20/50\n",
      "\u001b[1m33702/33702\u001b[0m \u001b[32m━━━━━━━━━━━━━━━━━━━━\u001b[0m\u001b[37m\u001b[0m \u001b[1m53s\u001b[0m 2ms/step - loss: 1558339.1250 - val_loss: 1517659.1250\n",
      "Epoch 21/50\n",
      "\u001b[1m33702/33702\u001b[0m \u001b[32m━━━━━━━━━━━━━━━━━━━━\u001b[0m\u001b[37m\u001b[0m \u001b[1m54s\u001b[0m 2ms/step - loss: 1527965.0000 - val_loss: 1513094.6250\n",
      "Epoch 22/50\n",
      "\u001b[1m33702/33702\u001b[0m \u001b[32m━━━━━━━━━━━━━━━━━━━━\u001b[0m\u001b[37m\u001b[0m \u001b[1m56s\u001b[0m 2ms/step - loss: 1522129.8750 - val_loss: 1526341.1250\n",
      "Epoch 23/50\n",
      "\u001b[1m33702/33702\u001b[0m \u001b[32m━━━━━━━━━━━━━━━━━━━━\u001b[0m\u001b[37m\u001b[0m \u001b[1m54s\u001b[0m 2ms/step - loss: 1521150.2500 - val_loss: 1579035.3750\n",
      "Epoch 24/50\n",
      "\u001b[1m33702/33702\u001b[0m \u001b[32m━━━━━━━━━━━━━━━━━━━━\u001b[0m\u001b[37m\u001b[0m \u001b[1m52s\u001b[0m 2ms/step - loss: 1505579.0000 - val_loss: 1489053.1250\n",
      "Epoch 25/50\n",
      "\u001b[1m33702/33702\u001b[0m \u001b[32m━━━━━━━━━━━━━━━━━━━━\u001b[0m\u001b[37m\u001b[0m \u001b[1m57s\u001b[0m 2ms/step - loss: 1466951.1250 - val_loss: 1445396.6250\n",
      "Epoch 26/50\n",
      "\u001b[1m33702/33702\u001b[0m \u001b[32m━━━━━━━━━━━━━━━━━━━━\u001b[0m\u001b[37m\u001b[0m \u001b[1m54s\u001b[0m 2ms/step - loss: 1458813.7500 - val_loss: 1557342.2500\n",
      "Epoch 27/50\n",
      "\u001b[1m33702/33702\u001b[0m \u001b[32m━━━━━━━━━━━━━━━━━━━━\u001b[0m\u001b[37m\u001b[0m \u001b[1m53s\u001b[0m 2ms/step - loss: 1515969.6250 - val_loss: 1476329.6250\n",
      "Epoch 28/50\n",
      "\u001b[1m33702/33702\u001b[0m \u001b[32m━━━━━━━━━━━━━━━━━━━━\u001b[0m\u001b[37m\u001b[0m \u001b[1m57s\u001b[0m 2ms/step - loss: 1418214.0000 - val_loss: 1470985.8750\n",
      "Epoch 29/50\n",
      "\u001b[1m33702/33702\u001b[0m \u001b[32m━━━━━━━━━━━━━━━━━━━━\u001b[0m\u001b[37m\u001b[0m \u001b[1m55s\u001b[0m 2ms/step - loss: 1391148.6250 - val_loss: 1424022.8750\n",
      "Epoch 30/50\n",
      "\u001b[1m33702/33702\u001b[0m \u001b[32m━━━━━━━━━━━━━━━━━━━━\u001b[0m\u001b[37m\u001b[0m \u001b[1m57s\u001b[0m 2ms/step - loss: 1412935.7500 - val_loss: 1477888.0000\n",
      "Epoch 31/50\n",
      "\u001b[1m33702/33702\u001b[0m \u001b[32m━━━━━━━━━━━━━━━━━━━━\u001b[0m\u001b[37m\u001b[0m \u001b[1m58s\u001b[0m 2ms/step - loss: 1399240.2500 - val_loss: 1385704.0000\n",
      "Epoch 32/50\n",
      "\u001b[1m33702/33702\u001b[0m \u001b[32m━━━━━━━━━━━━━━━━━━━━\u001b[0m\u001b[37m\u001b[0m \u001b[1m57s\u001b[0m 2ms/step - loss: 1366145.5000 - val_loss: 1427608.8750\n",
      "Epoch 33/50\n",
      "\u001b[1m33702/33702\u001b[0m \u001b[32m━━━━━━━━━━━━━━━━━━━━\u001b[0m\u001b[37m\u001b[0m \u001b[1m57s\u001b[0m 2ms/step - loss: 1378563.6250 - val_loss: 1446219.6250\n",
      "Epoch 34/50\n",
      "\u001b[1m33702/33702\u001b[0m \u001b[32m━━━━━━━━━━━━━━━━━━━━\u001b[0m\u001b[37m\u001b[0m \u001b[1m56s\u001b[0m 2ms/step - loss: 1398713.3750 - val_loss: 1338969.6250\n",
      "Epoch 35/50\n",
      "\u001b[1m33702/33702\u001b[0m \u001b[32m━━━━━━━━━━━━━━━━━━━━\u001b[0m\u001b[37m\u001b[0m \u001b[1m59s\u001b[0m 2ms/step - loss: 1430978.7500 - val_loss: 1332297.0000\n",
      "Epoch 36/50\n",
      "\u001b[1m33702/33702\u001b[0m \u001b[32m━━━━━━━━━━━━━━━━━━━━\u001b[0m\u001b[37m\u001b[0m \u001b[1m57s\u001b[0m 2ms/step - loss: 1338572.2500 - val_loss: 1360289.1250\n",
      "Epoch 37/50\n",
      "\u001b[1m33702/33702\u001b[0m \u001b[32m━━━━━━━━━━━━━━━━━━━━\u001b[0m\u001b[37m\u001b[0m \u001b[1m57s\u001b[0m 2ms/step - loss: 1332119.5000 - val_loss: 1336651.0000\n",
      "Epoch 38/50\n",
      "\u001b[1m33702/33702\u001b[0m \u001b[32m━━━━━━━━━━━━━━━━━━━━\u001b[0m\u001b[37m\u001b[0m \u001b[1m58s\u001b[0m 2ms/step - loss: 1315885.0000 - val_loss: 1318961.8750\n",
      "Epoch 39/50\n",
      "\u001b[1m33702/33702\u001b[0m \u001b[32m━━━━━━━━━━━━━━━━━━━━\u001b[0m\u001b[37m\u001b[0m \u001b[1m57s\u001b[0m 2ms/step - loss: 1318149.3750 - val_loss: 1431517.8750\n",
      "Epoch 40/50\n",
      "\u001b[1m33702/33702\u001b[0m \u001b[32m━━━━━━━━━━━━━━━━━━━━\u001b[0m\u001b[37m\u001b[0m \u001b[1m61s\u001b[0m 2ms/step - loss: 1300342.7500 - val_loss: 1282144.1250\n",
      "Epoch 41/50\n",
      "\u001b[1m33702/33702\u001b[0m \u001b[32m━━━━━━━━━━━━━━━━━━━━\u001b[0m\u001b[37m\u001b[0m \u001b[1m59s\u001b[0m 2ms/step - loss: 1301699.8750 - val_loss: 1313923.6250\n",
      "Epoch 42/50\n",
      "\u001b[1m33702/33702\u001b[0m \u001b[32m━━━━━━━━━━━━━━━━━━━━\u001b[0m\u001b[37m\u001b[0m \u001b[1m58s\u001b[0m 2ms/step - loss: 1290386.3750 - val_loss: 1287941.7500\n",
      "Epoch 43/50\n",
      "\u001b[1m33702/33702\u001b[0m \u001b[32m━━━━━━━━━━━━━━━━━━━━\u001b[0m\u001b[37m\u001b[0m \u001b[1m59s\u001b[0m 2ms/step - loss: 1297899.8750 - val_loss: 1279308.8750\n",
      "Epoch 44/50\n",
      "\u001b[1m33702/33702\u001b[0m \u001b[32m━━━━━━━━━━━━━━━━━━━━\u001b[0m\u001b[37m\u001b[0m \u001b[1m58s\u001b[0m 2ms/step - loss: 1288472.0000 - val_loss: 1287489.5000\n",
      "Epoch 45/50\n",
      "\u001b[1m33702/33702\u001b[0m \u001b[32m━━━━━━━━━━━━━━━━━━━━\u001b[0m\u001b[37m\u001b[0m \u001b[1m59s\u001b[0m 2ms/step - loss: 1264561.7500 - val_loss: 1269973.1250\n",
      "Epoch 46/50\n",
      "\u001b[1m33702/33702\u001b[0m \u001b[32m━━━━━━━━━━━━━━━━━━━━\u001b[0m\u001b[37m\u001b[0m \u001b[1m59s\u001b[0m 2ms/step - loss: 1265327.7500 - val_loss: 1267827.7500\n",
      "Epoch 47/50\n",
      "\u001b[1m33702/33702\u001b[0m \u001b[32m━━━━━━━━━━━━━━━━━━━━\u001b[0m\u001b[37m\u001b[0m \u001b[1m59s\u001b[0m 2ms/step - loss: 1288568.2500 - val_loss: 1234877.0000\n",
      "Epoch 48/50\n",
      "\u001b[1m33702/33702\u001b[0m \u001b[32m━━━━━━━━━━━━━━━━━━━━\u001b[0m\u001b[37m\u001b[0m \u001b[1m59s\u001b[0m 2ms/step - loss: 1262456.8750 - val_loss: 1218435.5000\n",
      "Epoch 49/50\n",
      "\u001b[1m33702/33702\u001b[0m \u001b[32m━━━━━━━━━━━━━━━━━━━━\u001b[0m\u001b[37m\u001b[0m \u001b[1m59s\u001b[0m 2ms/step - loss: 1256331.6250 - val_loss: 1231125.8750\n",
      "Epoch 50/50\n",
      "\u001b[1m33702/33702\u001b[0m \u001b[32m━━━━━━━━━━━━━━━━━━━━\u001b[0m\u001b[37m\u001b[0m \u001b[1m61s\u001b[0m 2ms/step - loss: 1236934.5000 - val_loss: 1233847.6250\n"
     ]
    },
    {
     "data": {
      "text/plain": [
       "<keras.src.callbacks.history.History at 0x222c3015c50>"
      ]
     },
     "execution_count": 9,
     "metadata": {},
     "output_type": "execute_result"
    }
   ],
   "source": [
    "# Split the data into training and testing sets\n",
    "X_train, X_test, y_train, y_test = train_test_split(features, labels, test_size=0.2, random_state=42)\n",
    "\n",
    "# Define and train the model\n",
    "def create_ann(input_dim):\n",
    "    model = Sequential()\n",
    "    model.add(Dense(64, input_dim=input_dim, activation='relu'))\n",
    "    model.add(Dense(32, activation='relu'))\n",
    "    model.add(Dense(1))  # Single output for regression\n",
    "    model.compile(optimizer='adam', loss='mean_squared_error')\n",
    "    return model\n",
    "\n",
    "# Create and train the model\n",
    "single_model = create_ann(input_dim=X_train.shape[1])\n",
    "single_model.fit(X_train, y_train, epochs=50, batch_size=32, validation_data=(X_test, y_test))"
   ]
  },
  {
   "cell_type": "markdown",
   "id": "ff578c71-22b0-44f0-af36-888d41b1f7ef",
   "metadata": {},
   "source": [
    "### Creating the hybrid model"
   ]
  },
  {
   "cell_type": "code",
   "execution_count": 11,
   "id": "df200145-c4d2-4e2e-b40d-e589895e8472",
   "metadata": {
    "execution": {
     "iopub.execute_input": "2024-06-18T18:01:01.190245Z",
     "iopub.status.busy": "2024-06-18T18:01:01.190245Z",
     "iopub.status.idle": "2024-06-18T18:01:03.746340Z",
     "shell.execute_reply": "2024-06-18T18:01:03.745185Z",
     "shell.execute_reply.started": "2024-06-18T18:01:01.190245Z"
    },
    "tags": []
   },
   "outputs": [],
   "source": [
    "# Perform K-means clustering\n",
    "kmeans = KMeans(n_clusters=3, random_state=42)\n",
    "clusters = kmeans.fit_predict(features)\n",
    "\n",
    "# Add cluster labels to the dataset\n",
    "data['cluster'] = clusters"
   ]
  },
  {
   "cell_type": "code",
   "execution_count": 12,
   "id": "5369a652-d4b3-41cd-9c82-05df8de28c67",
   "metadata": {
    "execution": {
     "iopub.execute_input": "2024-06-18T18:01:03.748323Z",
     "iopub.status.busy": "2024-06-18T18:01:03.748323Z",
     "iopub.status.idle": "2024-06-18T18:01:03.759566Z",
     "shell.execute_reply": "2024-06-18T18:01:03.758557Z",
     "shell.execute_reply.started": "2024-06-18T18:01:03.748323Z"
    },
    "tags": []
   },
   "outputs": [],
   "source": [
    "def create_ann(input_dim):\n",
    "    model = Sequential()\n",
    "    model.add(Dense(64, input_dim=input_dim, activation='relu'))\n",
    "    model.add(Dense(32, activation='relu'))\n",
    "    model.add(Dense(1))  \n",
    "    model.compile(optimizer='adam', loss='mean_squared_error')\n",
    "    return model\n",
    "\n",
    "# Function to train ANN on a specific cluster\n",
    "def train_ann_on_cluster(cluster_data):\n",
    "    features = cluster_data.drop(['rar', 'cluster'], axis=1)\n",
    "    labels = cluster_data['rar']\n",
    "    \n",
    "    X_train, X_test, y_train, y_test = train_test_split(features, labels, test_size=0.2, random_state=42)\n",
    "    \n",
    "    ann = create_ann(input_dim=features.shape[1])\n",
    "    ann.fit(X_train, y_train, epochs=50, batch_size=32, validation_data=(X_test, y_test))\n",
    "    \n",
    "    return ann"
   ]
  },
  {
   "cell_type": "code",
   "execution_count": 13,
   "id": "c74aefa6-3938-4bf2-87b5-3f293799f338",
   "metadata": {
    "execution": {
     "iopub.execute_input": "2024-06-18T18:01:03.762564Z",
     "iopub.status.busy": "2024-06-18T18:01:03.761564Z",
     "iopub.status.idle": "2024-06-18T18:38:46.735557Z",
     "shell.execute_reply": "2024-06-18T18:38:46.733548Z",
     "shell.execute_reply.started": "2024-06-18T18:01:03.761564Z"
    },
    "tags": []
   },
   "outputs": [
    {
     "name": "stdout",
     "output_type": "stream",
     "text": [
      "Epoch 1/50\n"
     ]
    },
    {
     "name": "stderr",
     "output_type": "stream",
     "text": [
      "C:\\Users\\Imran\\anaconda3\\Lib\\site-packages\\keras\\src\\layers\\core\\dense.py:87: UserWarning: Do not pass an `input_shape`/`input_dim` argument to a layer. When using Sequential models, prefer using an `Input(shape)` object as the first layer in the model instead.\n",
      "  super().__init__(activity_regularizer=activity_regularizer, **kwargs)\n"
     ]
    },
    {
     "name": "stdout",
     "output_type": "stream",
     "text": [
      "\u001b[1m645/645\u001b[0m \u001b[32m━━━━━━━━━━━━━━━━━━━━\u001b[0m\u001b[37m\u001b[0m \u001b[1m2s\u001b[0m 1ms/step - loss: 414486560.0000 - val_loss: 93106152.0000\n",
      "Epoch 2/50\n",
      "\u001b[1m645/645\u001b[0m \u001b[32m━━━━━━━━━━━━━━━━━━━━\u001b[0m\u001b[37m\u001b[0m \u001b[1m1s\u001b[0m 2ms/step - loss: 81399928.0000 - val_loss: 53735996.0000\n",
      "Epoch 3/50\n",
      "\u001b[1m645/645\u001b[0m \u001b[32m━━━━━━━━━━━━━━━━━━━━\u001b[0m\u001b[37m\u001b[0m \u001b[1m1s\u001b[0m 2ms/step - loss: 43259136.0000 - val_loss: 27531052.0000\n",
      "Epoch 4/50\n",
      "\u001b[1m645/645\u001b[0m \u001b[32m━━━━━━━━━━━━━━━━━━━━\u001b[0m\u001b[37m\u001b[0m \u001b[1m1s\u001b[0m 2ms/step - loss: 23312080.0000 - val_loss: 19615786.0000\n",
      "Epoch 5/50\n",
      "\u001b[1m645/645\u001b[0m \u001b[32m━━━━━━━━━━━━━━━━━━━━\u001b[0m\u001b[37m\u001b[0m \u001b[1m1s\u001b[0m 1ms/step - loss: 17499826.0000 - val_loss: 17041952.0000\n",
      "Epoch 6/50\n",
      "\u001b[1m645/645\u001b[0m \u001b[32m━━━━━━━━━━━━━━━━━━━━\u001b[0m\u001b[37m\u001b[0m \u001b[1m1s\u001b[0m 1ms/step - loss: 15857480.0000 - val_loss: 15384097.0000\n",
      "Epoch 7/50\n",
      "\u001b[1m645/645\u001b[0m \u001b[32m━━━━━━━━━━━━━━━━━━━━\u001b[0m\u001b[37m\u001b[0m \u001b[1m1s\u001b[0m 1ms/step - loss: 14011582.0000 - val_loss: 14283017.0000\n",
      "Epoch 8/50\n",
      "\u001b[1m645/645\u001b[0m \u001b[32m━━━━━━━━━━━━━━━━━━━━\u001b[0m\u001b[37m\u001b[0m \u001b[1m1s\u001b[0m 1ms/step - loss: 12823098.0000 - val_loss: 13227476.0000\n",
      "Epoch 9/50\n",
      "\u001b[1m645/645\u001b[0m \u001b[32m━━━━━━━━━━━━━━━━━━━━\u001b[0m\u001b[37m\u001b[0m \u001b[1m1s\u001b[0m 2ms/step - loss: 11958538.0000 - val_loss: 12402984.0000\n",
      "Epoch 10/50\n",
      "\u001b[1m645/645\u001b[0m \u001b[32m━━━━━━━━━━━━━━━━━━━━\u001b[0m\u001b[37m\u001b[0m \u001b[1m2s\u001b[0m 2ms/step - loss: 11569457.0000 - val_loss: 11716812.0000\n",
      "Epoch 11/50\n",
      "\u001b[1m645/645\u001b[0m \u001b[32m━━━━━━━━━━━━━━━━━━━━\u001b[0m\u001b[37m\u001b[0m \u001b[1m1s\u001b[0m 2ms/step - loss: 11084569.0000 - val_loss: 10978904.0000\n",
      "Epoch 12/50\n",
      "\u001b[1m645/645\u001b[0m \u001b[32m━━━━━━━━━━━━━━━━━━━━\u001b[0m\u001b[37m\u001b[0m \u001b[1m2s\u001b[0m 1ms/step - loss: 10163371.0000 - val_loss: 10404353.0000\n",
      "Epoch 13/50\n",
      "\u001b[1m645/645\u001b[0m \u001b[32m━━━━━━━━━━━━━━━━━━━━\u001b[0m\u001b[37m\u001b[0m \u001b[1m1s\u001b[0m 1ms/step - loss: 9653483.0000 - val_loss: 9683319.0000\n",
      "Epoch 14/50\n",
      "\u001b[1m645/645\u001b[0m \u001b[32m━━━━━━━━━━━━━━━━━━━━\u001b[0m\u001b[37m\u001b[0m \u001b[1m1s\u001b[0m 1ms/step - loss: 8931614.0000 - val_loss: 9084486.0000\n",
      "Epoch 15/50\n",
      "\u001b[1m645/645\u001b[0m \u001b[32m━━━━━━━━━━━━━━━━━━━━\u001b[0m\u001b[37m\u001b[0m \u001b[1m1s\u001b[0m 1ms/step - loss: 8896752.0000 - val_loss: 8770678.0000\n",
      "Epoch 16/50\n",
      "\u001b[1m645/645\u001b[0m \u001b[32m━━━━━━━━━━━━━━━━━━━━\u001b[0m\u001b[37m\u001b[0m \u001b[1m1s\u001b[0m 2ms/step - loss: 8280988.5000 - val_loss: 8119036.5000\n",
      "Epoch 17/50\n",
      "\u001b[1m645/645\u001b[0m \u001b[32m━━━━━━━━━━━━━━━━━━━━\u001b[0m\u001b[37m\u001b[0m \u001b[1m2s\u001b[0m 2ms/step - loss: 7667543.0000 - val_loss: 7793713.0000\n",
      "Epoch 18/50\n",
      "\u001b[1m645/645\u001b[0m \u001b[32m━━━━━━━━━━━━━━━━━━━━\u001b[0m\u001b[37m\u001b[0m \u001b[1m1s\u001b[0m 1ms/step - loss: 7332051.5000 - val_loss: 7381558.0000\n",
      "Epoch 19/50\n",
      "\u001b[1m645/645\u001b[0m \u001b[32m━━━━━━━━━━━━━━━━━━━━\u001b[0m\u001b[37m\u001b[0m \u001b[1m1s\u001b[0m 1ms/step - loss: 7434152.0000 - val_loss: 7075092.0000\n",
      "Epoch 20/50\n",
      "\u001b[1m645/645\u001b[0m \u001b[32m━━━━━━━━━━━━━━━━━━━━\u001b[0m\u001b[37m\u001b[0m \u001b[1m1s\u001b[0m 1ms/step - loss: 7135592.0000 - val_loss: 6853969.5000\n",
      "Epoch 21/50\n",
      "\u001b[1m645/645\u001b[0m \u001b[32m━━━━━━━━━━━━━━━━━━━━\u001b[0m\u001b[37m\u001b[0m \u001b[1m1s\u001b[0m 1ms/step - loss: 6681433.5000 - val_loss: 6727667.5000\n",
      "Epoch 22/50\n",
      "\u001b[1m645/645\u001b[0m \u001b[32m━━━━━━━━━━━━━━━━━━━━\u001b[0m\u001b[37m\u001b[0m \u001b[1m1s\u001b[0m 1ms/step - loss: 6351171.5000 - val_loss: 6595395.5000\n",
      "Epoch 23/50\n",
      "\u001b[1m645/645\u001b[0m \u001b[32m━━━━━━━━━━━━━━━━━━━━\u001b[0m\u001b[37m\u001b[0m \u001b[1m1s\u001b[0m 2ms/step - loss: 6289611.0000 - val_loss: 6505500.5000\n",
      "Epoch 24/50\n",
      "\u001b[1m645/645\u001b[0m \u001b[32m━━━━━━━━━━━━━━━━━━━━\u001b[0m\u001b[37m\u001b[0m \u001b[1m1s\u001b[0m 1ms/step - loss: 6130093.0000 - val_loss: 6392942.5000\n",
      "Epoch 25/50\n",
      "\u001b[1m645/645\u001b[0m \u001b[32m━━━━━━━━━━━━━━━━━━━━\u001b[0m\u001b[37m\u001b[0m \u001b[1m1s\u001b[0m 1ms/step - loss: 6315308.5000 - val_loss: 6336688.0000\n",
      "Epoch 26/50\n",
      "\u001b[1m645/645\u001b[0m \u001b[32m━━━━━━━━━━━━━━━━━━━━\u001b[0m\u001b[37m\u001b[0m \u001b[1m1s\u001b[0m 1ms/step - loss: 6274076.0000 - val_loss: 6273872.5000\n",
      "Epoch 27/50\n",
      "\u001b[1m645/645\u001b[0m \u001b[32m━━━━━━━━━━━━━━━━━━━━\u001b[0m\u001b[37m\u001b[0m \u001b[1m1s\u001b[0m 1ms/step - loss: 6164119.5000 - val_loss: 6199668.5000\n",
      "Epoch 28/50\n",
      "\u001b[1m645/645\u001b[0m \u001b[32m━━━━━━━━━━━━━━━━━━━━\u001b[0m\u001b[37m\u001b[0m \u001b[1m1s\u001b[0m 1ms/step - loss: 6142745.0000 - val_loss: 6123122.5000\n",
      "Epoch 29/50\n",
      "\u001b[1m645/645\u001b[0m \u001b[32m━━━━━━━━━━━━━━━━━━━━\u001b[0m\u001b[37m\u001b[0m \u001b[1m1s\u001b[0m 1ms/step - loss: 5937574.0000 - val_loss: 6117598.5000\n",
      "Epoch 30/50\n",
      "\u001b[1m645/645\u001b[0m \u001b[32m━━━━━━━━━━━━━━━━━━━━\u001b[0m\u001b[37m\u001b[0m \u001b[1m1s\u001b[0m 2ms/step - loss: 6019100.5000 - val_loss: 6053273.0000\n",
      "Epoch 31/50\n",
      "\u001b[1m645/645\u001b[0m \u001b[32m━━━━━━━━━━━━━━━━━━━━\u001b[0m\u001b[37m\u001b[0m \u001b[1m1s\u001b[0m 1ms/step - loss: 5974131.0000 - val_loss: 6141610.0000\n",
      "Epoch 32/50\n",
      "\u001b[1m645/645\u001b[0m \u001b[32m━━━━━━━━━━━━━━━━━━━━\u001b[0m\u001b[37m\u001b[0m \u001b[1m2s\u001b[0m 3ms/step - loss: 5821175.0000 - val_loss: 5744045.0000\n",
      "Epoch 33/50\n",
      "\u001b[1m645/645\u001b[0m \u001b[32m━━━━━━━━━━━━━━━━━━━━\u001b[0m\u001b[37m\u001b[0m \u001b[1m1s\u001b[0m 2ms/step - loss: 5637154.5000 - val_loss: 5666584.5000\n",
      "Epoch 34/50\n",
      "\u001b[1m645/645\u001b[0m \u001b[32m━━━━━━━━━━━━━━━━━━━━\u001b[0m\u001b[37m\u001b[0m \u001b[1m1s\u001b[0m 1ms/step - loss: 5684337.5000 - val_loss: 5604237.0000\n",
      "Epoch 35/50\n",
      "\u001b[1m645/645\u001b[0m \u001b[32m━━━━━━━━━━━━━━━━━━━━\u001b[0m\u001b[37m\u001b[0m \u001b[1m1s\u001b[0m 1ms/step - loss: 5514754.0000 - val_loss: 5597039.0000\n",
      "Epoch 36/50\n",
      "\u001b[1m645/645\u001b[0m \u001b[32m━━━━━━━━━━━━━━━━━━━━\u001b[0m\u001b[37m\u001b[0m \u001b[1m1s\u001b[0m 1ms/step - loss: 5583065.5000 - val_loss: 5523611.0000\n",
      "Epoch 37/50\n",
      "\u001b[1m645/645\u001b[0m \u001b[32m━━━━━━━━━━━━━━━━━━━━\u001b[0m\u001b[37m\u001b[0m \u001b[1m1s\u001b[0m 2ms/step - loss: 5433118.5000 - val_loss: 5484678.0000\n",
      "Epoch 38/50\n",
      "\u001b[1m645/645\u001b[0m \u001b[32m━━━━━━━━━━━━━━━━━━━━\u001b[0m\u001b[37m\u001b[0m \u001b[1m1s\u001b[0m 1ms/step - loss: 5359405.5000 - val_loss: 5494979.5000\n",
      "Epoch 39/50\n",
      "\u001b[1m645/645\u001b[0m \u001b[32m━━━━━━━━━━━━━━━━━━━━\u001b[0m\u001b[37m\u001b[0m \u001b[1m1s\u001b[0m 2ms/step - loss: 5161817.5000 - val_loss: 5436648.0000\n",
      "Epoch 40/50\n",
      "\u001b[1m645/645\u001b[0m \u001b[32m━━━━━━━━━━━━━━━━━━━━\u001b[0m\u001b[37m\u001b[0m \u001b[1m1s\u001b[0m 2ms/step - loss: 5419610.5000 - val_loss: 5405125.0000\n",
      "Epoch 41/50\n",
      "\u001b[1m645/645\u001b[0m \u001b[32m━━━━━━━━━━━━━━━━━━━━\u001b[0m\u001b[37m\u001b[0m \u001b[1m1s\u001b[0m 2ms/step - loss: 5441377.0000 - val_loss: 5381923.5000\n",
      "Epoch 42/50\n",
      "\u001b[1m645/645\u001b[0m \u001b[32m━━━━━━━━━━━━━━━━━━━━\u001b[0m\u001b[37m\u001b[0m \u001b[1m1s\u001b[0m 1ms/step - loss: 5223323.0000 - val_loss: 5326353.5000\n",
      "Epoch 43/50\n",
      "\u001b[1m645/645\u001b[0m \u001b[32m━━━━━━━━━━━━━━━━━━━━\u001b[0m\u001b[37m\u001b[0m \u001b[1m1s\u001b[0m 2ms/step - loss: 5284439.0000 - val_loss: 5314824.5000\n",
      "Epoch 44/50\n",
      "\u001b[1m645/645\u001b[0m \u001b[32m━━━━━━━━━━━━━━━━━━━━\u001b[0m\u001b[37m\u001b[0m \u001b[1m1s\u001b[0m 2ms/step - loss: 5196950.0000 - val_loss: 5299849.5000\n",
      "Epoch 45/50\n",
      "\u001b[1m645/645\u001b[0m \u001b[32m━━━━━━━━━━━━━━━━━━━━\u001b[0m\u001b[37m\u001b[0m \u001b[1m1s\u001b[0m 1ms/step - loss: 5359248.5000 - val_loss: 5268771.5000\n",
      "Epoch 46/50\n",
      "\u001b[1m645/645\u001b[0m \u001b[32m━━━━━━━━━━━━━━━━━━━━\u001b[0m\u001b[37m\u001b[0m \u001b[1m2s\u001b[0m 2ms/step - loss: 5327672.0000 - val_loss: 5250455.0000\n",
      "Epoch 47/50\n",
      "\u001b[1m645/645\u001b[0m \u001b[32m━━━━━━━━━━━━━━━━━━━━\u001b[0m\u001b[37m\u001b[0m \u001b[1m1s\u001b[0m 1ms/step - loss: 5200259.0000 - val_loss: 5233089.0000\n",
      "Epoch 48/50\n",
      "\u001b[1m645/645\u001b[0m \u001b[32m━━━━━━━━━━━━━━━━━━━━\u001b[0m\u001b[37m\u001b[0m \u001b[1m1s\u001b[0m 1ms/step - loss: 5035875.0000 - val_loss: 5193273.5000\n",
      "Epoch 49/50\n",
      "\u001b[1m645/645\u001b[0m \u001b[32m━━━━━━━━━━━━━━━━━━━━\u001b[0m\u001b[37m\u001b[0m \u001b[1m1s\u001b[0m 1ms/step - loss: 5276766.5000 - val_loss: 5188258.0000\n",
      "Epoch 50/50\n",
      "\u001b[1m645/645\u001b[0m \u001b[32m━━━━━━━━━━━━━━━━━━━━\u001b[0m\u001b[37m\u001b[0m \u001b[1m1s\u001b[0m 1ms/step - loss: 5015914.5000 - val_loss: 5181480.0000\n",
      "Epoch 1/50\n"
     ]
    },
    {
     "name": "stderr",
     "output_type": "stream",
     "text": [
      "C:\\Users\\Imran\\anaconda3\\Lib\\site-packages\\keras\\src\\layers\\core\\dense.py:87: UserWarning: Do not pass an `input_shape`/`input_dim` argument to a layer. When using Sequential models, prefer using an `Input(shape)` object as the first layer in the model instead.\n",
      "  super().__init__(activity_regularizer=activity_regularizer, **kwargs)\n"
     ]
    },
    {
     "name": "stdout",
     "output_type": "stream",
     "text": [
      "\u001b[1m21177/21177\u001b[0m \u001b[32m━━━━━━━━━━━━━━━━━━━━\u001b[0m\u001b[37m\u001b[0m \u001b[1m29s\u001b[0m 1ms/step - loss: 23525824.0000 - val_loss: 2354708.0000\n",
      "Epoch 2/50\n",
      "\u001b[1m21177/21177\u001b[0m \u001b[32m━━━━━━━━━━━━━━━━━━━━\u001b[0m\u001b[37m\u001b[0m \u001b[1m29s\u001b[0m 1ms/step - loss: 2119307.7500 - val_loss: 1720849.2500\n",
      "Epoch 3/50\n",
      "\u001b[1m21177/21177\u001b[0m \u001b[32m━━━━━━━━━━━━━━━━━━━━\u001b[0m\u001b[37m\u001b[0m \u001b[1m28s\u001b[0m 1ms/step - loss: 1663143.6250 - val_loss: 1543621.0000\n",
      "Epoch 4/50\n",
      "\u001b[1m21177/21177\u001b[0m \u001b[32m━━━━━━━━━━━━━━━━━━━━\u001b[0m\u001b[37m\u001b[0m \u001b[1m30s\u001b[0m 1ms/step - loss: 1495657.8750 - val_loss: 1410304.2500\n",
      "Epoch 5/50\n",
      "\u001b[1m21177/21177\u001b[0m \u001b[32m━━━━━━━━━━━━━━━━━━━━\u001b[0m\u001b[37m\u001b[0m \u001b[1m28s\u001b[0m 1ms/step - loss: 1397400.3750 - val_loss: 1434772.7500\n",
      "Epoch 6/50\n",
      "\u001b[1m21177/21177\u001b[0m \u001b[32m━━━━━━━━━━━━━━━━━━━━\u001b[0m\u001b[37m\u001b[0m \u001b[1m30s\u001b[0m 1ms/step - loss: 1356601.3750 - val_loss: 1372159.5000\n",
      "Epoch 7/50\n",
      "\u001b[1m21177/21177\u001b[0m \u001b[32m━━━━━━━━━━━━━━━━━━━━\u001b[0m\u001b[37m\u001b[0m \u001b[1m28s\u001b[0m 1ms/step - loss: 1306906.6250 - val_loss: 1298061.6250\n",
      "Epoch 8/50\n",
      "\u001b[1m21177/21177\u001b[0m \u001b[32m━━━━━━━━━━━━━━━━━━━━\u001b[0m\u001b[37m\u001b[0m \u001b[1m31s\u001b[0m 1ms/step - loss: 1286329.7500 - val_loss: 1563927.1250\n",
      "Epoch 9/50\n",
      "\u001b[1m21177/21177\u001b[0m \u001b[32m━━━━━━━━━━━━━━━━━━━━\u001b[0m\u001b[37m\u001b[0m \u001b[1m28s\u001b[0m 1ms/step - loss: 1273361.0000 - val_loss: 1253553.7500\n",
      "Epoch 10/50\n",
      "\u001b[1m21177/21177\u001b[0m \u001b[32m━━━━━━━━━━━━━━━━━━━━\u001b[0m\u001b[37m\u001b[0m \u001b[1m32s\u001b[0m 2ms/step - loss: 1242393.2500 - val_loss: 1286938.6250\n",
      "Epoch 11/50\n",
      "\u001b[1m21177/21177\u001b[0m \u001b[32m━━━━━━━━━━━━━━━━━━━━\u001b[0m\u001b[37m\u001b[0m \u001b[1m29s\u001b[0m 1ms/step - loss: 1219510.0000 - val_loss: 1209255.3750\n",
      "Epoch 12/50\n",
      "\u001b[1m21177/21177\u001b[0m \u001b[32m━━━━━━━━━━━━━━━━━━━━\u001b[0m\u001b[37m\u001b[0m \u001b[1m31s\u001b[0m 1ms/step - loss: 1215049.5000 - val_loss: 1263593.6250\n",
      "Epoch 13/50\n",
      "\u001b[1m21177/21177\u001b[0m \u001b[32m━━━━━━━━━━━━━━━━━━━━\u001b[0m\u001b[37m\u001b[0m \u001b[1m28s\u001b[0m 1ms/step - loss: 1213237.7500 - val_loss: 1170970.6250\n",
      "Epoch 14/50\n",
      "\u001b[1m21177/21177\u001b[0m \u001b[32m━━━━━━━━━━━━━━━━━━━━\u001b[0m\u001b[37m\u001b[0m \u001b[1m29s\u001b[0m 1ms/step - loss: 1168212.8750 - val_loss: 1158715.0000\n",
      "Epoch 15/50\n",
      "\u001b[1m21177/21177\u001b[0m \u001b[32m━━━━━━━━━━━━━━━━━━━━\u001b[0m\u001b[37m\u001b[0m \u001b[1m29s\u001b[0m 1ms/step - loss: 1165136.6250 - val_loss: 1423128.1250\n",
      "Epoch 16/50\n",
      "\u001b[1m21177/21177\u001b[0m \u001b[32m━━━━━━━━━━━━━━━━━━━━\u001b[0m\u001b[37m\u001b[0m \u001b[1m30s\u001b[0m 1ms/step - loss: 1143040.1250 - val_loss: 1145439.3750\n",
      "Epoch 17/50\n",
      "\u001b[1m21177/21177\u001b[0m \u001b[32m━━━━━━━━━━━━━━━━━━━━\u001b[0m\u001b[37m\u001b[0m \u001b[1m28s\u001b[0m 1ms/step - loss: 1136969.0000 - val_loss: 1191537.8750\n",
      "Epoch 18/50\n",
      "\u001b[1m21177/21177\u001b[0m \u001b[32m━━━━━━━━━━━━━━━━━━━━\u001b[0m\u001b[37m\u001b[0m \u001b[1m28s\u001b[0m 1ms/step - loss: 1130445.6250 - val_loss: 1154232.8750\n",
      "Epoch 19/50\n",
      "\u001b[1m21177/21177\u001b[0m \u001b[32m━━━━━━━━━━━━━━━━━━━━\u001b[0m\u001b[37m\u001b[0m \u001b[1m30s\u001b[0m 1ms/step - loss: 1114083.7500 - val_loss: 1202616.8750\n",
      "Epoch 20/50\n",
      "\u001b[1m21177/21177\u001b[0m \u001b[32m━━━━━━━━━━━━━━━━━━━━\u001b[0m\u001b[37m\u001b[0m \u001b[1m28s\u001b[0m 1ms/step - loss: 1120407.5000 - val_loss: 1155880.1250\n",
      "Epoch 21/50\n",
      "\u001b[1m21177/21177\u001b[0m \u001b[32m━━━━━━━━━━━━━━━━━━━━\u001b[0m\u001b[37m\u001b[0m \u001b[1m28s\u001b[0m 1ms/step - loss: 1100367.6250 - val_loss: 1116378.3750\n",
      "Epoch 22/50\n",
      "\u001b[1m21177/21177\u001b[0m \u001b[32m━━━━━━━━━━━━━━━━━━━━\u001b[0m\u001b[37m\u001b[0m \u001b[1m28s\u001b[0m 1ms/step - loss: 1089069.6250 - val_loss: 1103356.7500\n",
      "Epoch 23/50\n",
      "\u001b[1m21177/21177\u001b[0m \u001b[32m━━━━━━━━━━━━━━━━━━━━\u001b[0m\u001b[37m\u001b[0m \u001b[1m32s\u001b[0m 1ms/step - loss: 1073598.6250 - val_loss: 1374768.1250\n",
      "Epoch 24/50\n",
      "\u001b[1m21177/21177\u001b[0m \u001b[32m━━━━━━━━━━━━━━━━━━━━\u001b[0m\u001b[37m\u001b[0m \u001b[1m29s\u001b[0m 1ms/step - loss: 1065476.1250 - val_loss: 1101646.1250\n",
      "Epoch 25/50\n",
      "\u001b[1m21177/21177\u001b[0m \u001b[32m━━━━━━━━━━━━━━━━━━━━\u001b[0m\u001b[37m\u001b[0m \u001b[1m30s\u001b[0m 1ms/step - loss: 1058768.6250 - val_loss: 1092890.8750\n",
      "Epoch 26/50\n",
      "\u001b[1m21177/21177\u001b[0m \u001b[32m━━━━━━━━━━━━━━━━━━━━\u001b[0m\u001b[37m\u001b[0m \u001b[1m28s\u001b[0m 1ms/step - loss: 1055684.6250 - val_loss: 1173141.1250\n",
      "Epoch 27/50\n",
      "\u001b[1m21177/21177\u001b[0m \u001b[32m━━━━━━━━━━━━━━━━━━━━\u001b[0m\u001b[37m\u001b[0m \u001b[1m30s\u001b[0m 1ms/step - loss: 1041520.0625 - val_loss: 1050382.6250\n",
      "Epoch 28/50\n",
      "\u001b[1m21177/21177\u001b[0m \u001b[32m━━━━━━━━━━━━━━━━━━━━\u001b[0m\u001b[37m\u001b[0m \u001b[1m29s\u001b[0m 1ms/step - loss: 1029071.1250 - val_loss: 1042948.3125\n",
      "Epoch 29/50\n",
      "\u001b[1m21177/21177\u001b[0m \u001b[32m━━━━━━━━━━━━━━━━━━━━\u001b[0m\u001b[37m\u001b[0m \u001b[1m30s\u001b[0m 1ms/step - loss: 1020536.5625 - val_loss: 1255652.5000\n",
      "Epoch 30/50\n",
      "\u001b[1m21177/21177\u001b[0m \u001b[32m━━━━━━━━━━━━━━━━━━━━\u001b[0m\u001b[37m\u001b[0m \u001b[1m28s\u001b[0m 1ms/step - loss: 1015451.6875 - val_loss: 1011030.5625\n",
      "Epoch 31/50\n",
      "\u001b[1m21177/21177\u001b[0m \u001b[32m━━━━━━━━━━━━━━━━━━━━\u001b[0m\u001b[37m\u001b[0m \u001b[1m32s\u001b[0m 2ms/step - loss: 1043971.2500 - val_loss: 1026618.8125\n",
      "Epoch 32/50\n",
      "\u001b[1m21177/21177\u001b[0m \u001b[32m━━━━━━━━━━━━━━━━━━━━\u001b[0m\u001b[37m\u001b[0m \u001b[1m30s\u001b[0m 1ms/step - loss: 996108.5000 - val_loss: 1038825.6875\n",
      "Epoch 33/50\n",
      "\u001b[1m21177/21177\u001b[0m \u001b[32m━━━━━━━━━━━━━━━━━━━━\u001b[0m\u001b[37m\u001b[0m \u001b[1m30s\u001b[0m 1ms/step - loss: 1001685.4375 - val_loss: 1141901.7500\n",
      "Epoch 34/50\n",
      "\u001b[1m21177/21177\u001b[0m \u001b[32m━━━━━━━━━━━━━━━━━━━━\u001b[0m\u001b[37m\u001b[0m \u001b[1m29s\u001b[0m 1ms/step - loss: 989279.8750 - val_loss: 1002508.4375\n",
      "Epoch 35/50\n",
      "\u001b[1m21177/21177\u001b[0m \u001b[32m━━━━━━━━━━━━━━━━━━━━\u001b[0m\u001b[37m\u001b[0m \u001b[1m30s\u001b[0m 1ms/step - loss: 973306.4375 - val_loss: 1013841.4375\n",
      "Epoch 36/50\n",
      "\u001b[1m21177/21177\u001b[0m \u001b[32m━━━━━━━━━━━━━━━━━━━━\u001b[0m\u001b[37m\u001b[0m \u001b[1m31s\u001b[0m 1ms/step - loss: 979233.5000 - val_loss: 1017552.8125\n",
      "Epoch 37/50\n",
      "\u001b[1m21177/21177\u001b[0m \u001b[32m━━━━━━━━━━━━━━━━━━━━\u001b[0m\u001b[37m\u001b[0m \u001b[1m28s\u001b[0m 1ms/step - loss: 965400.7500 - val_loss: 1194161.2500\n",
      "Epoch 38/50\n",
      "\u001b[1m21177/21177\u001b[0m \u001b[32m━━━━━━━━━━━━━━━━━━━━\u001b[0m\u001b[37m\u001b[0m \u001b[1m30s\u001b[0m 1ms/step - loss: 972001.5000 - val_loss: 988969.9375\n",
      "Epoch 39/50\n",
      "\u001b[1m21177/21177\u001b[0m \u001b[32m━━━━━━━━━━━━━━━━━━━━\u001b[0m\u001b[37m\u001b[0m \u001b[1m29s\u001b[0m 1ms/step - loss: 954294.5625 - val_loss: 997566.6250\n",
      "Epoch 40/50\n",
      "\u001b[1m21177/21177\u001b[0m \u001b[32m━━━━━━━━━━━━━━━━━━━━\u001b[0m\u001b[37m\u001b[0m \u001b[1m33s\u001b[0m 2ms/step - loss: 953925.8750 - val_loss: 1032179.2500\n",
      "Epoch 41/50\n",
      "\u001b[1m21177/21177\u001b[0m \u001b[32m━━━━━━━━━━━━━━━━━━━━\u001b[0m\u001b[37m\u001b[0m \u001b[1m30s\u001b[0m 1ms/step - loss: 945254.8750 - val_loss: 965717.5625\n",
      "Epoch 42/50\n",
      "\u001b[1m21177/21177\u001b[0m \u001b[32m━━━━━━━━━━━━━━━━━━━━\u001b[0m\u001b[37m\u001b[0m \u001b[1m30s\u001b[0m 1ms/step - loss: 938028.6250 - val_loss: 1288057.0000\n",
      "Epoch 43/50\n",
      "\u001b[1m21177/21177\u001b[0m \u001b[32m━━━━━━━━━━━━━━━━━━━━\u001b[0m\u001b[37m\u001b[0m \u001b[1m29s\u001b[0m 1ms/step - loss: 939353.5625 - val_loss: 1083102.5000\n",
      "Epoch 44/50\n",
      "\u001b[1m21177/21177\u001b[0m \u001b[32m━━━━━━━━━━━━━━━━━━━━\u001b[0m\u001b[37m\u001b[0m \u001b[1m31s\u001b[0m 1ms/step - loss: 933031.1250 - val_loss: 957524.3125\n",
      "Epoch 45/50\n",
      "\u001b[1m21177/21177\u001b[0m \u001b[32m━━━━━━━━━━━━━━━━━━━━\u001b[0m\u001b[37m\u001b[0m \u001b[1m29s\u001b[0m 1ms/step - loss: 930471.8125 - val_loss: 1082943.8750\n",
      "Epoch 46/50\n",
      "\u001b[1m21177/21177\u001b[0m \u001b[32m━━━━━━━━━━━━━━━━━━━━\u001b[0m\u001b[37m\u001b[0m \u001b[1m32s\u001b[0m 1ms/step - loss: 912027.3750 - val_loss: 944930.8750\n",
      "Epoch 47/50\n",
      "\u001b[1m21177/21177\u001b[0m \u001b[32m━━━━━━━━━━━━━━━━━━━━\u001b[0m\u001b[37m\u001b[0m \u001b[1m30s\u001b[0m 1ms/step - loss: 920629.9375 - val_loss: 1018576.5000\n",
      "Epoch 48/50\n",
      "\u001b[1m21177/21177\u001b[0m \u001b[32m━━━━━━━━━━━━━━━━━━━━\u001b[0m\u001b[37m\u001b[0m \u001b[1m31s\u001b[0m 1ms/step - loss: 914856.5000 - val_loss: 936662.8750\n",
      "Epoch 49/50\n",
      "\u001b[1m21177/21177\u001b[0m \u001b[32m━━━━━━━━━━━━━━━━━━━━\u001b[0m\u001b[37m\u001b[0m \u001b[1m30s\u001b[0m 1ms/step - loss: 906729.0625 - val_loss: 1156113.7500\n",
      "Epoch 50/50\n",
      "\u001b[1m21177/21177\u001b[0m \u001b[32m━━━━━━━━━━━━━━━━━━━━\u001b[0m\u001b[37m\u001b[0m \u001b[1m32s\u001b[0m 2ms/step - loss: 909298.3750 - val_loss: 903016.0625\n",
      "Epoch 1/50\n"
     ]
    },
    {
     "name": "stderr",
     "output_type": "stream",
     "text": [
      "C:\\Users\\Imran\\anaconda3\\Lib\\site-packages\\keras\\src\\layers\\core\\dense.py:87: UserWarning: Do not pass an `input_shape`/`input_dim` argument to a layer. When using Sequential models, prefer using an `Input(shape)` object as the first layer in the model instead.\n",
      "  super().__init__(activity_regularizer=activity_regularizer, **kwargs)\n"
     ]
    },
    {
     "name": "stdout",
     "output_type": "stream",
     "text": [
      "\u001b[1m11880/11880\u001b[0m \u001b[32m━━━━━━━━━━━━━━━━━━━━\u001b[0m\u001b[37m\u001b[0m \u001b[1m17s\u001b[0m 1ms/step - loss: 127613800.0000 - val_loss: 10082731.0000\n",
      "Epoch 2/50\n",
      "\u001b[1m11880/11880\u001b[0m \u001b[32m━━━━━━━━━━━━━━━━━━━━\u001b[0m\u001b[37m\u001b[0m \u001b[1m16s\u001b[0m 1ms/step - loss: 9217294.0000 - val_loss: 7306462.5000\n",
      "Epoch 3/50\n",
      "\u001b[1m11880/11880\u001b[0m \u001b[32m━━━━━━━━━━━━━━━━━━━━\u001b[0m\u001b[37m\u001b[0m \u001b[1m29s\u001b[0m 2ms/step - loss: 6811727.0000 - val_loss: 5979005.5000\n",
      "Epoch 4/50\n",
      "\u001b[1m11880/11880\u001b[0m \u001b[32m━━━━━━━━━━━━━━━━━━━━\u001b[0m\u001b[37m\u001b[0m \u001b[1m15s\u001b[0m 1ms/step - loss: 5688790.0000 - val_loss: 5285808.0000\n",
      "Epoch 5/50\n",
      "\u001b[1m11880/11880\u001b[0m \u001b[32m━━━━━━━━━━━━━━━━━━━━\u001b[0m\u001b[37m\u001b[0m \u001b[1m13s\u001b[0m 1ms/step - loss: 5096856.5000 - val_loss: 4737553.0000\n",
      "Epoch 6/50\n",
      "\u001b[1m11880/11880\u001b[0m \u001b[32m━━━━━━━━━━━━━━━━━━━━\u001b[0m\u001b[37m\u001b[0m \u001b[1m13s\u001b[0m 1ms/step - loss: 4734686.0000 - val_loss: 4470467.0000\n",
      "Epoch 7/50\n",
      "\u001b[1m11880/11880\u001b[0m \u001b[32m━━━━━━━━━━━━━━━━━━━━\u001b[0m\u001b[37m\u001b[0m \u001b[1m14s\u001b[0m 1ms/step - loss: 4368741.0000 - val_loss: 4224967.0000\n",
      "Epoch 8/50\n",
      "\u001b[1m11880/11880\u001b[0m \u001b[32m━━━━━━━━━━━━━━━━━━━━\u001b[0m\u001b[37m\u001b[0m \u001b[1m13s\u001b[0m 1ms/step - loss: 4140751.5000 - val_loss: 3998074.2500\n",
      "Epoch 9/50\n",
      "\u001b[1m11880/11880\u001b[0m \u001b[32m━━━━━━━━━━━━━━━━━━━━\u001b[0m\u001b[37m\u001b[0m \u001b[1m14s\u001b[0m 1ms/step - loss: 3851650.2500 - val_loss: 3804783.7500\n",
      "Epoch 10/50\n",
      "\u001b[1m11880/11880\u001b[0m \u001b[32m━━━━━━━━━━━━━━━━━━━━\u001b[0m\u001b[37m\u001b[0m \u001b[1m14s\u001b[0m 1ms/step - loss: 3667156.0000 - val_loss: 3621809.5000\n",
      "Epoch 11/50\n",
      "\u001b[1m11880/11880\u001b[0m \u001b[32m━━━━━━━━━━━━━━━━━━━━\u001b[0m\u001b[37m\u001b[0m \u001b[1m15s\u001b[0m 1ms/step - loss: 3525810.5000 - val_loss: 3473863.7500\n",
      "Epoch 12/50\n",
      "\u001b[1m11880/11880\u001b[0m \u001b[32m━━━━━━━━━━━━━━━━━━━━\u001b[0m\u001b[37m\u001b[0m \u001b[1m14s\u001b[0m 1ms/step - loss: 3366915.7500 - val_loss: 3323235.0000\n",
      "Epoch 13/50\n",
      "\u001b[1m11880/11880\u001b[0m \u001b[32m━━━━━━━━━━━━━━━━━━━━\u001b[0m\u001b[37m\u001b[0m \u001b[1m14s\u001b[0m 1ms/step - loss: 3264774.0000 - val_loss: 3224037.5000\n",
      "Epoch 14/50\n",
      "\u001b[1m11880/11880\u001b[0m \u001b[32m━━━━━━━━━━━━━━━━━━━━\u001b[0m\u001b[37m\u001b[0m \u001b[1m15s\u001b[0m 1ms/step - loss: 3150484.7500 - val_loss: 3176522.5000\n",
      "Epoch 15/50\n",
      "\u001b[1m11880/11880\u001b[0m \u001b[32m━━━━━━━━━━━━━━━━━━━━\u001b[0m\u001b[37m\u001b[0m \u001b[1m15s\u001b[0m 1ms/step - loss: 3067189.2500 - val_loss: 3076999.5000\n",
      "Epoch 16/50\n",
      "\u001b[1m11880/11880\u001b[0m \u001b[32m━━━━━━━━━━━━━━━━━━━━\u001b[0m\u001b[37m\u001b[0m \u001b[1m15s\u001b[0m 1ms/step - loss: 3016989.2500 - val_loss: 3050538.5000\n",
      "Epoch 17/50\n",
      "\u001b[1m11880/11880\u001b[0m \u001b[32m━━━━━━━━━━━━━━━━━━━━\u001b[0m\u001b[37m\u001b[0m \u001b[1m14s\u001b[0m 1ms/step - loss: 2946165.2500 - val_loss: 2990042.5000\n",
      "Epoch 18/50\n",
      "\u001b[1m11880/11880\u001b[0m \u001b[32m━━━━━━━━━━━━━━━━━━━━\u001b[0m\u001b[37m\u001b[0m \u001b[1m13s\u001b[0m 1ms/step - loss: 2904970.0000 - val_loss: 2928363.0000\n",
      "Epoch 19/50\n",
      "\u001b[1m11880/11880\u001b[0m \u001b[32m━━━━━━━━━━━━━━━━━━━━\u001b[0m\u001b[37m\u001b[0m \u001b[1m15s\u001b[0m 1ms/step - loss: 2829468.2500 - val_loss: 2837891.5000\n",
      "Epoch 20/50\n",
      "\u001b[1m11880/11880\u001b[0m \u001b[32m━━━━━━━━━━━━━━━━━━━━\u001b[0m\u001b[37m\u001b[0m \u001b[1m14s\u001b[0m 1ms/step - loss: 2774664.0000 - val_loss: 2807020.0000\n",
      "Epoch 21/50\n",
      "\u001b[1m11880/11880\u001b[0m \u001b[32m━━━━━━━━━━━━━━━━━━━━\u001b[0m\u001b[37m\u001b[0m \u001b[1m14s\u001b[0m 1ms/step - loss: 2713736.5000 - val_loss: 2762284.2500\n",
      "Epoch 22/50\n",
      "\u001b[1m11880/11880\u001b[0m \u001b[32m━━━━━━━━━━━━━━━━━━━━\u001b[0m\u001b[37m\u001b[0m \u001b[1m14s\u001b[0m 1ms/step - loss: 2682498.7500 - val_loss: 2723643.5000\n",
      "Epoch 23/50\n",
      "\u001b[1m11880/11880\u001b[0m \u001b[32m━━━━━━━━━━━━━━━━━━━━\u001b[0m\u001b[37m\u001b[0m \u001b[1m16s\u001b[0m 1ms/step - loss: 2653027.0000 - val_loss: 2674302.5000\n",
      "Epoch 24/50\n",
      "\u001b[1m11880/11880\u001b[0m \u001b[32m━━━━━━━━━━━━━━━━━━━━\u001b[0m\u001b[37m\u001b[0m \u001b[1m15s\u001b[0m 1ms/step - loss: 2638629.2500 - val_loss: 2672101.0000\n",
      "Epoch 25/50\n",
      "\u001b[1m11880/11880\u001b[0m \u001b[32m━━━━━━━━━━━━━━━━━━━━\u001b[0m\u001b[37m\u001b[0m \u001b[1m15s\u001b[0m 1ms/step - loss: 2578265.7500 - val_loss: 2615545.7500\n",
      "Epoch 26/50\n",
      "\u001b[1m11880/11880\u001b[0m \u001b[32m━━━━━━━━━━━━━━━━━━━━\u001b[0m\u001b[37m\u001b[0m \u001b[1m14s\u001b[0m 1ms/step - loss: 2508778.5000 - val_loss: 2536207.2500\n",
      "Epoch 27/50\n",
      "\u001b[1m11880/11880\u001b[0m \u001b[32m━━━━━━━━━━━━━━━━━━━━\u001b[0m\u001b[37m\u001b[0m \u001b[1m14s\u001b[0m 1ms/step - loss: 2495580.2500 - val_loss: 2553296.5000\n",
      "Epoch 28/50\n",
      "\u001b[1m11880/11880\u001b[0m \u001b[32m━━━━━━━━━━━━━━━━━━━━\u001b[0m\u001b[37m\u001b[0m \u001b[1m15s\u001b[0m 1ms/step - loss: 2464390.5000 - val_loss: 2507007.7500\n",
      "Epoch 29/50\n",
      "\u001b[1m11880/11880\u001b[0m \u001b[32m━━━━━━━━━━━━━━━━━━━━\u001b[0m\u001b[37m\u001b[0m \u001b[1m13s\u001b[0m 1ms/step - loss: 2421335.5000 - val_loss: 2491043.5000\n",
      "Epoch 30/50\n",
      "\u001b[1m11880/11880\u001b[0m \u001b[32m━━━━━━━━━━━━━━━━━━━━\u001b[0m\u001b[37m\u001b[0m \u001b[1m14s\u001b[0m 1ms/step - loss: 2416268.5000 - val_loss: 2442781.0000\n",
      "Epoch 31/50\n",
      "\u001b[1m11880/11880\u001b[0m \u001b[32m━━━━━━━━━━━━━━━━━━━━\u001b[0m\u001b[37m\u001b[0m \u001b[1m14s\u001b[0m 1ms/step - loss: 2366879.2500 - val_loss: 2412553.0000\n",
      "Epoch 32/50\n",
      "\u001b[1m11880/11880\u001b[0m \u001b[32m━━━━━━━━━━━━━━━━━━━━\u001b[0m\u001b[37m\u001b[0m \u001b[1m15s\u001b[0m 1ms/step - loss: 2363127.5000 - val_loss: 2440427.5000\n",
      "Epoch 33/50\n",
      "\u001b[1m11880/11880\u001b[0m \u001b[32m━━━━━━━━━━━━━━━━━━━━\u001b[0m\u001b[37m\u001b[0m \u001b[1m15s\u001b[0m 1ms/step - loss: 2303171.0000 - val_loss: 2383255.2500\n",
      "Epoch 34/50\n",
      "\u001b[1m11880/11880\u001b[0m \u001b[32m━━━━━━━━━━━━━━━━━━━━\u001b[0m\u001b[37m\u001b[0m \u001b[1m13s\u001b[0m 1ms/step - loss: 2370643.0000 - val_loss: 2315064.2500\n",
      "Epoch 35/50\n",
      "\u001b[1m11880/11880\u001b[0m \u001b[32m━━━━━━━━━━━━━━━━━━━━\u001b[0m\u001b[37m\u001b[0m \u001b[1m14s\u001b[0m 1ms/step - loss: 2277264.7500 - val_loss: 2292629.5000\n",
      "Epoch 36/50\n",
      "\u001b[1m11880/11880\u001b[0m \u001b[32m━━━━━━━━━━━━━━━━━━━━\u001b[0m\u001b[37m\u001b[0m \u001b[1m13s\u001b[0m 1ms/step - loss: 2253825.5000 - val_loss: 2285908.7500\n",
      "Epoch 37/50\n",
      "\u001b[1m11880/11880\u001b[0m \u001b[32m━━━━━━━━━━━━━━━━━━━━\u001b[0m\u001b[37m\u001b[0m \u001b[1m15s\u001b[0m 1ms/step - loss: 2236625.2500 - val_loss: 2307860.7500\n",
      "Epoch 38/50\n",
      "\u001b[1m11880/11880\u001b[0m \u001b[32m━━━━━━━━━━━━━━━━━━━━\u001b[0m\u001b[37m\u001b[0m \u001b[1m14s\u001b[0m 1ms/step - loss: 2192113.2500 - val_loss: 2219015.7500\n",
      "Epoch 39/50\n",
      "\u001b[1m11880/11880\u001b[0m \u001b[32m━━━━━━━━━━━━━━━━━━━━\u001b[0m\u001b[37m\u001b[0m \u001b[1m14s\u001b[0m 1ms/step - loss: 2191101.7500 - val_loss: 2267551.7500\n",
      "Epoch 40/50\n",
      "\u001b[1m11880/11880\u001b[0m \u001b[32m━━━━━━━━━━━━━━━━━━━━\u001b[0m\u001b[37m\u001b[0m \u001b[1m14s\u001b[0m 1ms/step - loss: 2157266.5000 - val_loss: 2213094.7500\n",
      "Epoch 41/50\n",
      "\u001b[1m11880/11880\u001b[0m \u001b[32m━━━━━━━━━━━━━━━━━━━━\u001b[0m\u001b[37m\u001b[0m \u001b[1m15s\u001b[0m 1ms/step - loss: 2155847.0000 - val_loss: 2185407.5000\n",
      "Epoch 42/50\n",
      "\u001b[1m11880/11880\u001b[0m \u001b[32m━━━━━━━━━━━━━━━━━━━━\u001b[0m\u001b[37m\u001b[0m \u001b[1m14s\u001b[0m 1ms/step - loss: 2245829.5000 - val_loss: 2155951.7500\n",
      "Epoch 43/50\n",
      "\u001b[1m11880/11880\u001b[0m \u001b[32m━━━━━━━━━━━━━━━━━━━━\u001b[0m\u001b[37m\u001b[0m \u001b[1m13s\u001b[0m 1ms/step - loss: 2123234.7500 - val_loss: 2154111.0000\n",
      "Epoch 44/50\n",
      "\u001b[1m11880/11880\u001b[0m \u001b[32m━━━━━━━━━━━━━━━━━━━━\u001b[0m\u001b[37m\u001b[0m \u001b[1m13s\u001b[0m 1ms/step - loss: 2067517.1250 - val_loss: 2144405.0000\n",
      "Epoch 45/50\n",
      "\u001b[1m11880/11880\u001b[0m \u001b[32m━━━━━━━━━━━━━━━━━━━━\u001b[0m\u001b[37m\u001b[0m \u001b[1m15s\u001b[0m 1ms/step - loss: 2053442.1250 - val_loss: 2136006.0000\n",
      "Epoch 46/50\n",
      "\u001b[1m11880/11880\u001b[0m \u001b[32m━━━━━━━━━━━━━━━━━━━━\u001b[0m\u001b[37m\u001b[0m \u001b[1m14s\u001b[0m 1ms/step - loss: 2154691.5000 - val_loss: 2141627.0000\n",
      "Epoch 47/50\n",
      "\u001b[1m11880/11880\u001b[0m \u001b[32m━━━━━━━━━━━━━━━━━━━━\u001b[0m\u001b[37m\u001b[0m \u001b[1m13s\u001b[0m 1ms/step - loss: 2040684.6250 - val_loss: 2100310.0000\n",
      "Epoch 48/50\n",
      "\u001b[1m11880/11880\u001b[0m \u001b[32m━━━━━━━━━━━━━━━━━━━━\u001b[0m\u001b[37m\u001b[0m \u001b[1m13s\u001b[0m 1ms/step - loss: 2159268.0000 - val_loss: 2118519.0000\n",
      "Epoch 49/50\n",
      "\u001b[1m11880/11880\u001b[0m \u001b[32m━━━━━━━━━━━━━━━━━━━━\u001b[0m\u001b[37m\u001b[0m \u001b[1m13s\u001b[0m 1ms/step - loss: 2062076.7500 - val_loss: 2092522.0000\n",
      "Epoch 50/50\n",
      "\u001b[1m11880/11880\u001b[0m \u001b[32m━━━━━━━━━━━━━━━━━━━━\u001b[0m\u001b[37m\u001b[0m \u001b[1m14s\u001b[0m 1ms/step - loss: 2019542.3750 - val_loss: 2053751.6250\n"
     ]
    }
   ],
   "source": [
    "# Train an ANN for each cluster\n",
    "ann_models = {}\n",
    "for cluster in range(3):\n",
    "    cluster_data = data[data['cluster'] == cluster]\n",
    "    ann_models[cluster] = train_ann_on_cluster(cluster_data)"
   ]
  },
  {
   "cell_type": "code",
   "execution_count": 14,
   "id": "82f98c76-5dd3-4741-be51-358b7927964b",
   "metadata": {
    "execution": {
     "iopub.execute_input": "2024-06-18T18:38:46.740557Z",
     "iopub.status.busy": "2024-06-18T18:38:46.740557Z",
     "iopub.status.idle": "2024-06-18T18:38:46.746598Z",
     "shell.execute_reply": "2024-06-18T18:38:46.745589Z",
     "shell.execute_reply.started": "2024-06-18T18:38:46.740557Z"
    },
    "tags": []
   },
   "outputs": [],
   "source": [
    "from sklearn.metrics import mean_squared_error, mean_absolute_error, r2_score"
   ]
  },
  {
   "cell_type": "code",
   "execution_count": 15,
   "id": "57f95034-79a9-465e-b78d-9facd421b042",
   "metadata": {
    "execution": {
     "iopub.execute_input": "2024-06-18T18:38:46.748601Z",
     "iopub.status.busy": "2024-06-18T18:38:46.748601Z",
     "iopub.status.idle": "2024-06-18T18:38:46.831294Z",
     "shell.execute_reply": "2024-06-18T18:38:46.830283Z",
     "shell.execute_reply.started": "2024-06-18T18:38:46.748601Z"
    },
    "tags": []
   },
   "outputs": [],
   "source": [
    "import numpy as np\n",
    "from sklearn.metrics import mean_squared_error, mean_absolute_error, r2_score\n",
    "\n",
    "# Assign each sample in the test set to a cluster\n",
    "test_clusters = kmeans.predict(X_test)\n",
    "\n",
    "# Initialize an array to hold the predictions\n",
    "combined_predictions = np.zeros_like(y_test)"
   ]
  },
  {
   "cell_type": "code",
   "execution_count": 16,
   "id": "f8aa4710-e5fd-43ea-ae07-bdd7ade14478",
   "metadata": {
    "execution": {
     "iopub.execute_input": "2024-06-18T18:38:46.833658Z",
     "iopub.status.busy": "2024-06-18T18:38:46.833658Z",
     "iopub.status.idle": "2024-06-18T18:38:57.701365Z",
     "shell.execute_reply": "2024-06-18T18:38:57.700351Z",
     "shell.execute_reply.started": "2024-06-18T18:38:46.833658Z"
    },
    "tags": []
   },
   "outputs": [
    {
     "name": "stdout",
     "output_type": "stream",
     "text": [
      "\u001b[1m161/161\u001b[0m \u001b[32m━━━━━━━━━━━━━━━━━━━━\u001b[0m\u001b[37m\u001b[0m \u001b[1m0s\u001b[0m 2ms/step\n",
      "\u001b[1m5284/5284\u001b[0m \u001b[32m━━━━━━━━━━━━━━━━━━━━\u001b[0m\u001b[37m\u001b[0m \u001b[1m4s\u001b[0m 664us/step\n",
      "\u001b[1m2983/2983\u001b[0m \u001b[32m━━━━━━━━━━━━━━━━━━━━\u001b[0m\u001b[37m\u001b[0m \u001b[1m2s\u001b[0m 771us/step\n",
      "Combined Model MSE: 1359358.8965593714\n",
      "Combined Model RMSE: 1165.9154757354288\n",
      "Combined Model MAE: 663.909256209211\n",
      "Combined Model R²: 0.9852185386377429\n"
     ]
    }
   ],
   "source": [
    "# Make predictions using the corresponding model for each cluster\n",
    "for cluster in range(3):\n",
    "    cluster_indices = np.where(test_clusters == cluster)[0]\n",
    "    if len(cluster_indices) > 0:\n",
    "        X_cluster = X_test.iloc[cluster_indices]  # Use .iloc to select rows by index\n",
    "        model = ann_models[cluster]\n",
    "        combined_predictions[cluster_indices] = model.predict(X_cluster).flatten()\n",
    "\n",
    "# Evaluate the combined performance\n",
    "combined_mse = mean_squared_error(y_test, combined_predictions)\n",
    "combined_rmse = np.sqrt(combined_mse)\n",
    "combined_mae = mean_absolute_error(y_test, combined_predictions)\n",
    "combined_r2 = r2_score(y_test, combined_predictions)\n",
    "\n",
    "print(f'Combined Model MSE: {combined_mse}')\n",
    "print(f'Combined Model RMSE: {combined_rmse}')\n",
    "print(f'Combined Model MAE: {combined_mae}')\n",
    "print(f'Combined Model R²: {combined_r2}')\n"
   ]
  },
  {
   "cell_type": "code",
   "execution_count": 17,
   "id": "24ecdc63-1355-4428-acf3-9c7f791364f5",
   "metadata": {
    "execution": {
     "iopub.execute_input": "2024-06-18T18:38:57.702492Z",
     "iopub.status.busy": "2024-06-18T18:38:57.702492Z",
     "iopub.status.idle": "2024-06-18T18:39:18.373586Z",
     "shell.execute_reply": "2024-06-18T18:39:18.372089Z",
     "shell.execute_reply.started": "2024-06-18T18:38:57.702492Z"
    },
    "tags": []
   },
   "outputs": [
    {
     "name": "stdout",
     "output_type": "stream",
     "text": [
      "\u001b[1m8426/8426\u001b[0m \u001b[32m━━━━━━━━━━━━━━━━━━━━\u001b[0m\u001b[37m\u001b[0m \u001b[1m7s\u001b[0m 819us/step\n",
      "Single Model MSE: 1233847.898633264\n",
      "Single Model RMSE: 1110.787062687203\n",
      "Single Model MAE: 649.7678654831042\n",
      "Single Model R²: 0.9865833260909157\n"
     ]
    }
   ],
   "source": [
    "# Make predictions using the single model\n",
    "single_predictions = single_model.predict(X_test).flatten()\n",
    "\n",
    "# Evaluate the performance\n",
    "single_mse = mean_squared_error(y_test, single_predictions)\n",
    "single_rmse = np.sqrt(single_mse)\n",
    "single_mae = mean_absolute_error(y_test, single_predictions)\n",
    "single_r2 = r2_score(y_test, single_predictions)\n",
    "\n",
    "print(f'Single Model MSE: {single_mse}')\n",
    "print(f'Single Model RMSE: {single_rmse}')\n",
    "print(f'Single Model MAE: {single_mae}')\n",
    "print(f'Single Model R²: {single_r2}')\n"
   ]
  },
  {
   "cell_type": "code",
   "execution_count": 18,
   "id": "53e403be-411e-4817-8c3e-aab4a19c584c",
   "metadata": {
    "execution": {
     "iopub.execute_input": "2024-06-18T18:39:18.374789Z",
     "iopub.status.busy": "2024-06-18T18:39:18.373586Z",
     "iopub.status.idle": "2024-06-18T18:39:18.379081Z",
     "shell.execute_reply": "2024-06-18T18:39:18.378075Z",
     "shell.execute_reply.started": "2024-06-18T18:39:18.373586Z"
    }
   },
   "outputs": [],
   "source": [
    "#create a dataframe of scores\n",
    "performance_metrics = pd.DataFrame({\n",
    "    'Metric': ['MSE', 'RMSE', 'MAE', 'R²'],\n",
    "    'Single Model': [single_mse, single_rmse, single_mae, single_r2],\n",
    "    'Combined Model': [combined_mse, combined_rmse, combined_mae, combined_r2]\n",
    "})"
   ]
  },
  {
   "cell_type": "code",
   "execution_count": 19,
   "id": "e8f0684e-a318-4d69-a2d2-1f0f35b18f77",
   "metadata": {
    "execution": {
     "iopub.execute_input": "2024-06-18T18:39:18.381453Z",
     "iopub.status.busy": "2024-06-18T18:39:18.380084Z",
     "iopub.status.idle": "2024-06-18T18:39:18.402892Z",
     "shell.execute_reply": "2024-06-18T18:39:18.402892Z",
     "shell.execute_reply.started": "2024-06-18T18:39:18.381453Z"
    }
   },
   "outputs": [],
   "source": [
    "# Export the performance metrics to a CSV file\n",
    "performance_metrics.to_csv('performance_metrics_PCA_ANN.csv', index=False)"
   ]
  },
  {
   "cell_type": "code",
   "execution_count": 20,
   "id": "8d9f498a-0e81-4bf8-9900-4c36f7682ba6",
   "metadata": {
    "execution": {
     "iopub.execute_input": "2024-06-18T18:39:18.405660Z",
     "iopub.status.busy": "2024-06-18T18:39:18.404176Z",
     "iopub.status.idle": "2024-06-18T18:39:19.192038Z",
     "shell.execute_reply": "2024-06-18T18:39:19.190962Z",
     "shell.execute_reply.started": "2024-06-18T18:39:18.405660Z"
    }
   },
   "outputs": [],
   "source": [
    "import matplotlib.pyplot as plt"
   ]
  },
  {
   "cell_type": "code",
   "execution_count": 21,
   "id": "a65e98ed-3fa0-4911-9c39-a95170d17cdf",
   "metadata": {
    "execution": {
     "iopub.execute_input": "2024-06-18T18:39:19.193046Z",
     "iopub.status.busy": "2024-06-18T18:39:19.193046Z",
     "iopub.status.idle": "2024-06-18T18:39:19.202139Z",
     "shell.execute_reply": "2024-06-18T18:39:19.202139Z",
     "shell.execute_reply.started": "2024-06-18T18:39:19.193046Z"
    }
   },
   "outputs": [
    {
     "name": "stdout",
     "output_type": "stream",
     "text": [
      "Feature 28: Importance 4.774618625640869\n",
      "Feature 32: Importance 2.8182482719421387\n",
      "Feature 23: Importance 2.7313759326934814\n",
      "Feature 24: Importance 2.357123613357544\n",
      "Feature 21: Importance 2.3021392822265625\n"
     ]
    }
   ],
   "source": [
    "# Get the weights of the connections between input and hidden layers\n",
    "weights_input_hidden = single_model.layers[0].get_weights()[0]\n",
    "\n",
    "# Compute feature importances based on the weights\n",
    "importances = np.mean(np.abs(weights_input_hidden), axis=1)\n",
    "\n",
    "# Get the indices that would sort the importances array in descending order\n",
    "sorted_indices = np.argsort(importances)[::-1]\n",
    "\n",
    "# Display top 5 feature importance\n",
    "top_n = 5\n",
    "for i in range(top_n):\n",
    "    print(f\"Feature {sorted_indices[i]}: Importance {importances[sorted_indices[i]]}\")"
   ]
  },
  {
   "cell_type": "code",
   "execution_count": 22,
   "id": "05b25f7e-fa92-4df2-8015-315a6b96611e",
   "metadata": {
    "execution": {
     "iopub.execute_input": "2024-06-18T18:39:19.204365Z",
     "iopub.status.busy": "2024-06-18T18:39:19.204365Z",
     "iopub.status.idle": "2024-06-18T18:39:19.367241Z",
     "shell.execute_reply": "2024-06-18T18:39:19.366233Z",
     "shell.execute_reply.started": "2024-06-18T18:39:19.204365Z"
    }
   },
   "outputs": [
    {
     "data": {
      "image/png": "[encoded data removed]",
      "text/plain": [
       "<Figure size 800x500 with 1 Axes>"
      ]
     },
     "metadata": {},
     "output_type": "display_data"
    }
   ],
   "source": [
    "# Define colors for bars\n",
    "colors = ['blue', 'green', 'red', 'orange', 'purple']\n",
    "\n",
    "# Plot horizontal bar chart of top 5 feature importances with different colors\n",
    "top_n = 5\n",
    "plt.figure(figsize=(8, 5))\n",
    "plt.barh(range(top_n), importances[sorted_indices][:top_n], align='center', color=colors)\n",
    "plt.yticks(range(top_n), sorted_indices[:top_n])\n",
    "plt.xlabel('Importance')\n",
    "plt.ylabel('Feature Index')\n",
    "plt.title('Top 5 Feature Importances')\n",
    "plt.show()"
   ]
  },
  {
   "cell_type": "code",
   "execution_count": 23,
   "id": "341dad0f-a0bd-4b03-bef9-5a58468f4e73",
   "metadata": {
    "execution": {
     "iopub.execute_input": "2024-06-18T18:39:19.368240Z",
     "iopub.status.busy": "2024-06-18T18:39:19.367241Z",
     "iopub.status.idle": "2024-06-18T18:39:19.375052Z",
     "shell.execute_reply": "2024-06-18T18:39:19.374046Z",
     "shell.execute_reply.started": "2024-06-18T18:39:19.368240Z"
    }
   },
   "outputs": [
    {
     "name": "stdout",
     "output_type": "stream",
     "text": [
      "Feature 28: Importance 4.068866729736328\n",
      "Feature 32: Importance 2.3986618518829346\n",
      "Feature 23: Importance 2.0759472846984863\n",
      "Feature 31: Importance 1.769329309463501\n",
      "Feature 24: Importance 1.6981688737869263\n"
     ]
    }
   ],
   "source": [
    "# Get the weights of the connections between input and hidden layers\n",
    "weights_input_hidden = model.layers[0].get_weights()[0]\n",
    "\n",
    "# Compute feature importances based on the weights\n",
    "importances = np.mean(np.abs(weights_input_hidden), axis=1)\n",
    "\n",
    "# Get the indices that would sort the importances array in descending order\n",
    "sorted_indices = np.argsort(importances)[::-1]\n",
    "\n",
    "# Display top 5 feature importance\n",
    "top_n = 5\n",
    "for i in range(top_n):\n",
    "    print(f\"Feature {sorted_indices[i]}: Importance {importances[sorted_indices[i]]}\")"
   ]
  },
  {
   "cell_type": "code",
   "execution_count": 24,
   "id": "5702d328-2637-41a1-a514-dd432f1f309c",
   "metadata": {
    "execution": {
     "iopub.execute_input": "2024-06-18T18:39:19.376359Z",
     "iopub.status.busy": "2024-06-18T18:39:19.376359Z",
     "iopub.status.idle": "2024-06-18T18:39:19.520414Z",
     "shell.execute_reply": "2024-06-18T18:39:19.519382Z",
     "shell.execute_reply.started": "2024-06-18T18:39:19.376359Z"
    }
   },
   "outputs": [
    {
     "data": {
      "image/png": "[encoded data removed]",
      "text/plain": [
       "<Figure size 800x500 with 1 Axes>"
      ]
     },
     "metadata": {},
     "output_type": "display_data"
    }
   ],
   "source": [
    "# Define colors for bars\n",
    "colors = ['blue', 'green', 'red', 'orange', 'purple']\n",
    "\n",
    "# Plot horizontal bar chart of top 5 feature importances with different colors\n",
    "top_n = 5\n",
    "plt.figure(figsize=(8, 5))\n",
    "plt.barh(range(top_n), importances[sorted_indices][:top_n], align='center', color=colors)\n",
    "plt.yticks(range(top_n), sorted_indices[:top_n])\n",
    "plt.xlabel('Importance')\n",
    "plt.ylabel('Feature Index')\n",
    "plt.title('Top 5 Feature Importances')\n",
    "plt.show()"
   ]
  }
 ],
 "metadata": {
  "kernelspec": {
   "display_name": "Python 3 (ipykernel)",
   "language": "python",
   "name": "python3"
  },
  "language_info": {
   "codemirror_mode": {
    "name": "ipython",
    "version": 3
   },
   "file_extension": ".py",
   "mimetype": "text/x-python",
   "name": "python",
   "nbconvert_exporter": "python",
   "pygments_lexer": "ipython3",
   "version": "3.11.7"
  }
 },
 "nbformat": 4,
 "nbformat_minor": 5
}
