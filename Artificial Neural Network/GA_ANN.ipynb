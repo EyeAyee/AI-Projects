{
 "cells": [
  {
   "cell_type": "code",
   "execution_count": 1,
   "id": "c3910fe7-65fc-49d2-9e09-d3e402eb69d7",
   "metadata": {
    "execution": {
     "iopub.execute_input": "2024-06-17T14:10:02.915805Z",
     "iopub.status.busy": "2024-06-17T14:10:02.915805Z",
     "iopub.status.idle": "2024-06-17T14:10:04.861720Z",
     "shell.execute_reply": "2024-06-17T14:10:04.861720Z",
     "shell.execute_reply.started": "2024-06-17T14:10:02.915805Z"
    },
    "tags": []
   },
   "outputs": [],
   "source": [
    "import pandas as pd\n",
    "from sklearn.model_selection import train_test_split\n",
    "from sklearn.linear_model import LogisticRegression\n",
    "from sklearn.naive_bayes import GaussianNB\n",
    "from sklearn.ensemble import RandomForestClassifier\n",
    "from sklearn.svm import SVC\n",
    "from sklearn.metrics import confusion_matrix, accuracy_score, precision_score, recall_score, f1_score"
   ]
  },
  {
   "cell_type": "code",
   "execution_count": 2,
   "id": "cf69b91e-da5e-4fe5-88ae-54259e4b1cc1",
   "metadata": {
    "execution": {
     "iopub.execute_input": "2024-06-17T14:10:04.866136Z",
     "iopub.status.busy": "2024-06-17T14:10:04.865136Z",
     "iopub.status.idle": "2024-06-17T14:10:14.371305Z",
     "shell.execute_reply": "2024-06-17T14:10:14.370236Z",
     "shell.execute_reply.started": "2024-06-17T14:10:04.866136Z"
    },
    "tags": []
   },
   "outputs": [],
   "source": [
    "# Load the sample dataset\n",
    "data = pd.read_csv('C:/Users/Imran/OneDrive - Ontario Tech University/Documents/Capstone/0.5_test_GA.csv')"
   ]
  },
  {
   "cell_type": "code",
   "execution_count": 3,
   "id": "5177796f-3f3b-4ba7-9133-f1c375c1674d",
   "metadata": {
    "execution": {
     "iopub.execute_input": "2024-06-17T14:10:14.373262Z",
     "iopub.status.busy": "2024-06-17T14:10:14.373262Z",
     "iopub.status.idle": "2024-06-17T14:10:15.757837Z",
     "shell.execute_reply": "2024-06-17T14:10:15.755703Z",
     "shell.execute_reply.started": "2024-06-17T14:10:14.373262Z"
    },
    "tags": []
   },
   "outputs": [],
   "source": [
    "# Import necessary libraries\n",
    "import warnings\n",
    "warnings.filterwarnings('ignore')\n",
    "import numpy as np\n",
    "import seaborn as sns\n",
    "import matplotlib.pyplot as plt\n",
    "from sklearn.cluster import KMeans\n",
    "from sklearn.preprocessing import StandardScaler\n",
    "from sklearn.decomposition import PCA"
   ]
  },
  {
   "cell_type": "code",
   "execution_count": 4,
   "id": "b34e9e5f-d2d3-4f95-a353-afdd6201e8b1",
   "metadata": {
    "execution": {
     "iopub.execute_input": "2024-06-17T14:10:15.760762Z",
     "iopub.status.busy": "2024-06-17T14:10:15.759717Z",
     "iopub.status.idle": "2024-06-17T14:10:24.893806Z",
     "shell.execute_reply": "2024-06-17T14:10:24.893806Z",
     "shell.execute_reply.started": "2024-06-17T14:10:15.760762Z"
    },
    "tags": []
   },
   "outputs": [],
   "source": [
    "import tensorflow as tf\n",
    "from tensorflow.keras.models import Sequential\n",
    "from tensorflow.keras.layers import Dense"
   ]
  },
  {
   "cell_type": "code",
   "execution_count": 5,
   "id": "b1246fb0-25a8-42bb-8e7b-2743caa66f0e",
   "metadata": {
    "execution": {
     "iopub.execute_input": "2024-06-17T14:10:24.895877Z",
     "iopub.status.busy": "2024-06-17T14:10:24.895877Z",
     "iopub.status.idle": "2024-06-17T14:10:24.903225Z",
     "shell.execute_reply": "2024-06-17T14:10:24.901736Z",
     "shell.execute_reply.started": "2024-06-17T14:10:24.895877Z"
    },
    "tags": []
   },
   "outputs": [],
   "source": [
    "labels = data['target']"
   ]
  },
  {
   "cell_type": "code",
   "execution_count": 6,
   "id": "01db1d9c-fa78-4160-a0a4-bf9edebec98b",
   "metadata": {
    "execution": {
     "iopub.execute_input": "2024-06-17T14:10:24.904539Z",
     "iopub.status.busy": "2024-06-17T14:10:24.904539Z",
     "iopub.status.idle": "2024-06-17T14:10:25.116019Z",
     "shell.execute_reply": "2024-06-17T14:10:25.114967Z",
     "shell.execute_reply.started": "2024-06-17T14:10:24.904539Z"
    },
    "tags": []
   },
   "outputs": [],
   "source": [
    "features = data.drop('target', axis=1)"
   ]
  },
  {
   "cell_type": "code",
   "execution_count": 7,
   "id": "efaa4447-21a4-487c-b559-863254d97211",
   "metadata": {
    "execution": {
     "iopub.execute_input": "2024-06-17T14:10:25.118105Z",
     "iopub.status.busy": "2024-06-17T14:10:25.118105Z",
     "iopub.status.idle": "2024-06-17T14:10:26.304538Z",
     "shell.execute_reply": "2024-06-17T14:10:26.303530Z",
     "shell.execute_reply.started": "2024-06-17T14:10:25.118105Z"
    },
    "tags": []
   },
   "outputs": [],
   "source": [
    "X_train, X_test, y_train, y_test = train_test_split(features, labels, test_size=0.2, random_state=42)"
   ]
  },
  {
   "cell_type": "markdown",
   "id": "c1114ef9-88f5-4cf9-8b8d-3ebbc458f097",
   "metadata": {},
   "source": [
    "### Creating an individual model"
   ]
  },
  {
   "cell_type": "code",
   "execution_count": 9,
   "id": "7767b8ce-8ced-4390-a7d8-973b0353f33b",
   "metadata": {
    "execution": {
     "iopub.execute_input": "2024-06-17T14:10:26.380168Z",
     "iopub.status.busy": "2024-06-17T14:10:26.379167Z",
     "iopub.status.idle": "2024-06-17T14:50:33.862735Z",
     "shell.execute_reply": "2024-06-17T14:50:33.861698Z",
     "shell.execute_reply.started": "2024-06-17T14:10:26.380168Z"
    },
    "tags": []
   },
   "outputs": [
    {
     "name": "stdout",
     "output_type": "stream",
     "text": [
      "Epoch 1/50\n",
      "\u001b[1m33702/33702\u001b[0m \u001b[32m━━━━━━━━━━━━━━━━━━━━\u001b[0m\u001b[37m\u001b[0m \u001b[1m53s\u001b[0m 2ms/step - loss: 31151116.0000 - val_loss: 451767.0000\n",
      "Epoch 2/50\n",
      "\u001b[1m33702/33702\u001b[0m \u001b[32m━━━━━━━━━━━━━━━━━━━━\u001b[0m\u001b[37m\u001b[0m \u001b[1m49s\u001b[0m 1ms/step - loss: 393284.3438 - val_loss: 249163.1875\n",
      "Epoch 3/50\n",
      "\u001b[1m33702/33702\u001b[0m \u001b[32m━━━━━━━━━━━━━━━━━━━━\u001b[0m\u001b[37m\u001b[0m \u001b[1m50s\u001b[0m 1ms/step - loss: 240724.6250 - val_loss: 219131.7500\n",
      "Epoch 4/50\n",
      "\u001b[1m33702/33702\u001b[0m \u001b[32m━━━━━━━━━━━━━━━━━━━━\u001b[0m\u001b[37m\u001b[0m \u001b[1m50s\u001b[0m 1ms/step - loss: 215453.6562 - val_loss: 209574.0781\n",
      "Epoch 5/50\n",
      "\u001b[1m33702/33702\u001b[0m \u001b[32m━━━━━━━━━━━━━━━━━━━━\u001b[0m\u001b[37m\u001b[0m \u001b[1m50s\u001b[0m 1ms/step - loss: 206936.9375 - val_loss: 190923.1562\n",
      "Epoch 6/50\n",
      "\u001b[1m33702/33702\u001b[0m \u001b[32m━━━━━━━━━━━━━━━━━━━━\u001b[0m\u001b[37m\u001b[0m \u001b[1m50s\u001b[0m 1ms/step - loss: 193393.5625 - val_loss: 192186.4062\n",
      "Epoch 7/50\n",
      "\u001b[1m33702/33702\u001b[0m \u001b[32m━━━━━━━━━━━━━━━━━━━━\u001b[0m\u001b[37m\u001b[0m \u001b[1m53s\u001b[0m 2ms/step - loss: 191501.3281 - val_loss: 189196.0156\n",
      "Epoch 8/50\n",
      "\u001b[1m33702/33702\u001b[0m \u001b[32m━━━━━━━━━━━━━━━━━━━━\u001b[0m\u001b[37m\u001b[0m \u001b[1m51s\u001b[0m 1ms/step - loss: 180097.8125 - val_loss: 171194.2812\n",
      "Epoch 9/50\n",
      "\u001b[1m33702/33702\u001b[0m \u001b[32m━━━━━━━━━━━━━━━━━━━━\u001b[0m\u001b[37m\u001b[0m \u001b[1m50s\u001b[0m 1ms/step - loss: 179363.1562 - val_loss: 167766.5312\n",
      "Epoch 10/50\n",
      "\u001b[1m33702/33702\u001b[0m \u001b[32m━━━━━━━━━━━━━━━━━━━━\u001b[0m\u001b[37m\u001b[0m \u001b[1m50s\u001b[0m 1ms/step - loss: 174914.4688 - val_loss: 168104.8125\n",
      "Epoch 11/50\n",
      "\u001b[1m33702/33702\u001b[0m \u001b[32m━━━━━━━━━━━━━━━━━━━━\u001b[0m\u001b[37m\u001b[0m \u001b[1m49s\u001b[0m 1ms/step - loss: 169893.4531 - val_loss: 163928.7812\n",
      "Epoch 12/50\n",
      "\u001b[1m33702/33702\u001b[0m \u001b[32m━━━━━━━━━━━━━━━━━━━━\u001b[0m\u001b[37m\u001b[0m \u001b[1m50s\u001b[0m 1ms/step - loss: 171035.7969 - val_loss: 165661.1094\n",
      "Epoch 13/50\n",
      "\u001b[1m33702/33702\u001b[0m \u001b[32m━━━━━━━━━━━━━━━━━━━━\u001b[0m\u001b[37m\u001b[0m \u001b[1m49s\u001b[0m 1ms/step - loss: 178316.1562 - val_loss: 159454.8594\n",
      "Epoch 14/50\n",
      "\u001b[1m33702/33702\u001b[0m \u001b[32m━━━━━━━━━━━━━━━━━━━━\u001b[0m\u001b[37m\u001b[0m \u001b[1m49s\u001b[0m 1ms/step - loss: 160445.0000 - val_loss: 156538.8281\n",
      "Epoch 15/50\n",
      "\u001b[1m33702/33702\u001b[0m \u001b[32m━━━━━━━━━━━━━━━━━━━━\u001b[0m\u001b[37m\u001b[0m \u001b[1m49s\u001b[0m 1ms/step - loss: 163371.0312 - val_loss: 167194.1406\n",
      "Epoch 16/50\n",
      "\u001b[1m33702/33702\u001b[0m \u001b[32m━━━━━━━━━━━━━━━━━━━━\u001b[0m\u001b[37m\u001b[0m \u001b[1m51s\u001b[0m 2ms/step - loss: 164639.9844 - val_loss: 159318.6250\n",
      "Epoch 17/50\n",
      "\u001b[1m33702/33702\u001b[0m \u001b[32m━━━━━━━━━━━━━━━━━━━━\u001b[0m\u001b[37m\u001b[0m \u001b[1m49s\u001b[0m 1ms/step - loss: 162642.1094 - val_loss: 157407.5156\n",
      "Epoch 18/50\n",
      "\u001b[1m33702/33702\u001b[0m \u001b[32m━━━━━━━━━━━━━━━━━━━━\u001b[0m\u001b[37m\u001b[0m \u001b[1m49s\u001b[0m 1ms/step - loss: 157232.4375 - val_loss: 154127.9219\n",
      "Epoch 19/50\n",
      "\u001b[1m33702/33702\u001b[0m \u001b[32m━━━━━━━━━━━━━━━━━━━━\u001b[0m\u001b[37m\u001b[0m \u001b[1m52s\u001b[0m 2ms/step - loss: 166682.3594 - val_loss: 156671.6250\n",
      "Epoch 20/50\n",
      "\u001b[1m33702/33702\u001b[0m \u001b[32m━━━━━━━━━━━━━━━━━━━━\u001b[0m\u001b[37m\u001b[0m \u001b[1m46s\u001b[0m 1ms/step - loss: 164715.0938 - val_loss: 148636.1875\n",
      "Epoch 21/50\n",
      "\u001b[1m33702/33702\u001b[0m \u001b[32m━━━━━━━━━━━━━━━━━━━━\u001b[0m\u001b[37m\u001b[0m \u001b[1m46s\u001b[0m 1ms/step - loss: 158216.3594 - val_loss: 158069.2188\n",
      "Epoch 22/50\n",
      "\u001b[1m33702/33702\u001b[0m \u001b[32m━━━━━━━━━━━━━━━━━━━━\u001b[0m\u001b[37m\u001b[0m \u001b[1m46s\u001b[0m 1ms/step - loss: 154799.9688 - val_loss: 150809.0312\n",
      "Epoch 23/50\n",
      "\u001b[1m33702/33702\u001b[0m \u001b[32m━━━━━━━━━━━━━━━━━━━━\u001b[0m\u001b[37m\u001b[0m \u001b[1m47s\u001b[0m 1ms/step - loss: 153030.8906 - val_loss: 147528.9062\n",
      "Epoch 24/50\n",
      "\u001b[1m33702/33702\u001b[0m \u001b[32m━━━━━━━━━━━━━━━━━━━━\u001b[0m\u001b[37m\u001b[0m \u001b[1m45s\u001b[0m 1ms/step - loss: 152851.8906 - val_loss: 149640.6562\n",
      "Epoch 25/50\n",
      "\u001b[1m33702/33702\u001b[0m \u001b[32m━━━━━━━━━━━━━━━━━━━━\u001b[0m\u001b[37m\u001b[0m \u001b[1m47s\u001b[0m 1ms/step - loss: 155603.9844 - val_loss: 166979.3281\n",
      "Epoch 26/50\n",
      "\u001b[1m33702/33702\u001b[0m \u001b[32m━━━━━━━━━━━━━━━━━━━━\u001b[0m\u001b[37m\u001b[0m \u001b[1m46s\u001b[0m 1ms/step - loss: 152803.1406 - val_loss: 145687.1250\n",
      "Epoch 27/50\n",
      "\u001b[1m33702/33702\u001b[0m \u001b[32m━━━━━━━━━━━━━━━━━━━━\u001b[0m\u001b[37m\u001b[0m \u001b[1m46s\u001b[0m 1ms/step - loss: 161522.9531 - val_loss: 147259.2188\n",
      "Epoch 28/50\n",
      "\u001b[1m33702/33702\u001b[0m \u001b[32m━━━━━━━━━━━━━━━━━━━━\u001b[0m\u001b[37m\u001b[0m \u001b[1m46s\u001b[0m 1ms/step - loss: 166705.2344 - val_loss: 153292.6406\n",
      "Epoch 29/50\n",
      "\u001b[1m33702/33702\u001b[0m \u001b[32m━━━━━━━━━━━━━━━━━━━━\u001b[0m\u001b[37m\u001b[0m \u001b[1m47s\u001b[0m 1ms/step - loss: 152577.6406 - val_loss: 164128.4844\n",
      "Epoch 30/50\n",
      "\u001b[1m33702/33702\u001b[0m \u001b[32m━━━━━━━━━━━━━━━━━━━━\u001b[0m\u001b[37m\u001b[0m \u001b[1m46s\u001b[0m 1ms/step - loss: 160532.1250 - val_loss: 145819.2031\n",
      "Epoch 31/50\n",
      "\u001b[1m33702/33702\u001b[0m \u001b[32m━━━━━━━━━━━━━━━━━━━━\u001b[0m\u001b[37m\u001b[0m \u001b[1m46s\u001b[0m 1ms/step - loss: 152412.3750 - val_loss: 146957.8281\n",
      "Epoch 32/50\n",
      "\u001b[1m33702/33702\u001b[0m \u001b[32m━━━━━━━━━━━━━━━━━━━━\u001b[0m\u001b[37m\u001b[0m \u001b[1m47s\u001b[0m 1ms/step - loss: 152804.2500 - val_loss: 146429.3906\n",
      "Epoch 33/50\n",
      "\u001b[1m33702/33702\u001b[0m \u001b[32m━━━━━━━━━━━━━━━━━━━━\u001b[0m\u001b[37m\u001b[0m \u001b[1m47s\u001b[0m 1ms/step - loss: 147937.8438 - val_loss: 157059.7812\n",
      "Epoch 34/50\n",
      "\u001b[1m33702/33702\u001b[0m \u001b[32m━━━━━━━━━━━━━━━━━━━━\u001b[0m\u001b[37m\u001b[0m \u001b[1m46s\u001b[0m 1ms/step - loss: 152306.3594 - val_loss: 147473.2812\n",
      "Epoch 35/50\n",
      "\u001b[1m33702/33702\u001b[0m \u001b[32m━━━━━━━━━━━━━━━━━━━━\u001b[0m\u001b[37m\u001b[0m \u001b[1m46s\u001b[0m 1ms/step - loss: 149222.2031 - val_loss: 144493.8750\n",
      "Epoch 36/50\n",
      "\u001b[1m33702/33702\u001b[0m \u001b[32m━━━━━━━━━━━━━━━━━━━━\u001b[0m\u001b[37m\u001b[0m \u001b[1m48s\u001b[0m 1ms/step - loss: 153217.3125 - val_loss: 147695.2188\n",
      "Epoch 37/50\n",
      "\u001b[1m33702/33702\u001b[0m \u001b[32m━━━━━━━━━━━━━━━━━━━━\u001b[0m\u001b[37m\u001b[0m \u001b[1m47s\u001b[0m 1ms/step - loss: 152690.8750 - val_loss: 143213.3281\n",
      "Epoch 38/50\n",
      "\u001b[1m33702/33702\u001b[0m \u001b[32m━━━━━━━━━━━━━━━━━━━━\u001b[0m\u001b[37m\u001b[0m \u001b[1m49s\u001b[0m 1ms/step - loss: 143362.3750 - val_loss: 141912.1562\n",
      "Epoch 39/50\n",
      "\u001b[1m33702/33702\u001b[0m \u001b[32m━━━━━━━━━━━━━━━━━━━━\u001b[0m\u001b[37m\u001b[0m \u001b[1m47s\u001b[0m 1ms/step - loss: 144835.2969 - val_loss: 143773.1562\n",
      "Epoch 40/50\n",
      "\u001b[1m33702/33702\u001b[0m \u001b[32m━━━━━━━━━━━━━━━━━━━━\u001b[0m\u001b[37m\u001b[0m \u001b[1m47s\u001b[0m 1ms/step - loss: 144121.0000 - val_loss: 143552.0312\n",
      "Epoch 41/50\n",
      "\u001b[1m33702/33702\u001b[0m \u001b[32m━━━━━━━━━━━━━━━━━━━━\u001b[0m\u001b[37m\u001b[0m \u001b[1m46s\u001b[0m 1ms/step - loss: 149330.6094 - val_loss: 148648.6562\n",
      "Epoch 42/50\n",
      "\u001b[1m33702/33702\u001b[0m \u001b[32m━━━━━━━━━━━━━━━━━━━━\u001b[0m\u001b[37m\u001b[0m \u001b[1m48s\u001b[0m 1ms/step - loss: 143807.9062 - val_loss: 149419.7344\n",
      "Epoch 43/50\n",
      "\u001b[1m33702/33702\u001b[0m \u001b[32m━━━━━━━━━━━━━━━━━━━━\u001b[0m\u001b[37m\u001b[0m \u001b[1m48s\u001b[0m 1ms/step - loss: 147287.2812 - val_loss: 144323.3750\n",
      "Epoch 44/50\n",
      "\u001b[1m33702/33702\u001b[0m \u001b[32m━━━━━━━━━━━━━━━━━━━━\u001b[0m\u001b[37m\u001b[0m \u001b[1m50s\u001b[0m 1ms/step - loss: 147905.2812 - val_loss: 144405.1406\n",
      "Epoch 45/50\n",
      "\u001b[1m33702/33702\u001b[0m \u001b[32m━━━━━━━━━━━━━━━━━━━━\u001b[0m\u001b[37m\u001b[0m \u001b[1m46s\u001b[0m 1ms/step - loss: 139941.4844 - val_loss: 143942.5469\n",
      "Epoch 46/50\n",
      "\u001b[1m33702/33702\u001b[0m \u001b[32m━━━━━━━━━━━━━━━━━━━━\u001b[0m\u001b[37m\u001b[0m \u001b[1m48s\u001b[0m 1ms/step - loss: 149917.7500 - val_loss: 139451.6875\n",
      "Epoch 47/50\n",
      "\u001b[1m33702/33702\u001b[0m \u001b[32m━━━━━━━━━━━━━━━━━━━━\u001b[0m\u001b[37m\u001b[0m \u001b[1m47s\u001b[0m 1ms/step - loss: 147344.0781 - val_loss: 140668.7656\n",
      "Epoch 48/50\n",
      "\u001b[1m33702/33702\u001b[0m \u001b[32m━━━━━━━━━━━━━━━━━━━━\u001b[0m\u001b[37m\u001b[0m \u001b[1m47s\u001b[0m 1ms/step - loss: 147502.9062 - val_loss: 139327.0312\n",
      "Epoch 49/50\n",
      "\u001b[1m33702/33702\u001b[0m \u001b[32m━━━━━━━━━━━━━━━━━━━━\u001b[0m\u001b[37m\u001b[0m \u001b[1m47s\u001b[0m 1ms/step - loss: 140112.6719 - val_loss: 146491.4844\n",
      "Epoch 50/50\n",
      "\u001b[1m33702/33702\u001b[0m \u001b[32m━━━━━━━━━━━━━━━━━━━━\u001b[0m\u001b[37m\u001b[0m \u001b[1m49s\u001b[0m 1ms/step - loss: 143636.7344 - val_loss: 143147.4219\n"
     ]
    },
    {
     "data": {
      "text/plain": [
       "<keras.src.callbacks.history.History at 0x27e55551dd0>"
      ]
     },
     "execution_count": 9,
     "metadata": {},
     "output_type": "execute_result"
    }
   ],
   "source": [
    "# Define and train the model\n",
    "def create_ann(input_dim):\n",
    "    model = Sequential()\n",
    "    model.add(Dense(64, input_dim=input_dim, activation='relu'))\n",
    "    model.add(Dense(32, activation='relu'))\n",
    "    model.add(Dense(1))  # Single output for regression\n",
    "    model.compile(optimizer='adam', loss='mean_squared_error')\n",
    "    return model\n",
    "\n",
    "# Create and train the model\n",
    "single_model = create_ann(input_dim=X_train.shape[1])\n",
    "single_model.fit(X_train, y_train, epochs=50, batch_size=32, validation_data=(X_test, y_test))"
   ]
  },
  {
   "cell_type": "code",
   "execution_count": 10,
   "id": "c5e6b59d-dc2a-4633-9e20-cedfd821e3f9",
   "metadata": {
    "execution": {
     "iopub.execute_input": "2024-06-17T14:50:33.870711Z",
     "iopub.status.busy": "2024-06-17T14:50:33.869707Z",
     "iopub.status.idle": "2024-06-17T14:50:33.876942Z",
     "shell.execute_reply": "2024-06-17T14:50:33.874933Z",
     "shell.execute_reply.started": "2024-06-17T14:50:33.870711Z"
    },
    "tags": []
   },
   "outputs": [],
   "source": [
    "from sklearn.metrics import mean_absolute_error\n",
    "from sklearn.metrics import mean_squared_error\n",
    "from sklearn.metrics import r2_score"
   ]
  },
  {
   "cell_type": "code",
   "execution_count": 11,
   "id": "fd4caa86-a52f-4de2-aeb7-3ccff6d48eb2",
   "metadata": {
    "execution": {
     "iopub.execute_input": "2024-06-17T14:50:33.879432Z",
     "iopub.status.busy": "2024-06-17T14:50:33.878423Z",
     "iopub.status.idle": "2024-06-17T14:50:33.894421Z",
     "shell.execute_reply": "2024-06-17T14:50:33.893411Z",
     "shell.execute_reply.started": "2024-06-17T14:50:33.879432Z"
    },
    "tags": []
   },
   "outputs": [],
   "source": [
    "features_km = pd.DataFrame(features)\n",
    "features_km['target'] = labels"
   ]
  },
  {
   "cell_type": "markdown",
   "id": "dec864a8-7935-4de4-b21c-f6f63d127ceb",
   "metadata": {},
   "source": [
    "### Creating the hybrid model"
   ]
  },
  {
   "cell_type": "code",
   "execution_count": 13,
   "id": "5e19454b-5ab8-4aa3-ad19-0b8ca96c54b9",
   "metadata": {
    "execution": {
     "iopub.execute_input": "2024-06-17T14:50:33.947876Z",
     "iopub.status.busy": "2024-06-17T14:50:33.947876Z",
     "iopub.status.idle": "2024-06-17T14:50:37.674487Z",
     "shell.execute_reply": "2024-06-17T14:50:37.673407Z",
     "shell.execute_reply.started": "2024-06-17T14:50:33.947876Z"
    },
    "tags": []
   },
   "outputs": [],
   "source": [
    "# Perform K-means clustering\n",
    "kmeans = KMeans(n_clusters=3, random_state=42)\n",
    "clusters = kmeans.fit_predict(features)\n",
    "\n",
    "# Add cluster labels to the dataset\n",
    "features_km['cluster'] = clusters"
   ]
  },
  {
   "cell_type": "code",
   "execution_count": 14,
   "id": "58c35b94-b20d-42ee-bf0c-dba52582e5bc",
   "metadata": {
    "execution": {
     "iopub.execute_input": "2024-06-17T14:50:37.676419Z",
     "iopub.status.busy": "2024-06-17T14:50:37.676419Z",
     "iopub.status.idle": "2024-06-17T14:50:37.686016Z",
     "shell.execute_reply": "2024-06-17T14:50:37.685003Z",
     "shell.execute_reply.started": "2024-06-17T14:50:37.676419Z"
    },
    "tags": []
   },
   "outputs": [],
   "source": [
    "def create_ann(input_dim):\n",
    "    model = Sequential()\n",
    "    model.add(Dense(64, input_dim=input_dim, activation='relu'))\n",
    "    model.add(Dense(32, activation='relu'))\n",
    "    model.add(Dense(1))  \n",
    "    model.compile(optimizer='adam', loss='mean_squared_error')\n",
    "    return model\n",
    "\n",
    "# Function to train ANN on a specific cluster\n",
    "def train_ann_on_cluster(cluster_data):\n",
    "    features = cluster_data.drop(['target', 'cluster'], axis=1)\n",
    "    labels = cluster_data['target']\n",
    "    \n",
    "    X_train, X_test, y_train, y_test = train_test_split(features, labels, test_size=0.2, random_state=42)\n",
    "    \n",
    "    ann = create_ann(input_dim=features.shape[1])\n",
    "    ann.fit(X_train, y_train, epochs=50, batch_size=32, validation_data=(X_test, y_test))\n",
    "    \n",
    "    return ann"
   ]
  },
  {
   "cell_type": "code",
   "execution_count": 15,
   "id": "11c902f4-d5c4-49ea-a50c-fa0568cbbc0a",
   "metadata": {
    "execution": {
     "iopub.execute_input": "2024-06-17T14:50:37.688475Z",
     "iopub.status.busy": "2024-06-17T14:50:37.687105Z",
     "iopub.status.idle": "2024-06-17T15:38:27.283388Z",
     "shell.execute_reply": "2024-06-17T15:38:27.282198Z",
     "shell.execute_reply.started": "2024-06-17T14:50:37.688475Z"
    },
    "tags": []
   },
   "outputs": [
    {
     "name": "stdout",
     "output_type": "stream",
     "text": [
      "Epoch 1/50\n",
      "\u001b[1m564/564\u001b[0m \u001b[32m━━━━━━━━━━━━━━━━━━━━\u001b[0m\u001b[37m\u001b[0m \u001b[1m2s\u001b[0m 2ms/step - loss: 497425632.0000 - val_loss: 121049280.0000\n",
      "Epoch 2/50\n",
      "\u001b[1m564/564\u001b[0m \u001b[32m━━━━━━━━━━━━━━━━━━━━\u001b[0m\u001b[37m\u001b[0m \u001b[1m1s\u001b[0m 1ms/step - loss: 76679072.0000 - val_loss: 37209224.0000\n",
      "Epoch 3/50\n",
      "\u001b[1m564/564\u001b[0m \u001b[32m━━━━━━━━━━━━━━━━━━━━\u001b[0m\u001b[37m\u001b[0m \u001b[1m1s\u001b[0m 1ms/step - loss: 34120160.0000 - val_loss: 24139396.0000\n",
      "Epoch 4/50\n",
      "\u001b[1m564/564\u001b[0m \u001b[32m━━━━━━━━━━━━━━━━━━━━\u001b[0m\u001b[37m\u001b[0m \u001b[1m1s\u001b[0m 1ms/step - loss: 22945400.0000 - val_loss: 17786450.0000\n",
      "Epoch 5/50\n",
      "\u001b[1m564/564\u001b[0m \u001b[32m━━━━━━━━━━━━━━━━━━━━\u001b[0m\u001b[37m\u001b[0m \u001b[1m1s\u001b[0m 1ms/step - loss: 17955314.0000 - val_loss: 14005124.0000\n",
      "Epoch 6/50\n",
      "\u001b[1m564/564\u001b[0m \u001b[32m━━━━━━━━━━━━━━━━━━━━\u001b[0m\u001b[37m\u001b[0m \u001b[1m2s\u001b[0m 3ms/step - loss: 14384429.0000 - val_loss: 11251542.0000\n",
      "Epoch 7/50\n",
      "\u001b[1m564/564\u001b[0m \u001b[32m━━━━━━━━━━━━━━━━━━━━\u001b[0m\u001b[37m\u001b[0m \u001b[1m1s\u001b[0m 1ms/step - loss: 11516112.0000 - val_loss: 9134687.0000\n",
      "Epoch 8/50\n",
      "\u001b[1m564/564\u001b[0m \u001b[32m━━━━━━━━━━━━━━━━━━━━\u001b[0m\u001b[37m\u001b[0m \u001b[1m1s\u001b[0m 1ms/step - loss: 9380099.0000 - val_loss: 7447597.0000\n",
      "Epoch 9/50\n",
      "\u001b[1m564/564\u001b[0m \u001b[32m━━━━━━━━━━━━━━━━━━━━\u001b[0m\u001b[37m\u001b[0m \u001b[1m1s\u001b[0m 1ms/step - loss: 7525927.5000 - val_loss: 6122059.0000\n",
      "Epoch 10/50\n",
      "\u001b[1m564/564\u001b[0m \u001b[32m━━━━━━━━━━━━━━━━━━━━\u001b[0m\u001b[37m\u001b[0m \u001b[1m1s\u001b[0m 1ms/step - loss: 6084241.5000 - val_loss: 5099675.0000\n",
      "Epoch 11/50\n",
      "\u001b[1m564/564\u001b[0m \u001b[32m━━━━━━━━━━━━━━━━━━━━\u001b[0m\u001b[37m\u001b[0m \u001b[1m1s\u001b[0m 1ms/step - loss: 4936632.0000 - val_loss: 4315828.5000\n",
      "Epoch 12/50\n",
      "\u001b[1m564/564\u001b[0m \u001b[32m━━━━━━━━━━━━━━━━━━━━\u001b[0m\u001b[37m\u001b[0m \u001b[1m1s\u001b[0m 2ms/step - loss: 4373626.5000 - val_loss: 3716755.2500\n",
      "Epoch 13/50\n",
      "\u001b[1m564/564\u001b[0m \u001b[32m━━━━━━━━━━━━━━━━━━━━\u001b[0m\u001b[37m\u001b[0m \u001b[1m1s\u001b[0m 1ms/step - loss: 3741054.0000 - val_loss: 3215436.7500\n",
      "Epoch 14/50\n",
      "\u001b[1m564/564\u001b[0m \u001b[32m━━━━━━━━━━━━━━━━━━━━\u001b[0m\u001b[37m\u001b[0m \u001b[1m1s\u001b[0m 1ms/step - loss: 3229707.0000 - val_loss: 2798917.2500\n",
      "Epoch 15/50\n",
      "\u001b[1m564/564\u001b[0m \u001b[32m━━━━━━━━━━━━━━━━━━━━\u001b[0m\u001b[37m\u001b[0m \u001b[1m1s\u001b[0m 1ms/step - loss: 2733361.2500 - val_loss: 2428885.2500\n",
      "Epoch 16/50\n",
      "\u001b[1m564/564\u001b[0m \u001b[32m━━━━━━━━━━━━━━━━━━━━\u001b[0m\u001b[37m\u001b[0m \u001b[1m1s\u001b[0m 1ms/step - loss: 2549425.7500 - val_loss: 2117640.7500\n",
      "Epoch 17/50\n",
      "\u001b[1m564/564\u001b[0m \u001b[32m━━━━━━━━━━━━━━━━━━━━\u001b[0m\u001b[37m\u001b[0m \u001b[1m1s\u001b[0m 1ms/step - loss: 2191641.7500 - val_loss: 1850848.2500\n",
      "Epoch 18/50\n",
      "\u001b[1m564/564\u001b[0m \u001b[32m━━━━━━━━━━━━━━━━━━━━\u001b[0m\u001b[37m\u001b[0m \u001b[1m1s\u001b[0m 1ms/step - loss: 1860626.0000 - val_loss: 1646523.0000\n",
      "Epoch 19/50\n",
      "\u001b[1m564/564\u001b[0m \u001b[32m━━━━━━━━━━━━━━━━━━━━\u001b[0m\u001b[37m\u001b[0m \u001b[1m1s\u001b[0m 1ms/step - loss: 1793921.3750 - val_loss: 1486515.7500\n",
      "Epoch 20/50\n",
      "\u001b[1m564/564\u001b[0m \u001b[32m━━━━━━━━━━━━━━━━━━━━\u001b[0m\u001b[37m\u001b[0m \u001b[1m1s\u001b[0m 1ms/step - loss: 1632005.3750 - val_loss: 1360991.2500\n",
      "Epoch 21/50\n",
      "\u001b[1m564/564\u001b[0m \u001b[32m━━━━━━━━━━━━━━━━━━━━\u001b[0m\u001b[37m\u001b[0m \u001b[1m1s\u001b[0m 1ms/step - loss: 1558529.2500 - val_loss: 1268020.3750\n",
      "Epoch 22/50\n",
      "\u001b[1m564/564\u001b[0m \u001b[32m━━━━━━━━━━━━━━━━━━━━\u001b[0m\u001b[37m\u001b[0m \u001b[1m1s\u001b[0m 1ms/step - loss: 1419221.8750 - val_loss: 1197956.1250\n",
      "Epoch 23/50\n",
      "\u001b[1m564/564\u001b[0m \u001b[32m━━━━━━━━━━━━━━━━━━━━\u001b[0m\u001b[37m\u001b[0m \u001b[1m1s\u001b[0m 1ms/step - loss: 1345849.6250 - val_loss: 1153151.3750\n",
      "Epoch 24/50\n",
      "\u001b[1m564/564\u001b[0m \u001b[32m━━━━━━━━━━━━━━━━━━━━\u001b[0m\u001b[37m\u001b[0m \u001b[1m1s\u001b[0m 2ms/step - loss: 1339269.0000 - val_loss: 1103112.5000\n",
      "Epoch 25/50\n",
      "\u001b[1m564/564\u001b[0m \u001b[32m━━━━━━━━━━━━━━━━━━━━\u001b[0m\u001b[37m\u001b[0m \u001b[1m1s\u001b[0m 2ms/step - loss: 1284620.1250 - val_loss: 1075244.3750\n",
      "Epoch 26/50\n",
      "\u001b[1m564/564\u001b[0m \u001b[32m━━━━━━━━━━━━━━━━━━━━\u001b[0m\u001b[37m\u001b[0m \u001b[1m1s\u001b[0m 1ms/step - loss: 1232335.0000 - val_loss: 1077435.1250\n",
      "Epoch 27/50\n",
      "\u001b[1m564/564\u001b[0m \u001b[32m━━━━━━━━━━━━━━━━━━━━\u001b[0m\u001b[37m\u001b[0m \u001b[1m1s\u001b[0m 1ms/step - loss: 1180662.2500 - val_loss: 1016918.1875\n",
      "Epoch 28/50\n",
      "\u001b[1m564/564\u001b[0m \u001b[32m━━━━━━━━━━━━━━━━━━━━\u001b[0m\u001b[37m\u001b[0m \u001b[1m1s\u001b[0m 1ms/step - loss: 1151600.5000 - val_loss: 982734.1250\n",
      "Epoch 29/50\n",
      "\u001b[1m564/564\u001b[0m \u001b[32m━━━━━━━━━━━━━━━━━━━━\u001b[0m\u001b[37m\u001b[0m \u001b[1m1s\u001b[0m 1ms/step - loss: 1179152.7500 - val_loss: 953639.4375\n",
      "Epoch 30/50\n",
      "\u001b[1m564/564\u001b[0m \u001b[32m━━━━━━━━━━━━━━━━━━━━\u001b[0m\u001b[37m\u001b[0m \u001b[1m1s\u001b[0m 1ms/step - loss: 1071440.8750 - val_loss: 941261.3125\n",
      "Epoch 31/50\n",
      "\u001b[1m564/564\u001b[0m \u001b[32m━━━━━━━━━━━━━━━━━━━━\u001b[0m\u001b[37m\u001b[0m \u001b[1m1s\u001b[0m 1ms/step - loss: 1132021.5000 - val_loss: 903379.3125\n",
      "Epoch 32/50\n",
      "\u001b[1m564/564\u001b[0m \u001b[32m━━━━━━━━━━━━━━━━━━━━\u001b[0m\u001b[37m\u001b[0m \u001b[1m1s\u001b[0m 1ms/step - loss: 1067670.0000 - val_loss: 879588.3125\n",
      "Epoch 33/50\n",
      "\u001b[1m564/564\u001b[0m \u001b[32m━━━━━━━━━━━━━━━━━━━━\u001b[0m\u001b[37m\u001b[0m \u001b[1m1s\u001b[0m 1ms/step - loss: 1044206.3125 - val_loss: 841085.1250\n",
      "Epoch 34/50\n",
      "\u001b[1m564/564\u001b[0m \u001b[32m━━━━━━━━━━━━━━━━━━━━\u001b[0m\u001b[37m\u001b[0m \u001b[1m1s\u001b[0m 1ms/step - loss: 989850.7500 - val_loss: 815620.3125\n",
      "Epoch 35/50\n",
      "\u001b[1m564/564\u001b[0m \u001b[32m━━━━━━━━━━━━━━━━━━━━\u001b[0m\u001b[37m\u001b[0m \u001b[1m1s\u001b[0m 2ms/step - loss: 920011.0625 - val_loss: 791839.3125\n",
      "Epoch 36/50\n",
      "\u001b[1m564/564\u001b[0m \u001b[32m━━━━━━━━━━━━━━━━━━━━\u001b[0m\u001b[37m\u001b[0m \u001b[1m1s\u001b[0m 1ms/step - loss: 943937.6875 - val_loss: 769116.1250\n",
      "Epoch 37/50\n",
      "\u001b[1m564/564\u001b[0m \u001b[32m━━━━━━━━━━━━━━━━━━━━\u001b[0m\u001b[37m\u001b[0m \u001b[1m1s\u001b[0m 1ms/step - loss: 874974.0000 - val_loss: 737342.6250\n",
      "Epoch 38/50\n",
      "\u001b[1m564/564\u001b[0m \u001b[32m━━━━━━━━━━━━━━━━━━━━\u001b[0m\u001b[37m\u001b[0m \u001b[1m1s\u001b[0m 1ms/step - loss: 884636.4375 - val_loss: 707653.9375\n",
      "Epoch 39/50\n",
      "\u001b[1m564/564\u001b[0m \u001b[32m━━━━━━━━━━━━━━━━━━━━\u001b[0m\u001b[37m\u001b[0m \u001b[1m1s\u001b[0m 1ms/step - loss: 835646.2500 - val_loss: 674082.0625\n",
      "Epoch 40/50\n",
      "\u001b[1m564/564\u001b[0m \u001b[32m━━━━━━━━━━━━━━━━━━━━\u001b[0m\u001b[37m\u001b[0m \u001b[1m1s\u001b[0m 1ms/step - loss: 794949.0625 - val_loss: 648601.3125\n",
      "Epoch 41/50\n",
      "\u001b[1m564/564\u001b[0m \u001b[32m━━━━━━━━━━━━━━━━━━━━\u001b[0m\u001b[37m\u001b[0m \u001b[1m1s\u001b[0m 1ms/step - loss: 799581.1875 - val_loss: 629725.4375\n",
      "Epoch 42/50\n",
      "\u001b[1m564/564\u001b[0m \u001b[32m━━━━━━━━━━━━━━━━━━━━\u001b[0m\u001b[37m\u001b[0m \u001b[1m2s\u001b[0m 3ms/step - loss: 822272.3125 - val_loss: 589606.2500\n",
      "Epoch 43/50\n",
      "\u001b[1m564/564\u001b[0m \u001b[32m━━━━━━━━━━━━━━━━━━━━\u001b[0m\u001b[37m\u001b[0m \u001b[1m1s\u001b[0m 2ms/step - loss: 752683.1250 - val_loss: 576915.8750\n",
      "Epoch 44/50\n",
      "\u001b[1m564/564\u001b[0m \u001b[32m━━━━━━━━━━━━━━━━━━━━\u001b[0m\u001b[37m\u001b[0m \u001b[1m1s\u001b[0m 1ms/step - loss: 705850.6250 - val_loss: 537407.4375\n",
      "Epoch 45/50\n",
      "\u001b[1m564/564\u001b[0m \u001b[32m━━━━━━━━━━━━━━━━━━━━\u001b[0m\u001b[37m\u001b[0m \u001b[1m1s\u001b[0m 1ms/step - loss: 689700.3125 - val_loss: 511346.5312\n",
      "Epoch 46/50\n",
      "\u001b[1m564/564\u001b[0m \u001b[32m━━━━━━━━━━━━━━━━━━━━\u001b[0m\u001b[37m\u001b[0m \u001b[1m1s\u001b[0m 1ms/step - loss: 677001.8125 - val_loss: 483612.9062\n",
      "Epoch 47/50\n",
      "\u001b[1m564/564\u001b[0m \u001b[32m━━━━━━━━━━━━━━━━━━━━\u001b[0m\u001b[37m\u001b[0m \u001b[1m1s\u001b[0m 1ms/step - loss: 637439.2500 - val_loss: 476424.1250\n",
      "Epoch 48/50\n",
      "\u001b[1m564/564\u001b[0m \u001b[32m━━━━━━━━━━━━━━━━━━━━\u001b[0m\u001b[37m\u001b[0m \u001b[1m1s\u001b[0m 1ms/step - loss: 633964.0000 - val_loss: 438778.3750\n",
      "Epoch 49/50\n",
      "\u001b[1m564/564\u001b[0m \u001b[32m━━━━━━━━━━━━━━━━━━━━\u001b[0m\u001b[37m\u001b[0m \u001b[1m1s\u001b[0m 2ms/step - loss: 639652.6250 - val_loss: 420394.8438\n",
      "Epoch 50/50\n",
      "\u001b[1m564/564\u001b[0m \u001b[32m━━━━━━━━━━━━━━━━━━━━\u001b[0m\u001b[37m\u001b[0m \u001b[1m1s\u001b[0m 2ms/step - loss: 560466.3750 - val_loss: 411577.8438\n",
      "Epoch 1/50\n",
      "\u001b[1m22643/22643\u001b[0m \u001b[32m━━━━━━━━━━━━━━━━━━━━\u001b[0m\u001b[37m\u001b[0m \u001b[1m33s\u001b[0m 1ms/step - loss: 18818520.0000 - val_loss: 302631.3125\n",
      "Epoch 2/50\n",
      "\u001b[1m22643/22643\u001b[0m \u001b[32m━━━━━━━━━━━━━━━━━━━━\u001b[0m\u001b[37m\u001b[0m \u001b[1m32s\u001b[0m 1ms/step - loss: 222174.2812 - val_loss: 150813.1406\n",
      "Epoch 3/50\n",
      "\u001b[1m22643/22643\u001b[0m \u001b[32m━━━━━━━━━━━━━━━━━━━━\u001b[0m\u001b[37m\u001b[0m \u001b[1m33s\u001b[0m 1ms/step - loss: 133036.6562 - val_loss: 125705.9297\n",
      "Epoch 4/50\n",
      "\u001b[1m22643/22643\u001b[0m \u001b[32m━━━━━━━━━━━━━━━━━━━━\u001b[0m\u001b[37m\u001b[0m \u001b[1m40s\u001b[0m 1ms/step - loss: 117864.5625 - val_loss: 122070.5859\n",
      "Epoch 5/50\n",
      "\u001b[1m22643/22643\u001b[0m \u001b[32m━━━━━━━━━━━━━━━━━━━━\u001b[0m\u001b[37m\u001b[0m \u001b[1m35s\u001b[0m 2ms/step - loss: 117700.6172 - val_loss: 115768.9141\n",
      "Epoch 6/50\n",
      "\u001b[1m22643/22643\u001b[0m \u001b[32m━━━━━━━━━━━━━━━━━━━━\u001b[0m\u001b[37m\u001b[0m \u001b[1m35s\u001b[0m 2ms/step - loss: 112381.3203 - val_loss: 113456.0859\n",
      "Epoch 7/50\n",
      "\u001b[1m22643/22643\u001b[0m \u001b[32m━━━━━━━━━━━━━━━━━━━━\u001b[0m\u001b[37m\u001b[0m \u001b[1m36s\u001b[0m 2ms/step - loss: 99047.1016 - val_loss: 102237.8203\n",
      "Epoch 8/50\n",
      "\u001b[1m22643/22643\u001b[0m \u001b[32m━━━━━━━━━━━━━━━━━━━━\u001b[0m\u001b[37m\u001b[0m \u001b[1m36s\u001b[0m 2ms/step - loss: 93443.1719 - val_loss: 102104.7656\n",
      "Epoch 9/50\n",
      "\u001b[1m22643/22643\u001b[0m \u001b[32m━━━━━━━━━━━━━━━━━━━━\u001b[0m\u001b[37m\u001b[0m \u001b[1m37s\u001b[0m 2ms/step - loss: 93634.4062 - val_loss: 103259.3516\n",
      "Epoch 10/50\n",
      "\u001b[1m22643/22643\u001b[0m \u001b[32m━━━━━━━━━━━━━━━━━━━━\u001b[0m\u001b[37m\u001b[0m \u001b[1m36s\u001b[0m 2ms/step - loss: 97258.7109 - val_loss: 102399.4688\n",
      "Epoch 11/50\n",
      "\u001b[1m22643/22643\u001b[0m \u001b[32m━━━━━━━━━━━━━━━━━━━━\u001b[0m\u001b[37m\u001b[0m \u001b[1m37s\u001b[0m 2ms/step - loss: 95065.2344 - val_loss: 96860.7734\n",
      "Epoch 12/50\n",
      "\u001b[1m22643/22643\u001b[0m \u001b[32m━━━━━━━━━━━━━━━━━━━━\u001b[0m\u001b[37m\u001b[0m \u001b[1m36s\u001b[0m 2ms/step - loss: 96368.8750 - val_loss: 104274.4062\n",
      "Epoch 13/50\n",
      "\u001b[1m22643/22643\u001b[0m \u001b[32m━━━━━━━━━━━━━━━━━━━━\u001b[0m\u001b[37m\u001b[0m \u001b[1m36s\u001b[0m 2ms/step - loss: 94894.5312 - val_loss: 98642.9141\n",
      "Epoch 14/50\n",
      "\u001b[1m22643/22643\u001b[0m \u001b[32m━━━━━━━━━━━━━━━━━━━━\u001b[0m\u001b[37m\u001b[0m \u001b[1m36s\u001b[0m 2ms/step - loss: 92231.8594 - val_loss: 101076.1406\n",
      "Epoch 15/50\n",
      "\u001b[1m22643/22643\u001b[0m \u001b[32m━━━━━━━━━━━━━━━━━━━━\u001b[0m\u001b[37m\u001b[0m \u001b[1m36s\u001b[0m 2ms/step - loss: 87617.1406 - val_loss: 92822.7031\n",
      "Epoch 16/50\n",
      "\u001b[1m22643/22643\u001b[0m \u001b[32m━━━━━━━━━━━━━━━━━━━━\u001b[0m\u001b[37m\u001b[0m \u001b[1m39s\u001b[0m 2ms/step - loss: 88941.6953 - val_loss: 95264.8750\n",
      "Epoch 17/50\n",
      "\u001b[1m22643/22643\u001b[0m \u001b[32m━━━━━━━━━━━━━━━━━━━━\u001b[0m\u001b[37m\u001b[0m \u001b[1m36s\u001b[0m 2ms/step - loss: 82634.2266 - val_loss: 91444.9844\n",
      "Epoch 18/50\n",
      "\u001b[1m22643/22643\u001b[0m \u001b[32m━━━━━━━━━━━━━━━━━━━━\u001b[0m\u001b[37m\u001b[0m \u001b[1m36s\u001b[0m 2ms/step - loss: 89419.6094 - val_loss: 91468.5625\n",
      "Epoch 19/50\n",
      "\u001b[1m22643/22643\u001b[0m \u001b[32m━━━━━━━━━━━━━━━━━━━━\u001b[0m\u001b[37m\u001b[0m \u001b[1m37s\u001b[0m 2ms/step - loss: 87315.1484 - val_loss: 92615.3125\n",
      "Epoch 20/50\n",
      "\u001b[1m22643/22643\u001b[0m \u001b[32m━━━━━━━━━━━━━━━━━━━━\u001b[0m\u001b[37m\u001b[0m \u001b[1m37s\u001b[0m 2ms/step - loss: 84804.5781 - val_loss: 94343.1719\n",
      "Epoch 21/50\n",
      "\u001b[1m22643/22643\u001b[0m \u001b[32m━━━━━━━━━━━━━━━━━━━━\u001b[0m\u001b[37m\u001b[0m \u001b[1m37s\u001b[0m 2ms/step - loss: 85154.2188 - val_loss: 94592.6328\n",
      "Epoch 22/50\n",
      "\u001b[1m22643/22643\u001b[0m \u001b[32m━━━━━━━━━━━━━━━━━━━━\u001b[0m\u001b[37m\u001b[0m \u001b[1m38s\u001b[0m 2ms/step - loss: 85165.9609 - val_loss: 90050.3047\n",
      "Epoch 23/50\n",
      "\u001b[1m22643/22643\u001b[0m \u001b[32m━━━━━━━━━━━━━━━━━━━━\u001b[0m\u001b[37m\u001b[0m \u001b[1m37s\u001b[0m 2ms/step - loss: 83262.2578 - val_loss: 106720.0625\n",
      "Epoch 24/50\n",
      "\u001b[1m22643/22643\u001b[0m \u001b[32m━━━━━━━━━━━━━━━━━━━━\u001b[0m\u001b[37m\u001b[0m \u001b[1m37s\u001b[0m 2ms/step - loss: 93982.5312 - val_loss: 90383.0234\n",
      "Epoch 25/50\n",
      "\u001b[1m22643/22643\u001b[0m \u001b[32m━━━━━━━━━━━━━━━━━━━━\u001b[0m\u001b[37m\u001b[0m \u001b[1m38s\u001b[0m 2ms/step - loss: 81578.5312 - val_loss: 91929.5547\n",
      "Epoch 26/50\n",
      "\u001b[1m22643/22643\u001b[0m \u001b[32m━━━━━━━━━━━━━━━━━━━━\u001b[0m\u001b[37m\u001b[0m \u001b[1m37s\u001b[0m 2ms/step - loss: 83677.4453 - val_loss: 91039.9844\n",
      "Epoch 27/50\n",
      "\u001b[1m22643/22643\u001b[0m \u001b[32m━━━━━━━━━━━━━━━━━━━━\u001b[0m\u001b[37m\u001b[0m \u001b[1m38s\u001b[0m 2ms/step - loss: 81894.5938 - val_loss: 88514.5547\n",
      "Epoch 28/50\n",
      "\u001b[1m22643/22643\u001b[0m \u001b[32m━━━━━━━━━━━━━━━━━━━━\u001b[0m\u001b[37m\u001b[0m \u001b[1m39s\u001b[0m 2ms/step - loss: 77308.3672 - val_loss: 90532.6016\n",
      "Epoch 29/50\n",
      "\u001b[1m22643/22643\u001b[0m \u001b[32m━━━━━━━━━━━━━━━━━━━━\u001b[0m\u001b[37m\u001b[0m \u001b[1m39s\u001b[0m 2ms/step - loss: 81630.0469 - val_loss: 97135.0391\n",
      "Epoch 30/50\n",
      "\u001b[1m22643/22643\u001b[0m \u001b[32m━━━━━━━━━━━━━━━━━━━━\u001b[0m\u001b[37m\u001b[0m \u001b[1m39s\u001b[0m 2ms/step - loss: 79248.2891 - val_loss: 99118.8047\n",
      "Epoch 31/50\n",
      "\u001b[1m22643/22643\u001b[0m \u001b[32m━━━━━━━━━━━━━━━━━━━━\u001b[0m\u001b[37m\u001b[0m \u001b[1m38s\u001b[0m 2ms/step - loss: 78752.4609 - val_loss: 92807.0703\n",
      "Epoch 32/50\n",
      "\u001b[1m22643/22643\u001b[0m \u001b[32m━━━━━━━━━━━━━━━━━━━━\u001b[0m\u001b[37m\u001b[0m \u001b[1m38s\u001b[0m 2ms/step - loss: 83997.9062 - val_loss: 92052.7109\n",
      "Epoch 33/50\n",
      "\u001b[1m22643/22643\u001b[0m \u001b[32m━━━━━━━━━━━━━━━━━━━━\u001b[0m\u001b[37m\u001b[0m \u001b[1m40s\u001b[0m 2ms/step - loss: 81213.5469 - val_loss: 94291.2734\n",
      "Epoch 34/50\n",
      "\u001b[1m22643/22643\u001b[0m \u001b[32m━━━━━━━━━━━━━━━━━━━━\u001b[0m\u001b[37m\u001b[0m \u001b[1m36s\u001b[0m 2ms/step - loss: 77919.8281 - val_loss: 90024.8906\n",
      "Epoch 35/50\n",
      "\u001b[1m22643/22643\u001b[0m \u001b[32m━━━━━━━━━━━━━━━━━━━━\u001b[0m\u001b[37m\u001b[0m \u001b[1m35s\u001b[0m 2ms/step - loss: 78810.0781 - val_loss: 150520.6875\n",
      "Epoch 36/50\n",
      "\u001b[1m22643/22643\u001b[0m \u001b[32m━━━━━━━━━━━━━━━━━━━━\u001b[0m\u001b[37m\u001b[0m \u001b[1m37s\u001b[0m 2ms/step - loss: 86251.4531 - val_loss: 92530.9453\n",
      "Epoch 37/50\n",
      "\u001b[1m22643/22643\u001b[0m \u001b[32m━━━━━━━━━━━━━━━━━━━━\u001b[0m\u001b[37m\u001b[0m \u001b[1m36s\u001b[0m 2ms/step - loss: 81060.7578 - val_loss: 87155.8672\n",
      "Epoch 38/50\n",
      "\u001b[1m22643/22643\u001b[0m \u001b[32m━━━━━━━━━━━━━━━━━━━━\u001b[0m\u001b[37m\u001b[0m \u001b[1m37s\u001b[0m 2ms/step - loss: 82722.8906 - val_loss: 89448.1641\n",
      "Epoch 39/50\n",
      "\u001b[1m22643/22643\u001b[0m \u001b[32m━━━━━━━━━━━━━━━━━━━━\u001b[0m\u001b[37m\u001b[0m \u001b[1m36s\u001b[0m 2ms/step - loss: 79518.0234 - val_loss: 100599.4062\n",
      "Epoch 40/50\n",
      "\u001b[1m22643/22643\u001b[0m \u001b[32m━━━━━━━━━━━━━━━━━━━━\u001b[0m\u001b[37m\u001b[0m \u001b[1m36s\u001b[0m 2ms/step - loss: 82295.3359 - val_loss: 93348.1016\n",
      "Epoch 41/50\n",
      "\u001b[1m22643/22643\u001b[0m \u001b[32m━━━━━━━━━━━━━━━━━━━━\u001b[0m\u001b[37m\u001b[0m \u001b[1m37s\u001b[0m 2ms/step - loss: 76275.3672 - val_loss: 86656.7734\n",
      "Epoch 42/50\n",
      "\u001b[1m22643/22643\u001b[0m \u001b[32m━━━━━━━━━━━━━━━━━━━━\u001b[0m\u001b[37m\u001b[0m \u001b[1m36s\u001b[0m 2ms/step - loss: 78291.8438 - val_loss: 104894.5703\n",
      "Epoch 43/50\n",
      "\u001b[1m22643/22643\u001b[0m \u001b[32m━━━━━━━━━━━━━━━━━━━━\u001b[0m\u001b[37m\u001b[0m \u001b[1m37s\u001b[0m 2ms/step - loss: 81448.4453 - val_loss: 86196.4219\n",
      "Epoch 44/50\n",
      "\u001b[1m22643/22643\u001b[0m \u001b[32m━━━━━━━━━━━━━━━━━━━━\u001b[0m\u001b[37m\u001b[0m \u001b[1m45s\u001b[0m 2ms/step - loss: 75767.5312 - val_loss: 89328.8359\n",
      "Epoch 45/50\n",
      "\u001b[1m22643/22643\u001b[0m \u001b[32m━━━━━━━━━━━━━━━━━━━━\u001b[0m\u001b[37m\u001b[0m \u001b[1m40s\u001b[0m 2ms/step - loss: 82183.4375 - val_loss: 89790.3047\n",
      "Epoch 46/50\n",
      "\u001b[1m22643/22643\u001b[0m \u001b[32m━━━━━━━━━━━━━━━━━━━━\u001b[0m\u001b[37m\u001b[0m \u001b[1m38s\u001b[0m 2ms/step - loss: 78544.5078 - val_loss: 86238.0234\n",
      "Epoch 47/50\n",
      "\u001b[1m22643/22643\u001b[0m \u001b[32m━━━━━━━━━━━━━━━━━━━━\u001b[0m\u001b[37m\u001b[0m \u001b[1m39s\u001b[0m 2ms/step - loss: 79886.6562 - val_loss: 87892.3984\n",
      "Epoch 48/50\n",
      "\u001b[1m22643/22643\u001b[0m \u001b[32m━━━━━━━━━━━━━━━━━━━━\u001b[0m\u001b[37m\u001b[0m \u001b[1m42s\u001b[0m 2ms/step - loss: 79955.4844 - val_loss: 88238.5391\n",
      "Epoch 49/50\n",
      "\u001b[1m22643/22643\u001b[0m \u001b[32m━━━━━━━━━━━━━━━━━━━━\u001b[0m\u001b[37m\u001b[0m \u001b[1m41s\u001b[0m 2ms/step - loss: 74032.7578 - val_loss: 85790.0000\n",
      "Epoch 50/50\n",
      "\u001b[1m22643/22643\u001b[0m \u001b[32m━━━━━━━━━━━━━━━━━━━━\u001b[0m\u001b[37m\u001b[0m \u001b[1m40s\u001b[0m 2ms/step - loss: 75279.0703 - val_loss: 85571.7812\n",
      "Epoch 1/50\n",
      "\u001b[1m10496/10496\u001b[0m \u001b[32m━━━━━━━━━━━━━━━━━━━━\u001b[0m\u001b[37m\u001b[0m \u001b[1m21s\u001b[0m 2ms/step - loss: 142863296.0000 - val_loss: 2482534.2500\n",
      "Epoch 2/50\n",
      "\u001b[1m10496/10496\u001b[0m \u001b[32m━━━━━━━━━━━━━━━━━━━━\u001b[0m\u001b[37m\u001b[0m \u001b[1m18s\u001b[0m 2ms/step - loss: 2159231.2500 - val_loss: 1316152.0000\n",
      "Epoch 3/50\n",
      "\u001b[1m10496/10496\u001b[0m \u001b[32m━━━━━━━━━━━━━━━━━━━━\u001b[0m\u001b[37m\u001b[0m \u001b[1m18s\u001b[0m 2ms/step - loss: 1102896.5000 - val_loss: 830085.8750\n",
      "Epoch 4/50\n",
      "\u001b[1m10496/10496\u001b[0m \u001b[32m━━━━━━━━━━━━━━━━━━━━\u001b[0m\u001b[37m\u001b[0m \u001b[1m19s\u001b[0m 2ms/step - loss: 824018.9375 - val_loss: 765644.1250\n",
      "Epoch 5/50\n",
      "\u001b[1m10496/10496\u001b[0m \u001b[32m━━━━━━━━━━━━━━━━━━━━\u001b[0m\u001b[37m\u001b[0m \u001b[1m19s\u001b[0m 2ms/step - loss: 765640.1875 - val_loss: 728565.8125\n",
      "Epoch 6/50\n",
      "\u001b[1m10496/10496\u001b[0m \u001b[32m━━━━━━━━━━━━━━━━━━━━\u001b[0m\u001b[37m\u001b[0m \u001b[1m19s\u001b[0m 2ms/step - loss: 724240.4375 - val_loss: 705524.5625\n",
      "Epoch 7/50\n",
      "\u001b[1m10496/10496\u001b[0m \u001b[32m━━━━━━━━━━━━━━━━━━━━\u001b[0m\u001b[37m\u001b[0m \u001b[1m19s\u001b[0m 2ms/step - loss: 672564.3750 - val_loss: 690630.0625\n",
      "Epoch 8/50\n",
      "\u001b[1m10496/10496\u001b[0m \u001b[32m━━━━━━━━━━━━━━━━━━━━\u001b[0m\u001b[37m\u001b[0m \u001b[1m20s\u001b[0m 2ms/step - loss: 661986.5000 - val_loss: 569052.8750\n",
      "Epoch 9/50\n",
      "\u001b[1m10496/10496\u001b[0m \u001b[32m━━━━━━━━━━━━━━━━━━━━\u001b[0m\u001b[37m\u001b[0m \u001b[1m18s\u001b[0m 2ms/step - loss: 555067.5625 - val_loss: 505927.5000\n",
      "Epoch 10/50\n",
      "\u001b[1m10496/10496\u001b[0m \u001b[32m━━━━━━━━━━━━━━━━━━━━\u001b[0m\u001b[37m\u001b[0m \u001b[1m18s\u001b[0m 2ms/step - loss: 473113.2500 - val_loss: 473846.4688\n",
      "Epoch 11/50\n",
      "\u001b[1m10496/10496\u001b[0m \u001b[32m━━━━━━━━━━━━━━━━━━━━\u001b[0m\u001b[37m\u001b[0m \u001b[1m19s\u001b[0m 2ms/step - loss: 466495.5938 - val_loss: 455518.0625\n",
      "Epoch 12/50\n",
      "\u001b[1m10496/10496\u001b[0m \u001b[32m━━━━━━━━━━━━━━━━━━━━\u001b[0m\u001b[37m\u001b[0m \u001b[1m19s\u001b[0m 2ms/step - loss: 441994.7812 - val_loss: 444440.2812\n",
      "Epoch 13/50\n",
      "\u001b[1m10496/10496\u001b[0m \u001b[32m━━━━━━━━━━━━━━━━━━━━\u001b[0m\u001b[37m\u001b[0m \u001b[1m19s\u001b[0m 2ms/step - loss: 424466.9688 - val_loss: 443721.9062\n",
      "Epoch 14/50\n",
      "\u001b[1m10496/10496\u001b[0m \u001b[32m━━━━━━━━━━━━━━━━━━━━\u001b[0m\u001b[37m\u001b[0m \u001b[1m20s\u001b[0m 2ms/step - loss: 422908.4062 - val_loss: 422076.9375\n",
      "Epoch 15/50\n",
      "\u001b[1m10496/10496\u001b[0m \u001b[32m━━━━━━━━━━━━━━━━━━━━\u001b[0m\u001b[37m\u001b[0m \u001b[1m19s\u001b[0m 2ms/step - loss: 418148.0312 - val_loss: 425155.0625\n",
      "Epoch 16/50\n",
      "\u001b[1m10496/10496\u001b[0m \u001b[32m━━━━━━━━━━━━━━━━━━━━\u001b[0m\u001b[37m\u001b[0m \u001b[1m19s\u001b[0m 2ms/step - loss: 413871.6875 - val_loss: 424871.7188\n",
      "Epoch 17/50\n",
      "\u001b[1m10496/10496\u001b[0m \u001b[32m━━━━━━━━━━━━━━━━━━━━\u001b[0m\u001b[37m\u001b[0m \u001b[1m21s\u001b[0m 2ms/step - loss: 387067.2500 - val_loss: 404995.3125\n",
      "Epoch 18/50\n",
      "\u001b[1m10496/10496\u001b[0m \u001b[32m━━━━━━━━━━━━━━━━━━━━\u001b[0m\u001b[37m\u001b[0m \u001b[1m19s\u001b[0m 2ms/step - loss: 411752.0000 - val_loss: 392903.7188\n",
      "Epoch 19/50\n",
      "\u001b[1m10496/10496\u001b[0m \u001b[32m━━━━━━━━━━━━━━━━━━━━\u001b[0m\u001b[37m\u001b[0m \u001b[1m19s\u001b[0m 2ms/step - loss: 380950.8750 - val_loss: 395897.2812\n",
      "Epoch 20/50\n",
      "\u001b[1m10496/10496\u001b[0m \u001b[32m━━━━━━━━━━━━━━━━━━━━\u001b[0m\u001b[37m\u001b[0m \u001b[1m20s\u001b[0m 2ms/step - loss: 386313.9062 - val_loss: 390064.9688\n",
      "Epoch 21/50\n",
      "\u001b[1m10496/10496\u001b[0m \u001b[32m━━━━━━━━━━━━━━━━━━━━\u001b[0m\u001b[37m\u001b[0m \u001b[1m20s\u001b[0m 2ms/step - loss: 372597.6250 - val_loss: 378510.1875\n",
      "Epoch 22/50\n",
      "\u001b[1m10496/10496\u001b[0m \u001b[32m━━━━━━━━━━━━━━━━━━━━\u001b[0m\u001b[37m\u001b[0m \u001b[1m19s\u001b[0m 2ms/step - loss: 364843.5000 - val_loss: 370555.4062\n",
      "Epoch 23/50\n",
      "\u001b[1m10496/10496\u001b[0m \u001b[32m━━━━━━━━━━━━━━━━━━━━\u001b[0m\u001b[37m\u001b[0m \u001b[1m20s\u001b[0m 2ms/step - loss: 383174.2188 - val_loss: 367227.4688\n",
      "Epoch 24/50\n",
      "\u001b[1m10496/10496\u001b[0m \u001b[32m━━━━━━━━━━━━━━━━━━━━\u001b[0m\u001b[37m\u001b[0m \u001b[1m20s\u001b[0m 2ms/step - loss: 370151.9688 - val_loss: 365913.4062\n",
      "Epoch 25/50\n",
      "\u001b[1m10496/10496\u001b[0m \u001b[32m━━━━━━━━━━━━━━━━━━━━\u001b[0m\u001b[37m\u001b[0m \u001b[1m20s\u001b[0m 2ms/step - loss: 337802.8438 - val_loss: 360089.5312\n",
      "Epoch 26/50\n",
      "\u001b[1m10496/10496\u001b[0m \u001b[32m━━━━━━━━━━━━━━━━━━━━\u001b[0m\u001b[37m\u001b[0m \u001b[1m20s\u001b[0m 2ms/step - loss: 352640.4375 - val_loss: 356064.4062\n",
      "Epoch 27/50\n",
      "\u001b[1m10496/10496\u001b[0m \u001b[32m━━━━━━━━━━━━━━━━━━━━\u001b[0m\u001b[37m\u001b[0m \u001b[1m21s\u001b[0m 2ms/step - loss: 347261.5625 - val_loss: 357408.1875\n",
      "Epoch 28/50\n",
      "\u001b[1m10496/10496\u001b[0m \u001b[32m━━━━━━━━━━━━━━━━━━━━\u001b[0m\u001b[37m\u001b[0m \u001b[1m19s\u001b[0m 2ms/step - loss: 341433.9062 - val_loss: 350253.9375\n",
      "Epoch 29/50\n",
      "\u001b[1m10496/10496\u001b[0m \u001b[32m━━━━━━━━━━━━━━━━━━━━\u001b[0m\u001b[37m\u001b[0m \u001b[1m19s\u001b[0m 2ms/step - loss: 338113.1875 - val_loss: 347296.2188\n",
      "Epoch 30/50\n",
      "\u001b[1m10496/10496\u001b[0m \u001b[32m━━━━━━━━━━━━━━━━━━━━\u001b[0m\u001b[37m\u001b[0m \u001b[1m20s\u001b[0m 2ms/step - loss: 325320.1875 - val_loss: 344536.5938\n",
      "Epoch 31/50\n",
      "\u001b[1m10496/10496\u001b[0m \u001b[32m━━━━━━━━━━━━━━━━━━━━\u001b[0m\u001b[37m\u001b[0m \u001b[1m19s\u001b[0m 2ms/step - loss: 345493.6250 - val_loss: 356220.8438\n",
      "Epoch 32/50\n",
      "\u001b[1m10496/10496\u001b[0m \u001b[32m━━━━━━━━━━━━━━━━━━━━\u001b[0m\u001b[37m\u001b[0m \u001b[1m20s\u001b[0m 2ms/step - loss: 315986.0938 - val_loss: 354393.7188\n",
      "Epoch 33/50\n",
      "\u001b[1m10496/10496\u001b[0m \u001b[32m━━━━━━━━━━━━━━━━━━━━\u001b[0m\u001b[37m\u001b[0m \u001b[1m19s\u001b[0m 2ms/step - loss: 334933.4375 - val_loss: 338384.9062\n",
      "Epoch 34/50\n",
      "\u001b[1m10496/10496\u001b[0m \u001b[32m━━━━━━━━━━━━━━━━━━━━\u001b[0m\u001b[37m\u001b[0m \u001b[1m20s\u001b[0m 2ms/step - loss: 337798.8438 - val_loss: 333238.9375\n",
      "Epoch 35/50\n",
      "\u001b[1m10496/10496\u001b[0m \u001b[32m━━━━━━━━━━━━━━━━━━━━\u001b[0m\u001b[37m\u001b[0m \u001b[1m19s\u001b[0m 2ms/step - loss: 304689.2188 - val_loss: 335573.7188\n",
      "Epoch 36/50\n",
      "\u001b[1m10496/10496\u001b[0m \u001b[32m━━━━━━━━━━━━━━━━━━━━\u001b[0m\u001b[37m\u001b[0m \u001b[1m19s\u001b[0m 2ms/step - loss: 329607.3750 - val_loss: 329590.1562\n",
      "Epoch 37/50\n",
      "\u001b[1m10496/10496\u001b[0m \u001b[32m━━━━━━━━━━━━━━━━━━━━\u001b[0m\u001b[37m\u001b[0m \u001b[1m18s\u001b[0m 2ms/step - loss: 318733.5312 - val_loss: 330680.8750\n",
      "Epoch 38/50\n",
      "\u001b[1m10496/10496\u001b[0m \u001b[32m━━━━━━━━━━━━━━━━━━━━\u001b[0m\u001b[37m\u001b[0m \u001b[1m19s\u001b[0m 2ms/step - loss: 309173.1875 - val_loss: 328229.5312\n",
      "Epoch 39/50\n",
      "\u001b[1m10496/10496\u001b[0m \u001b[32m━━━━━━━━━━━━━━━━━━━━\u001b[0m\u001b[37m\u001b[0m \u001b[1m19s\u001b[0m 2ms/step - loss: 322657.5000 - val_loss: 326294.6875\n",
      "Epoch 40/50\n",
      "\u001b[1m10496/10496\u001b[0m \u001b[32m━━━━━━━━━━━━━━━━━━━━\u001b[0m\u001b[37m\u001b[0m \u001b[1m18s\u001b[0m 2ms/step - loss: 316023.7188 - val_loss: 332866.9375\n",
      "Epoch 41/50\n",
      "\u001b[1m10496/10496\u001b[0m \u001b[32m━━━━━━━━━━━━━━━━━━━━\u001b[0m\u001b[37m\u001b[0m \u001b[1m19s\u001b[0m 2ms/step - loss: 303517.3125 - val_loss: 326188.5312\n",
      "Epoch 42/50\n",
      "\u001b[1m10496/10496\u001b[0m \u001b[32m━━━━━━━━━━━━━━━━━━━━\u001b[0m\u001b[37m\u001b[0m \u001b[1m18s\u001b[0m 2ms/step - loss: 295508.4062 - val_loss: 320792.5625\n",
      "Epoch 43/50\n",
      "\u001b[1m10496/10496\u001b[0m \u001b[32m━━━━━━━━━━━━━━━━━━━━\u001b[0m\u001b[37m\u001b[0m \u001b[1m19s\u001b[0m 2ms/step - loss: 310246.0312 - val_loss: 319857.0938\n",
      "Epoch 44/50\n",
      "\u001b[1m10496/10496\u001b[0m \u001b[32m━━━━━━━━━━━━━━━━━━━━\u001b[0m\u001b[37m\u001b[0m \u001b[1m19s\u001b[0m 2ms/step - loss: 307778.0938 - val_loss: 323228.6562\n",
      "Epoch 45/50\n",
      "\u001b[1m10496/10496\u001b[0m \u001b[32m━━━━━━━━━━━━━━━━━━━━\u001b[0m\u001b[37m\u001b[0m \u001b[1m20s\u001b[0m 2ms/step - loss: 307977.5000 - val_loss: 317642.3125\n",
      "Epoch 46/50\n",
      "\u001b[1m10496/10496\u001b[0m \u001b[32m━━━━━━━━━━━━━━━━━━━━\u001b[0m\u001b[37m\u001b[0m \u001b[1m19s\u001b[0m 2ms/step - loss: 311423.1250 - val_loss: 315836.5625\n",
      "Epoch 47/50\n",
      "\u001b[1m10496/10496\u001b[0m \u001b[32m━━━━━━━━━━━━━━━━━━━━\u001b[0m\u001b[37m\u001b[0m \u001b[1m18s\u001b[0m 2ms/step - loss: 300597.3438 - val_loss: 313675.1875\n",
      "Epoch 48/50\n",
      "\u001b[1m10496/10496\u001b[0m \u001b[32m━━━━━━━━━━━━━━━━━━━━\u001b[0m\u001b[37m\u001b[0m \u001b[1m19s\u001b[0m 2ms/step - loss: 300689.7812 - val_loss: 333009.4688\n",
      "Epoch 49/50\n",
      "\u001b[1m10496/10496\u001b[0m \u001b[32m━━━━━━━━━━━━━━━━━━━━\u001b[0m\u001b[37m\u001b[0m \u001b[1m18s\u001b[0m 2ms/step - loss: 313596.4688 - val_loss: 312946.2812\n",
      "Epoch 50/50\n",
      "\u001b[1m10496/10496\u001b[0m \u001b[32m━━━━━━━━━━━━━━━━━━━━\u001b[0m\u001b[37m\u001b[0m \u001b[1m19s\u001b[0m 2ms/step - loss: 300076.3438 - val_loss: 327406.4062\n"
     ]
    }
   ],
   "source": [
    "# Train an ANN for each cluster\n",
    "ann_models = {}\n",
    "for cluster in range(3):\n",
    "    cluster_data = features_km[features_km['cluster'] == cluster]\n",
    "    ann_models[cluster] = train_ann_on_cluster(cluster_data)"
   ]
  },
  {
   "cell_type": "code",
   "execution_count": 16,
   "id": "64561ee2-1e0a-4479-aa3a-b49965fee2db",
   "metadata": {
    "execution": {
     "iopub.execute_input": "2024-06-17T15:38:27.286375Z",
     "iopub.status.busy": "2024-06-17T15:38:27.285358Z",
     "iopub.status.idle": "2024-06-17T15:38:27.291132Z",
     "shell.execute_reply": "2024-06-17T15:38:27.290114Z",
     "shell.execute_reply.started": "2024-06-17T15:38:27.286375Z"
    },
    "tags": []
   },
   "outputs": [],
   "source": [
    "import numpy as np\n",
    "from sklearn.metrics import mean_squared_error, mean_absolute_error, r2_score"
   ]
  },
  {
   "cell_type": "code",
   "execution_count": 17,
   "id": "79713b1e-132c-40b3-8044-c2b1bd23ae82",
   "metadata": {
    "execution": {
     "iopub.execute_input": "2024-06-17T15:38:27.293550Z",
     "iopub.status.busy": "2024-06-17T15:38:27.293550Z",
     "iopub.status.idle": "2024-06-17T15:38:27.378819Z",
     "shell.execute_reply": "2024-06-17T15:38:27.377519Z",
     "shell.execute_reply.started": "2024-06-17T15:38:27.293550Z"
    },
    "tags": []
   },
   "outputs": [],
   "source": [
    "# Assign each sample in the test set to a cluster\n",
    "test_clusters = kmeans.predict(X_test)\n",
    "\n",
    "# Initialize an array to hold the predictions\n",
    "combined_predictions = np.zeros_like(y_test)"
   ]
  },
  {
   "cell_type": "code",
   "execution_count": 18,
   "id": "48b3511c-80ef-4844-86fb-fec2ad319a35",
   "metadata": {
    "execution": {
     "iopub.execute_input": "2024-06-17T15:38:27.381100Z",
     "iopub.status.busy": "2024-06-17T15:38:27.380087Z",
     "iopub.status.idle": "2024-06-17T15:38:38.819972Z",
     "shell.execute_reply": "2024-06-17T15:38:38.818939Z",
     "shell.execute_reply.started": "2024-06-17T15:38:27.381100Z"
    },
    "tags": []
   },
   "outputs": [
    {
     "name": "stdout",
     "output_type": "stream",
     "text": [
      "\u001b[1m140/140\u001b[0m \u001b[32m━━━━━━━━━━━━━━━━━━━━\u001b[0m\u001b[37m\u001b[0m \u001b[1m1s\u001b[0m 3ms/step\n",
      "\u001b[1m5656/5656\u001b[0m \u001b[32m━━━━━━━━━━━━━━━━━━━━\u001b[0m\u001b[37m\u001b[0m \u001b[1m6s\u001b[0m 1ms/step\n",
      "\u001b[1m2631/2631\u001b[0m \u001b[32m━━━━━━━━━━━━━━━━━━━━\u001b[0m\u001b[37m\u001b[0m \u001b[1m2s\u001b[0m 668us/step\n",
      "Combined Model MSE: 153817.82802556554\n",
      "Combined Model RMSE: 392.1961601361818\n",
      "Combined Model MAE: 142.45132631767035\n",
      "Combined Model R²: 0.998327408392632\n"
     ]
    }
   ],
   "source": [
    "# Make predictions using the corresponding model for each cluster\n",
    "for cluster in range(3):\n",
    "    cluster_indices = np.where(test_clusters == cluster)[0]\n",
    "    if len(cluster_indices) > 0:\n",
    "        X_cluster = X_test.iloc[cluster_indices]  # Use .iloc to select rows by index\n",
    "        model = ann_models[cluster]\n",
    "        combined_predictions[cluster_indices] = model.predict(X_cluster).flatten()\n",
    "\n",
    "# Evaluate the combined performance\n",
    "combined_mse = mean_squared_error(y_test, combined_predictions)\n",
    "combined_rmse = np.sqrt(combined_mse)\n",
    "combined_mae = mean_absolute_error(y_test, combined_predictions)\n",
    "combined_r2 = r2_score(y_test, combined_predictions)\n",
    "\n",
    "print(f'Combined Model MSE: {combined_mse}')\n",
    "print(f'Combined Model RMSE: {combined_rmse}')\n",
    "print(f'Combined Model MAE: {combined_mae}')\n",
    "print(f'Combined Model R²: {combined_r2}')"
   ]
  },
  {
   "cell_type": "code",
   "execution_count": 19,
   "id": "17a53f77-249b-4f7c-a085-5e7d104bc17c",
   "metadata": {
    "execution": {
     "iopub.execute_input": "2024-06-17T15:38:38.821142Z",
     "iopub.status.busy": "2024-06-17T15:38:38.821142Z",
     "iopub.status.idle": "2024-06-17T15:38:49.395423Z",
     "shell.execute_reply": "2024-06-17T15:38:49.395423Z",
     "shell.execute_reply.started": "2024-06-17T15:38:38.821142Z"
    },
    "tags": []
   },
   "outputs": [
    {
     "name": "stdout",
     "output_type": "stream",
     "text": [
      "\u001b[1m8426/8426\u001b[0m \u001b[32m━━━━━━━━━━━━━━━━━━━━\u001b[0m\u001b[37m\u001b[0m \u001b[1m8s\u001b[0m 917us/step\n",
      "Single Model MSE: 143147.6039029114\n",
      "Single Model RMSE: 378.34852174009006\n",
      "Single Model MAE: 129.51646952617787\n",
      "Single Model R²: 0.9984434347827155\n"
     ]
    }
   ],
   "source": [
    "# Make predictions using the single model\n",
    "single_predictions = single_model.predict(X_test).flatten()\n",
    "\n",
    "# Evaluate the performance\n",
    "single_mse = mean_squared_error(y_test, single_predictions)\n",
    "single_rmse = np.sqrt(single_mse)\n",
    "single_mae = mean_absolute_error(y_test, single_predictions)\n",
    "single_r2 = r2_score(y_test, single_predictions)\n",
    "\n",
    "print(f'Single Model MSE: {single_mse}')\n",
    "print(f'Single Model RMSE: {single_rmse}')\n",
    "print(f'Single Model MAE: {single_mae}')\n",
    "print(f'Single Model R²: {single_r2}')"
   ]
  },
  {
   "cell_type": "code",
   "execution_count": 20,
   "id": "ef8b8ff7-92e6-44ca-8e44-41c7e7190e2d",
   "metadata": {
    "execution": {
     "iopub.execute_input": "2024-06-17T15:38:49.397641Z",
     "iopub.status.busy": "2024-06-17T15:38:49.397641Z",
     "iopub.status.idle": "2024-06-17T15:38:49.404087Z",
     "shell.execute_reply": "2024-06-17T15:38:49.402675Z",
     "shell.execute_reply.started": "2024-06-17T15:38:49.397641Z"
    }
   },
   "outputs": [],
   "source": [
    "#create a dataframe of scores\n",
    "performance_metrics = pd.DataFrame({\n",
    "    'Metric': ['MSE', 'RMSE', 'MAE', 'R²'],\n",
    "    'Single Model': [single_mse, single_rmse, single_mae, single_r2],\n",
    "    'Combined Model': [combined_mse, combined_rmse, combined_mae, combined_r2]\n",
    "})"
   ]
  },
  {
   "cell_type": "code",
   "execution_count": 21,
   "id": "922ab917-99db-453c-a6e6-ff0712b71d0b",
   "metadata": {
    "execution": {
     "iopub.execute_input": "2024-06-17T15:38:49.405576Z",
     "iopub.status.busy": "2024-06-17T15:38:49.405576Z",
     "iopub.status.idle": "2024-06-17T15:38:49.425303Z",
     "shell.execute_reply": "2024-06-17T15:38:49.425303Z",
     "shell.execute_reply.started": "2024-06-17T15:38:49.405576Z"
    }
   },
   "outputs": [],
   "source": [
    "# Export the performance metrics to a CSV file\n",
    "performance_metrics.to_csv('performance_metrics_GA_ANN.csv', index=False)"
   ]
  },
  {
   "cell_type": "code",
   "execution_count": 22,
   "id": "9f6cc9f1-ea05-4693-a1a8-693411f5ae9e",
   "metadata": {
    "execution": {
     "iopub.execute_input": "2024-06-17T15:38:49.427799Z",
     "iopub.status.busy": "2024-06-17T15:38:49.426784Z",
     "iopub.status.idle": "2024-06-17T15:38:49.440448Z",
     "shell.execute_reply": "2024-06-17T15:38:49.439442Z",
     "shell.execute_reply.started": "2024-06-17T15:38:49.427799Z"
    }
   },
   "outputs": [
    {
     "name": "stdout",
     "output_type": "stream",
     "text": [
      "Feature 1: Importance 6.030089378356934\n",
      "Feature 20: Importance 2.9286155700683594\n",
      "Feature 25: Importance 2.838291645050049\n",
      "Feature 7: Importance 2.836075782775879\n",
      "Feature 28: Importance 2.340122699737549\n"
     ]
    }
   ],
   "source": [
    "# Get the weights of the connections between input and hidden layers\n",
    "weights_input_hidden = single_model.layers[0].get_weights()[0]\n",
    "\n",
    "# Compute feature importances based on the weights\n",
    "importances = np.mean(np.abs(weights_input_hidden), axis=1)\n",
    "\n",
    "# Get the indices that would sort the importances array in descending order\n",
    "sorted_indices = np.argsort(importances)[::-1]\n",
    "\n",
    "# Display top 5 feature importance\n",
    "top_n = 5\n",
    "for i in range(top_n):\n",
    "    print(f\"Feature {sorted_indices[i]}: Importance {importances[sorted_indices[i]]}\")"
   ]
  },
  {
   "cell_type": "code",
   "execution_count": 75,
   "id": "ad2087a3-f6b8-483d-a9ed-c5992f875ec7",
   "metadata": {
    "execution": {
     "iopub.execute_input": "2024-06-21T04:06:43.927875Z",
     "iopub.status.busy": "2024-06-21T04:06:43.927875Z",
     "iopub.status.idle": "2024-06-21T04:06:43.932404Z",
     "shell.execute_reply": "2024-06-21T04:06:43.932404Z",
     "shell.execute_reply.started": "2024-06-21T04:06:43.927875Z"
    }
   },
   "outputs": [],
   "source": [
    "column_names = ['annual_inc_joint', 'collection_recovery_fee', 'delinq_2yrs', 'earliest_cr_line', 'emp_length', 'inq_last_12m', 'inq_last_6mths', 'installment', 'int_rate', 'last_fico_range_high', 'last_fico_range_low', 'last_pymnt_amnt', 'open_acc', 'open_il_24m', 'out_prncp', 'policy_code', 'pub_rec', 'tot_coll_amt', 'tot_cur_bal', 'total_cu_tl', 'total_pymnt', 'total_rec_int', 'total_rec_late_fee', 'term_OrdinalEncoded', 'initial_list_status_OrdinalEncoded', 'home_ownership_ANY', 'home_ownership_OWN', 'home_ownership_RENT', 'purpose_educational', 'purpose_vacation', 'pymnt_plan_OrdinalEncoded', 'never_delinq', 'never_major_derog', 'never_record', 'never_rcnt_il']"
   ]
  },
  {
   "cell_type": "code",
   "execution_count": 23,
   "id": "d16e13a8-3552-4e20-9202-d0112b1b4b57",
   "metadata": {
    "execution": {
     "iopub.execute_input": "2024-06-17T15:38:49.442955Z",
     "iopub.status.busy": "2024-06-17T15:38:49.442448Z",
     "iopub.status.idle": "2024-06-17T15:38:49.596482Z",
     "shell.execute_reply": "2024-06-17T15:38:49.595388Z",
     "shell.execute_reply.started": "2024-06-17T15:38:49.442955Z"
    }
   },
   "outputs": [
    {
     "data": {
      "image/png": "[encoded data removed]",
      "text/plain": [
       "<Figure size 800x500 with 1 Axes>"
      ]
     },
     "metadata": {},
     "output_type": "display_data"
    }
   ],
   "source": [
    "# Define colors for bars\n",
    "colors = ['blue', 'green', 'red', 'orange', 'purple']\n",
    "\n",
    "# Plot horizontal bar chart of top 5 feature importances with different colors\n",
    "top_n = 5\n",
    "plt.figure(figsize=(8, 5))\n",
    "plt.barh(range(top_n), importances[sorted_indices][:top_n], align='center', color=colors)\n",
    "plt.yticks(range(top_n), sorted_indices[:top_n])\n",
    "plt.xlabel('Importance')\n",
    "plt.ylabel('Feature Index')\n",
    "plt.title('Top 5 Feature Importances')\n",
    "plt.show()"
   ]
  },
  {
   "cell_type": "code",
   "execution_count": 71,
   "id": "33c7291d-89d3-4101-a50b-2af2334c1877",
   "metadata": {
    "execution": {
     "iopub.execute_input": "2024-06-21T04:06:35.569154Z",
     "iopub.status.busy": "2024-06-21T04:06:35.568154Z",
     "iopub.status.idle": "2024-06-21T04:06:35.571551Z",
     "shell.execute_reply": "2024-06-21T04:06:35.571551Z",
     "shell.execute_reply.started": "2024-06-21T04:06:35.569154Z"
    }
   },
   "outputs": [],
   "source": [
    "index = [1, 20, 25, 7, 28]"
   ]
  },
  {
   "cell_type": "code",
   "execution_count": 73,
   "id": "ad544cb9-fb21-40b3-9a94-b60e7135e707",
   "metadata": {
    "execution": {
     "iopub.execute_input": "2024-06-21T04:06:37.746036Z",
     "iopub.status.busy": "2024-06-21T04:06:37.744970Z",
     "iopub.status.idle": "2024-06-21T04:06:37.756074Z",
     "shell.execute_reply": "2024-06-21T04:06:37.755063Z",
     "shell.execute_reply.started": "2024-06-21T04:06:37.746036Z"
    }
   },
   "outputs": [
    {
     "name": "stdout",
     "output_type": "stream",
     "text": [
      "collection_recovery_fee\n",
      "total_pymnt\n",
      "home_ownership_ANY\n",
      "installment\n",
      "purpose_educational\n"
     ]
    }
   ],
   "source": [
    "# Display names based on the given indices\n",
    "selected_names = [column_names[i] for i in index]\n",
    "\n",
    "# Print the selected names\n",
    "for column_names in selected_names:\n",
    "    print(column_names)"
   ]
  },
  {
   "cell_type": "code",
   "execution_count": 24,
   "id": "ba94d786-f3ed-4be8-ab50-2cea1c9e1e2c",
   "metadata": {
    "execution": {
     "iopub.execute_input": "2024-06-17T15:38:49.597490Z",
     "iopub.status.busy": "2024-06-17T15:38:49.597490Z",
     "iopub.status.idle": "2024-06-17T15:38:49.606230Z",
     "shell.execute_reply": "2024-06-17T15:38:49.605223Z",
     "shell.execute_reply.started": "2024-06-17T15:38:49.597490Z"
    }
   },
   "outputs": [
    {
     "name": "stdout",
     "output_type": "stream",
     "text": [
      "Feature 1: Importance 4.713381290435791\n",
      "Feature 7: Importance 2.8585031032562256\n",
      "Feature 28: Importance 2.0500974655151367\n",
      "Feature 20: Importance 1.9739563465118408\n",
      "Feature 25: Importance 1.6647679805755615\n"
     ]
    }
   ],
   "source": [
    "# Get the weights of the connections between input and hidden layers\n",
    "weights_input_hidden = model.layers[0].get_weights()[0]\n",
    "\n",
    "# Compute feature importances based on the weights\n",
    "importances = np.mean(np.abs(weights_input_hidden), axis=1)\n",
    "\n",
    "# Get the indices that would sort the importances array in descending order\n",
    "sorted_indices = np.argsort(importances)[::-1]\n",
    "\n",
    "# Display top 5 feature importance\n",
    "top_n = 5\n",
    "for i in range(top_n):\n",
    "    print(f\"Feature {sorted_indices[i]}: Importance {importances[sorted_indices[i]]}\")"
   ]
  },
  {
   "cell_type": "code",
   "execution_count": 25,
   "id": "111d3d00-5c6c-45cd-9d00-810d07bbfcd1",
   "metadata": {
    "execution": {
     "iopub.execute_input": "2024-06-17T15:38:49.608633Z",
     "iopub.status.busy": "2024-06-17T15:38:49.607627Z",
     "iopub.status.idle": "2024-06-17T15:38:49.727131Z",
     "shell.execute_reply": "2024-06-17T15:38:49.726042Z",
     "shell.execute_reply.started": "2024-06-17T15:38:49.608633Z"
    }
   },
   "outputs": [
    {
     "data": {
      "image/png": "[encoded data removed]",
      "text/plain": [
       "<Figure size 800x500 with 1 Axes>"
      ]
     },
     "metadata": {},
     "output_type": "display_data"
    }
   ],
   "source": [
    "# Define colors for bars\n",
    "colors = ['blue', 'green', 'red', 'orange', 'purple']\n",
    "\n",
    "# Plot horizontal bar chart of top 5 feature importances with different colors\n",
    "top_n = 5\n",
    "plt.figure(figsize=(8, 5))\n",
    "plt.barh(range(top_n), importances[sorted_indices][:top_n], align='center', color=colors)\n",
    "plt.yticks(range(top_n), sorted_indices[:top_n])\n",
    "plt.xlabel('Importance')\n",
    "plt.ylabel('Feature Index')\n",
    "plt.title('Top 5 Feature Importances')\n",
    "plt.show()"
   ]
  },
  {
   "cell_type": "code",
   "execution_count": 77,
   "id": "e8a0c72b-83a2-46dc-abb3-1417f096c801",
   "metadata": {
    "execution": {
     "iopub.execute_input": "2024-06-21T04:06:48.302361Z",
     "iopub.status.busy": "2024-06-21T04:06:48.302361Z",
     "iopub.status.idle": "2024-06-21T04:06:48.308004Z",
     "shell.execute_reply": "2024-06-21T04:06:48.306997Z",
     "shell.execute_reply.started": "2024-06-21T04:06:48.302361Z"
    }
   },
   "outputs": [],
   "source": [
    "index1 = [1, 7, 28, 20, 25]"
   ]
  },
  {
   "cell_type": "code",
   "execution_count": 79,
   "id": "8dcc4d24-aacd-47f4-8899-c4ed893f7da9",
   "metadata": {
    "execution": {
     "iopub.execute_input": "2024-06-21T04:06:51.731921Z",
     "iopub.status.busy": "2024-06-21T04:06:51.731921Z",
     "iopub.status.idle": "2024-06-21T04:06:51.735455Z",
     "shell.execute_reply": "2024-06-21T04:06:51.735455Z",
     "shell.execute_reply.started": "2024-06-21T04:06:51.731921Z"
    }
   },
   "outputs": [
    {
     "name": "stdout",
     "output_type": "stream",
     "text": [
      "collection_recovery_fee\n",
      "installment\n",
      "purpose_educational\n",
      "total_pymnt\n",
      "home_ownership_ANY\n"
     ]
    }
   ],
   "source": [
    "# Display names based on the given indices\n",
    "selected_names = [column_names[i] for i in index1]\n",
    "\n",
    "# Print the selected names\n",
    "for column_names in selected_names:\n",
    "    print(column_names)"
   ]
  }
 ],
 "metadata": {
  "kernelspec": {
   "display_name": "Python 3 (ipykernel)",
   "language": "python",
   "name": "python3"
  },
  "language_info": {
   "codemirror_mode": {
    "name": "ipython",
    "version": 3
   },
   "file_extension": ".py",
   "mimetype": "text/x-python",
   "name": "python",
   "nbconvert_exporter": "python",
   "pygments_lexer": "ipython3",
   "version": "3.11.7"
  }
 },
 "nbformat": 4,
 "nbformat_minor": 5
}
