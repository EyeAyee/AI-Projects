{
 "cells": [
  {
   "cell_type": "code",
   "execution_count": 1,
   "id": "bf39ca33-3d59-4861-93ec-e28f0baaf966",
   "metadata": {
    "execution": {
     "iopub.execute_input": "2024-06-07T18:42:24.319216Z",
     "iopub.status.busy": "2024-06-07T18:42:24.318208Z",
     "iopub.status.idle": "2024-06-07T18:42:31.516327Z",
     "shell.execute_reply": "2024-06-07T18:42:31.516327Z",
     "shell.execute_reply.started": "2024-06-07T18:42:24.319216Z"
    }
   },
   "outputs": [],
   "source": [
    "from mpl_toolkits.mplot3d import Axes3D\n",
    "from sklearn.preprocessing import StandardScaler\n",
    "import matplotlib.pyplot as plt # plotting\n",
    "import numpy as np # linear algebra\n",
    "import os # accessing directory structure\n",
    "import pandas as pd # data processing, CSV file I/O (e.g. pd.read_csv)\n",
    "import tensorflow as tf\n",
    "from tensorflow.keras.models import Sequential\n",
    "from tensorflow.keras.layers import Dense\n",
    "from sklearn.model_selection import train_test_split\n",
    "from sklearn.preprocessing import StandardScaler\n",
    "import joblib\n",
    "import os\n",
    "\n",
    "import pandas as pd\n",
    "\n",
    "from sklearn.linear_model import LogisticRegression\n",
    "from sklearn.naive_bayes import GaussianNB\n",
    "from sklearn.ensemble import RandomForestClassifier\n",
    "from sklearn.svm import SVC\n",
    "from sklearn.metrics import confusion_matrix, accuracy_score, precision_score, recall_score, f1_score\n",
    "\n",
    "# Import necessary libraries\n",
    "import warnings\n",
    "warnings.filterwarnings('ignore')\n",
    "\n",
    "\n",
    "import seaborn as sns\n",
    "\n",
    "from sklearn.cluster import KMeans\n",
    "from sklearn.ensemble import GradientBoostingRegressor\n",
    "from sklearn.metrics import mean_squared_error, mean_absolute_error, r2_score\n"
   ]
  },
  {
   "cell_type": "code",
   "execution_count": 2,
   "id": "7ace5831-f546-48f8-a0ee-e08cbd402191",
   "metadata": {
    "execution": {
     "iopub.execute_input": "2024-06-07T18:42:31.518518Z",
     "iopub.status.busy": "2024-06-07T18:42:31.517811Z",
     "iopub.status.idle": "2024-06-07T18:42:40.214992Z",
     "shell.execute_reply": "2024-06-07T18:42:40.213965Z",
     "shell.execute_reply.started": "2024-06-07T18:42:31.517811Z"
    }
   },
   "outputs": [],
   "source": [
    "data = pd.read_csv('C:/Users/Imran/OneDrive - Ontario Tech University/Documents/Capstone/final_df.csv')"
   ]
  },
  {
   "cell_type": "code",
   "execution_count": 3,
   "id": "02d18e46-96d3-4658-8212-0068a1c2a0ab",
   "metadata": {
    "execution": {
     "iopub.execute_input": "2024-06-07T18:42:40.215990Z",
     "iopub.status.busy": "2024-06-07T18:42:40.215990Z",
     "iopub.status.idle": "2024-06-07T18:42:40.223791Z",
     "shell.execute_reply": "2024-06-07T18:42:40.222477Z",
     "shell.execute_reply.started": "2024-06-07T18:42:40.215990Z"
    }
   },
   "outputs": [],
   "source": [
    "labels = data['rar']"
   ]
  },
  {
   "cell_type": "code",
   "execution_count": 4,
   "id": "9333cbc7-dbbd-4bd2-a84c-82867abd6c53",
   "metadata": {
    "execution": {
     "iopub.execute_input": "2024-06-07T18:42:40.225253Z",
     "iopub.status.busy": "2024-06-07T18:42:40.225253Z",
     "iopub.status.idle": "2024-06-07T18:42:40.475015Z",
     "shell.execute_reply": "2024-06-07T18:42:40.473981Z",
     "shell.execute_reply.started": "2024-06-07T18:42:40.225253Z"
    }
   },
   "outputs": [],
   "source": [
    "features = data.drop('rar', axis=1)"
   ]
  },
  {
   "cell_type": "code",
   "execution_count": 5,
   "id": "54a011b8-4783-4135-a72c-0505b569c86d",
   "metadata": {
    "execution": {
     "iopub.execute_input": "2024-06-07T18:42:40.478016Z",
     "iopub.status.busy": "2024-06-07T18:42:40.476995Z",
     "iopub.status.idle": "2024-06-07T18:42:47.653029Z",
     "shell.execute_reply": "2024-06-07T18:42:47.652008Z",
     "shell.execute_reply.started": "2024-06-07T18:42:40.478016Z"
    }
   },
   "outputs": [],
   "source": [
    "# Standardize the data\n",
    "scaler = StandardScaler().fit(features)\n",
    "features_scaled = scaler.transform(features)"
   ]
  },
  {
   "cell_type": "code",
   "execution_count": 6,
   "id": "0a81853f-daf4-4284-a3e7-3001514b1f1b",
   "metadata": {
    "execution": {
     "iopub.execute_input": "2024-06-07T18:42:47.656076Z",
     "iopub.status.busy": "2024-06-07T18:42:47.655044Z",
     "iopub.status.idle": "2024-06-07T18:42:49.881959Z",
     "shell.execute_reply": "2024-06-07T18:42:49.880942Z",
     "shell.execute_reply.started": "2024-06-07T18:42:47.656076Z"
    }
   },
   "outputs": [],
   "source": [
    "# Split the data into training and testing sets\n",
    "X_train, X_test, y_train, y_test = train_test_split(features_scaled, labels, test_size=0.2, random_state=42)"
   ]
  },
  {
   "cell_type": "markdown",
   "id": "c7b8bf46-b167-440f-949e-d724e817115f",
   "metadata": {},
   "source": [
    "### Creating the individual model"
   ]
  },
  {
   "cell_type": "code",
   "execution_count": 7,
   "id": "c1f6a458-6149-4826-9829-dd1dea241459",
   "metadata": {
    "execution": {
     "iopub.execute_input": "2024-06-07T18:42:49.882953Z",
     "iopub.status.busy": "2024-06-07T18:42:49.882953Z",
     "iopub.status.idle": "2024-06-07T19:05:42.214941Z",
     "shell.execute_reply": "2024-06-07T19:05:42.213926Z",
     "shell.execute_reply.started": "2024-06-07T18:42:49.882953Z"
    }
   },
   "outputs": [
    {
     "data": {
      "text/html": [
       "<style>#sk-container-id-1 {\n",
       "  /* Definition of color scheme common for light and dark mode */\n",
       "  --sklearn-color-text: black;\n",
       "  --sklearn-color-line: gray;\n",
       "  /* Definition of color scheme for unfitted estimators */\n",
       "  --sklearn-color-unfitted-level-0: #fff5e6;\n",
       "  --sklearn-color-unfitted-level-1: #f6e4d2;\n",
       "  --sklearn-color-unfitted-level-2: #ffe0b3;\n",
       "  --sklearn-color-unfitted-level-3: chocolate;\n",
       "  /* Definition of color scheme for fitted estimators */\n",
       "  --sklearn-color-fitted-level-0: #f0f8ff;\n",
       "  --sklearn-color-fitted-level-1: #d4ebff;\n",
       "  --sklearn-color-fitted-level-2: #b3dbfd;\n",
       "  --sklearn-color-fitted-level-3: cornflowerblue;\n",
       "\n",
       "  /* Specific color for light theme */\n",
       "  --sklearn-color-text-on-default-background: var(--sg-text-color, var(--theme-code-foreground, var(--jp-content-font-color1, black)));\n",
       "  --sklearn-color-background: var(--sg-background-color, var(--theme-background, var(--jp-layout-color0, white)));\n",
       "  --sklearn-color-border-box: var(--sg-text-color, var(--theme-code-foreground, var(--jp-content-font-color1, black)));\n",
       "  --sklearn-color-icon: #696969;\n",
       "\n",
       "  @media (prefers-color-scheme: dark) {\n",
       "    /* Redefinition of color scheme for dark theme */\n",
       "    --sklearn-color-text-on-default-background: var(--sg-text-color, var(--theme-code-foreground, var(--jp-content-font-color1, white)));\n",
       "    --sklearn-color-background: var(--sg-background-color, var(--theme-background, var(--jp-layout-color0, #111)));\n",
       "    --sklearn-color-border-box: var(--sg-text-color, var(--theme-code-foreground, var(--jp-content-font-color1, white)));\n",
       "    --sklearn-color-icon: #878787;\n",
       "  }\n",
       "}\n",
       "\n",
       "#sk-container-id-1 {\n",
       "  color: var(--sklearn-color-text);\n",
       "}\n",
       "\n",
       "#sk-container-id-1 pre {\n",
       "  padding: 0;\n",
       "}\n",
       "\n",
       "#sk-container-id-1 input.sk-hidden--visually {\n",
       "  border: 0;\n",
       "  clip: rect(1px 1px 1px 1px);\n",
       "  clip: rect(1px, 1px, 1px, 1px);\n",
       "  height: 1px;\n",
       "  margin: -1px;\n",
       "  overflow: hidden;\n",
       "  padding: 0;\n",
       "  position: absolute;\n",
       "  width: 1px;\n",
       "}\n",
       "\n",
       "#sk-container-id-1 div.sk-dashed-wrapped {\n",
       "  border: 1px dashed var(--sklearn-color-line);\n",
       "  margin: 0 0.4em 0.5em 0.4em;\n",
       "  box-sizing: border-box;\n",
       "  padding-bottom: 0.4em;\n",
       "  background-color: var(--sklearn-color-background);\n",
       "}\n",
       "\n",
       "#sk-container-id-1 div.sk-container {\n",
       "  /* jupyter's `normalize.less` sets `[hidden] { display: none; }`\n",
       "     but bootstrap.min.css set `[hidden] { display: none !important; }`\n",
       "     so we also need the `!important` here to be able to override the\n",
       "     default hidden behavior on the sphinx rendered scikit-learn.org.\n",
       "     See: https://github.com/scikit-learn/scikit-learn/issues/21755 */\n",
       "  display: inline-block !important;\n",
       "  position: relative;\n",
       "}\n",
       "\n",
       "#sk-container-id-1 div.sk-text-repr-fallback {\n",
       "  display: none;\n",
       "}\n",
       "\n",
       "div.sk-parallel-item,\n",
       "div.sk-serial,\n",
       "div.sk-item {\n",
       "  /* draw centered vertical line to link estimators */\n",
       "  background-image: linear-gradient(var(--sklearn-color-text-on-default-background), var(--sklearn-color-text-on-default-background));\n",
       "  background-size: 2px 100%;\n",
       "  background-repeat: no-repeat;\n",
       "  background-position: center center;\n",
       "}\n",
       "\n",
       "/* Parallel-specific style estimator block */\n",
       "\n",
       "#sk-container-id-1 div.sk-parallel-item::after {\n",
       "  content: \"\";\n",
       "  width: 100%;\n",
       "  border-bottom: 2px solid var(--sklearn-color-text-on-default-background);\n",
       "  flex-grow: 1;\n",
       "}\n",
       "\n",
       "#sk-container-id-1 div.sk-parallel {\n",
       "  display: flex;\n",
       "  align-items: stretch;\n",
       "  justify-content: center;\n",
       "  background-color: var(--sklearn-color-background);\n",
       "  position: relative;\n",
       "}\n",
       "\n",
       "#sk-container-id-1 div.sk-parallel-item {\n",
       "  display: flex;\n",
       "  flex-direction: column;\n",
       "}\n",
       "\n",
       "#sk-container-id-1 div.sk-parallel-item:first-child::after {\n",
       "  align-self: flex-end;\n",
       "  width: 50%;\n",
       "}\n",
       "\n",
       "#sk-container-id-1 div.sk-parallel-item:last-child::after {\n",
       "  align-self: flex-start;\n",
       "  width: 50%;\n",
       "}\n",
       "\n",
       "#sk-container-id-1 div.sk-parallel-item:only-child::after {\n",
       "  width: 0;\n",
       "}\n",
       "\n",
       "/* Serial-specific style estimator block */\n",
       "\n",
       "#sk-container-id-1 div.sk-serial {\n",
       "  display: flex;\n",
       "  flex-direction: column;\n",
       "  align-items: center;\n",
       "  background-color: var(--sklearn-color-background);\n",
       "  padding-right: 1em;\n",
       "  padding-left: 1em;\n",
       "}\n",
       "\n",
       "\n",
       "/* Toggleable style: style used for estimator/Pipeline/ColumnTransformer box that is\n",
       "clickable and can be expanded/collapsed.\n",
       "- Pipeline and ColumnTransformer use this feature and define the default style\n",
       "- Estimators will overwrite some part of the style using the `sk-estimator` class\n",
       "*/\n",
       "\n",
       "/* Pipeline and ColumnTransformer style (default) */\n",
       "\n",
       "#sk-container-id-1 div.sk-toggleable {\n",
       "  /* Default theme specific background. It is overwritten whether we have a\n",
       "  specific estimator or a Pipeline/ColumnTransformer */\n",
       "  background-color: var(--sklearn-color-background);\n",
       "}\n",
       "\n",
       "/* Toggleable label */\n",
       "#sk-container-id-1 label.sk-toggleable__label {\n",
       "  cursor: pointer;\n",
       "  display: block;\n",
       "  width: 100%;\n",
       "  margin-bottom: 0;\n",
       "  padding: 0.5em;\n",
       "  box-sizing: border-box;\n",
       "  text-align: center;\n",
       "}\n",
       "\n",
       "#sk-container-id-1 label.sk-toggleable__label-arrow:before {\n",
       "  /* Arrow on the left of the label */\n",
       "  content: \"▸\";\n",
       "  float: left;\n",
       "  margin-right: 0.25em;\n",
       "  color: var(--sklearn-color-icon);\n",
       "}\n",
       "\n",
       "#sk-container-id-1 label.sk-toggleable__label-arrow:hover:before {\n",
       "  color: var(--sklearn-color-text);\n",
       "}\n",
       "\n",
       "/* Toggleable content - dropdown */\n",
       "\n",
       "#sk-container-id-1 div.sk-toggleable__content {\n",
       "  max-height: 0;\n",
       "  max-width: 0;\n",
       "  overflow: hidden;\n",
       "  text-align: left;\n",
       "  /* unfitted */\n",
       "  background-color: var(--sklearn-color-unfitted-level-0);\n",
       "}\n",
       "\n",
       "#sk-container-id-1 div.sk-toggleable__content.fitted {\n",
       "  /* fitted */\n",
       "  background-color: var(--sklearn-color-fitted-level-0);\n",
       "}\n",
       "\n",
       "#sk-container-id-1 div.sk-toggleable__content pre {\n",
       "  margin: 0.2em;\n",
       "  border-radius: 0.25em;\n",
       "  color: var(--sklearn-color-text);\n",
       "  /* unfitted */\n",
       "  background-color: var(--sklearn-color-unfitted-level-0);\n",
       "}\n",
       "\n",
       "#sk-container-id-1 div.sk-toggleable__content.fitted pre {\n",
       "  /* unfitted */\n",
       "  background-color: var(--sklearn-color-fitted-level-0);\n",
       "}\n",
       "\n",
       "#sk-container-id-1 input.sk-toggleable__control:checked~div.sk-toggleable__content {\n",
       "  /* Expand drop-down */\n",
       "  max-height: 200px;\n",
       "  max-width: 100%;\n",
       "  overflow: auto;\n",
       "}\n",
       "\n",
       "#sk-container-id-1 input.sk-toggleable__control:checked~label.sk-toggleable__label-arrow:before {\n",
       "  content: \"▾\";\n",
       "}\n",
       "\n",
       "/* Pipeline/ColumnTransformer-specific style */\n",
       "\n",
       "#sk-container-id-1 div.sk-label input.sk-toggleable__control:checked~label.sk-toggleable__label {\n",
       "  color: var(--sklearn-color-text);\n",
       "  background-color: var(--sklearn-color-unfitted-level-2);\n",
       "}\n",
       "\n",
       "#sk-container-id-1 div.sk-label.fitted input.sk-toggleable__control:checked~label.sk-toggleable__label {\n",
       "  background-color: var(--sklearn-color-fitted-level-2);\n",
       "}\n",
       "\n",
       "/* Estimator-specific style */\n",
       "\n",
       "/* Colorize estimator box */\n",
       "#sk-container-id-1 div.sk-estimator input.sk-toggleable__control:checked~label.sk-toggleable__label {\n",
       "  /* unfitted */\n",
       "  background-color: var(--sklearn-color-unfitted-level-2);\n",
       "}\n",
       "\n",
       "#sk-container-id-1 div.sk-estimator.fitted input.sk-toggleable__control:checked~label.sk-toggleable__label {\n",
       "  /* fitted */\n",
       "  background-color: var(--sklearn-color-fitted-level-2);\n",
       "}\n",
       "\n",
       "#sk-container-id-1 div.sk-label label.sk-toggleable__label,\n",
       "#sk-container-id-1 div.sk-label label {\n",
       "  /* The background is the default theme color */\n",
       "  color: var(--sklearn-color-text-on-default-background);\n",
       "}\n",
       "\n",
       "/* On hover, darken the color of the background */\n",
       "#sk-container-id-1 div.sk-label:hover label.sk-toggleable__label {\n",
       "  color: var(--sklearn-color-text);\n",
       "  background-color: var(--sklearn-color-unfitted-level-2);\n",
       "}\n",
       "\n",
       "/* Label box, darken color on hover, fitted */\n",
       "#sk-container-id-1 div.sk-label.fitted:hover label.sk-toggleable__label.fitted {\n",
       "  color: var(--sklearn-color-text);\n",
       "  background-color: var(--sklearn-color-fitted-level-2);\n",
       "}\n",
       "\n",
       "/* Estimator label */\n",
       "\n",
       "#sk-container-id-1 div.sk-label label {\n",
       "  font-family: monospace;\n",
       "  font-weight: bold;\n",
       "  display: inline-block;\n",
       "  line-height: 1.2em;\n",
       "}\n",
       "\n",
       "#sk-container-id-1 div.sk-label-container {\n",
       "  text-align: center;\n",
       "}\n",
       "\n",
       "/* Estimator-specific */\n",
       "#sk-container-id-1 div.sk-estimator {\n",
       "  font-family: monospace;\n",
       "  border: 1px dotted var(--sklearn-color-border-box);\n",
       "  border-radius: 0.25em;\n",
       "  box-sizing: border-box;\n",
       "  margin-bottom: 0.5em;\n",
       "  /* unfitted */\n",
       "  background-color: var(--sklearn-color-unfitted-level-0);\n",
       "}\n",
       "\n",
       "#sk-container-id-1 div.sk-estimator.fitted {\n",
       "  /* fitted */\n",
       "  background-color: var(--sklearn-color-fitted-level-0);\n",
       "}\n",
       "\n",
       "/* on hover */\n",
       "#sk-container-id-1 div.sk-estimator:hover {\n",
       "  /* unfitted */\n",
       "  background-color: var(--sklearn-color-unfitted-level-2);\n",
       "}\n",
       "\n",
       "#sk-container-id-1 div.sk-estimator.fitted:hover {\n",
       "  /* fitted */\n",
       "  background-color: var(--sklearn-color-fitted-level-2);\n",
       "}\n",
       "\n",
       "/* Specification for estimator info (e.g. \"i\" and \"?\") */\n",
       "\n",
       "/* Common style for \"i\" and \"?\" */\n",
       "\n",
       ".sk-estimator-doc-link,\n",
       "a:link.sk-estimator-doc-link,\n",
       "a:visited.sk-estimator-doc-link {\n",
       "  float: right;\n",
       "  font-size: smaller;\n",
       "  line-height: 1em;\n",
       "  font-family: monospace;\n",
       "  background-color: var(--sklearn-color-background);\n",
       "  border-radius: 1em;\n",
       "  height: 1em;\n",
       "  width: 1em;\n",
       "  text-decoration: none !important;\n",
       "  margin-left: 1ex;\n",
       "  /* unfitted */\n",
       "  border: var(--sklearn-color-unfitted-level-1) 1pt solid;\n",
       "  color: var(--sklearn-color-unfitted-level-1);\n",
       "}\n",
       "\n",
       ".sk-estimator-doc-link.fitted,\n",
       "a:link.sk-estimator-doc-link.fitted,\n",
       "a:visited.sk-estimator-doc-link.fitted {\n",
       "  /* fitted */\n",
       "  border: var(--sklearn-color-fitted-level-1) 1pt solid;\n",
       "  color: var(--sklearn-color-fitted-level-1);\n",
       "}\n",
       "\n",
       "/* On hover */\n",
       "div.sk-estimator:hover .sk-estimator-doc-link:hover,\n",
       ".sk-estimator-doc-link:hover,\n",
       "div.sk-label-container:hover .sk-estimator-doc-link:hover,\n",
       ".sk-estimator-doc-link:hover {\n",
       "  /* unfitted */\n",
       "  background-color: var(--sklearn-color-unfitted-level-3);\n",
       "  color: var(--sklearn-color-background);\n",
       "  text-decoration: none;\n",
       "}\n",
       "\n",
       "div.sk-estimator.fitted:hover .sk-estimator-doc-link.fitted:hover,\n",
       ".sk-estimator-doc-link.fitted:hover,\n",
       "div.sk-label-container:hover .sk-estimator-doc-link.fitted:hover,\n",
       ".sk-estimator-doc-link.fitted:hover {\n",
       "  /* fitted */\n",
       "  background-color: var(--sklearn-color-fitted-level-3);\n",
       "  color: var(--sklearn-color-background);\n",
       "  text-decoration: none;\n",
       "}\n",
       "\n",
       "/* Span, style for the box shown on hovering the info icon */\n",
       ".sk-estimator-doc-link span {\n",
       "  display: none;\n",
       "  z-index: 9999;\n",
       "  position: relative;\n",
       "  font-weight: normal;\n",
       "  right: .2ex;\n",
       "  padding: .5ex;\n",
       "  margin: .5ex;\n",
       "  width: min-content;\n",
       "  min-width: 20ex;\n",
       "  max-width: 50ex;\n",
       "  color: var(--sklearn-color-text);\n",
       "  box-shadow: 2pt 2pt 4pt #999;\n",
       "  /* unfitted */\n",
       "  background: var(--sklearn-color-unfitted-level-0);\n",
       "  border: .5pt solid var(--sklearn-color-unfitted-level-3);\n",
       "}\n",
       "\n",
       ".sk-estimator-doc-link.fitted span {\n",
       "  /* fitted */\n",
       "  background: var(--sklearn-color-fitted-level-0);\n",
       "  border: var(--sklearn-color-fitted-level-3);\n",
       "}\n",
       "\n",
       ".sk-estimator-doc-link:hover span {\n",
       "  display: block;\n",
       "}\n",
       "\n",
       "/* \"?\"-specific style due to the `<a>` HTML tag */\n",
       "\n",
       "#sk-container-id-1 a.estimator_doc_link {\n",
       "  float: right;\n",
       "  font-size: 1rem;\n",
       "  line-height: 1em;\n",
       "  font-family: monospace;\n",
       "  background-color: var(--sklearn-color-background);\n",
       "  border-radius: 1rem;\n",
       "  height: 1rem;\n",
       "  width: 1rem;\n",
       "  text-decoration: none;\n",
       "  /* unfitted */\n",
       "  color: var(--sklearn-color-unfitted-level-1);\n",
       "  border: var(--sklearn-color-unfitted-level-1) 1pt solid;\n",
       "}\n",
       "\n",
       "#sk-container-id-1 a.estimator_doc_link.fitted {\n",
       "  /* fitted */\n",
       "  border: var(--sklearn-color-fitted-level-1) 1pt solid;\n",
       "  color: var(--sklearn-color-fitted-level-1);\n",
       "}\n",
       "\n",
       "/* On hover */\n",
       "#sk-container-id-1 a.estimator_doc_link:hover {\n",
       "  /* unfitted */\n",
       "  background-color: var(--sklearn-color-unfitted-level-3);\n",
       "  color: var(--sklearn-color-background);\n",
       "  text-decoration: none;\n",
       "}\n",
       "\n",
       "#sk-container-id-1 a.estimator_doc_link.fitted:hover {\n",
       "  /* fitted */\n",
       "  background-color: var(--sklearn-color-fitted-level-3);\n",
       "}\n",
       "</style><div id=\"sk-container-id-1\" class=\"sk-top-container\"><div class=\"sk-text-repr-fallback\"><pre>GradientBoostingRegressor(random_state=42)</pre><b>In a Jupyter environment, please rerun this cell to show the HTML representation or trust the notebook. <br />On GitHub, the HTML representation is unable to render, please try loading this page with nbviewer.org.</b></div><div class=\"sk-container\" hidden><div class=\"sk-item\"><div class=\"sk-estimator fitted sk-toggleable\"><input class=\"sk-toggleable__control sk-hidden--visually\" id=\"sk-estimator-id-1\" type=\"checkbox\" checked><label for=\"sk-estimator-id-1\" class=\"sk-toggleable__label fitted sk-toggleable__label-arrow fitted\">&nbsp;&nbsp;GradientBoostingRegressor<a class=\"sk-estimator-doc-link fitted\" rel=\"noreferrer\" target=\"_blank\" href=\"https://scikit-learn.org/1.5/modules/generated/sklearn.ensemble.GradientBoostingRegressor.html\">?<span>Documentation for GradientBoostingRegressor</span></a><span class=\"sk-estimator-doc-link fitted\">i<span>Fitted</span></span></label><div class=\"sk-toggleable__content fitted\"><pre>GradientBoostingRegressor(random_state=42)</pre></div> </div></div></div></div>"
      ],
      "text/plain": [
       "GradientBoostingRegressor(random_state=42)"
      ]
     },
     "execution_count": 7,
     "metadata": {},
     "output_type": "execute_result"
    }
   ],
   "source": [
    "# Define and train the Gradient Boosting model\n",
    "gb_model = GradientBoostingRegressor(n_estimators=100, learning_rate=0.1, max_depth=3, random_state=42)\n",
    "gb_model.fit(X_train, y_train)"
   ]
  },
  {
   "cell_type": "markdown",
   "id": "603d8b9e-c9e5-426e-b6be-1799a2cf119b",
   "metadata": {},
   "source": [
    "### Creating the hybrid model"
   ]
  },
  {
   "cell_type": "code",
   "execution_count": 8,
   "id": "b9912339-176a-4eaf-8d92-f6ce2ca20f90",
   "metadata": {
    "execution": {
     "iopub.execute_input": "2024-06-07T19:05:42.216938Z",
     "iopub.status.busy": "2024-06-07T19:05:42.216034Z",
     "iopub.status.idle": "2024-06-07T19:05:44.516457Z",
     "shell.execute_reply": "2024-06-07T19:05:44.515442Z",
     "shell.execute_reply.started": "2024-06-07T19:05:42.216938Z"
    }
   },
   "outputs": [],
   "source": [
    "# Perform K-means clustering\n",
    "kmeans = KMeans(n_clusters=3, random_state=42)\n",
    "clusters = kmeans.fit_predict(features_scaled)"
   ]
  },
  {
   "cell_type": "code",
   "execution_count": 18,
   "id": "3e30d4af-b419-4fcd-8369-d649d0048063",
   "metadata": {
    "execution": {
     "iopub.execute_input": "2024-06-08T03:01:00.829673Z",
     "iopub.status.busy": "2024-06-08T03:01:00.828669Z",
     "iopub.status.idle": "2024-06-08T03:01:00.836920Z",
     "shell.execute_reply": "2024-06-08T03:01:00.835912Z",
     "shell.execute_reply.started": "2024-06-08T03:01:00.829673Z"
    }
   },
   "outputs": [],
   "source": [
    "data_km = pd.DataFrame(features_scaled)"
   ]
  },
  {
   "cell_type": "code",
   "execution_count": 22,
   "id": "67ec8a00-c129-4f23-a34a-cb7bf0b619d5",
   "metadata": {
    "execution": {
     "iopub.execute_input": "2024-06-08T03:01:15.265277Z",
     "iopub.status.busy": "2024-06-08T03:01:15.264280Z",
     "iopub.status.idle": "2024-06-08T03:01:15.343141Z",
     "shell.execute_reply": "2024-06-08T03:01:15.341055Z",
     "shell.execute_reply.started": "2024-06-08T03:01:15.265277Z"
    }
   },
   "outputs": [],
   "source": [
    "# Create a DataFrame to hold the features and clusters\n",
    "\n",
    "data_km['label'] = labels\n",
    "data_km['cluster'] = clusters"
   ]
  },
  {
   "cell_type": "code",
   "execution_count": 24,
   "id": "c9e00999-abfb-4a67-92ff-1422ba743d25",
   "metadata": {
    "execution": {
     "iopub.execute_input": "2024-06-08T03:01:18.932918Z",
     "iopub.status.busy": "2024-06-08T03:01:18.932918Z",
     "iopub.status.idle": "2024-06-08T03:01:18.945088Z",
     "shell.execute_reply": "2024-06-08T03:01:18.944044Z",
     "shell.execute_reply.started": "2024-06-08T03:01:18.932918Z"
    }
   },
   "outputs": [],
   "source": [
    "# Function to train Gradient Boosting on a specific cluster\n",
    "def train_gb_on_cluster(cluster_data):\n",
    "    features = cluster_data.drop(['label', 'cluster'], axis=1)\n",
    "    labels = cluster_data['label']\n",
    "    \n",
    "    X_train_cluster, X_test_cluster, y_train_cluster, y_test_cluster = train_test_split(features, labels, test_size=0.2, random_state=42)\n",
    "    \n",
    "    gb_model = GradientBoostingRegressor(n_estimators=100, learning_rate=0.1, max_depth=3, random_state=42)\n",
    "    gb_model.fit(X_train_cluster, y_train_cluster)\n",
    "    \n",
    "    return gb_model"
   ]
  },
  {
   "cell_type": "code",
   "execution_count": 26,
   "id": "0bf8d536-9955-47b6-9ba1-b99f335391a9",
   "metadata": {
    "execution": {
     "iopub.execute_input": "2024-06-08T03:01:21.287365Z",
     "iopub.status.busy": "2024-06-08T03:01:21.286361Z",
     "iopub.status.idle": "2024-06-08T03:34:53.938288Z",
     "shell.execute_reply": "2024-06-08T03:34:53.928288Z",
     "shell.execute_reply.started": "2024-06-08T03:01:21.287365Z"
    }
   },
   "outputs": [],
   "source": [
    "# Train a Gradient Boosting model for each cluster\n",
    "gb_models = {}\n",
    "for cluster in range(3):\n",
    "    cluster_data = data_km[data_km['cluster'] == cluster]\n",
    "    gb_models[cluster] = train_gb_on_cluster(cluster_data)"
   ]
  },
  {
   "cell_type": "code",
   "execution_count": 27,
   "id": "76e2a117-8f6c-4bed-ab4b-3a138a145709",
   "metadata": {
    "execution": {
     "iopub.execute_input": "2024-06-08T03:34:53.959265Z",
     "iopub.status.busy": "2024-06-08T03:34:53.958290Z",
     "iopub.status.idle": "2024-06-08T03:34:54.848423Z",
     "shell.execute_reply": "2024-06-08T03:34:54.846414Z",
     "shell.execute_reply.started": "2024-06-08T03:34:53.959265Z"
    }
   },
   "outputs": [],
   "source": [
    "# Assign each sample in the test set to a cluster\n",
    "test_clusters = kmeans.predict(X_test)"
   ]
  },
  {
   "cell_type": "code",
   "execution_count": 28,
   "id": "d907b9ea-aef9-402b-92dc-3f6133c99290",
   "metadata": {
    "execution": {
     "iopub.execute_input": "2024-06-08T03:34:54.851699Z",
     "iopub.status.busy": "2024-06-08T03:34:54.850427Z",
     "iopub.status.idle": "2024-06-08T03:34:54.861516Z",
     "shell.execute_reply": "2024-06-08T03:34:54.861010Z",
     "shell.execute_reply.started": "2024-06-08T03:34:54.851699Z"
    }
   },
   "outputs": [],
   "source": [
    "# Initialize an array to hold the predictions\n",
    "combined_predictions = np.zeros_like(y_test)"
   ]
  },
  {
   "cell_type": "code",
   "execution_count": 36,
   "id": "89057277-fbec-479c-bc5e-4fc365cad460",
   "metadata": {
    "execution": {
     "iopub.execute_input": "2024-06-08T04:11:09.353852Z",
     "iopub.status.busy": "2024-06-08T04:11:09.353852Z",
     "iopub.status.idle": "2024-06-08T04:11:11.168687Z",
     "shell.execute_reply": "2024-06-08T04:11:11.166676Z",
     "shell.execute_reply.started": "2024-06-08T04:11:09.353852Z"
    }
   },
   "outputs": [
    {
     "name": "stdout",
     "output_type": "stream",
     "text": [
      "Combined Model MSE: 256090.75311850553\n",
      "Combined Model RMSE: 506.0541009798315\n",
      "Combined Model MAE: 246.88698681803825\n",
      "Combined Model R²: 0.9972153082000393\n"
     ]
    }
   ],
   "source": [
    "# Make predictions using the corresponding model for each cluster\n",
    "for cluster in range(3):\n",
    "    cluster_indices = np.where(test_clusters == cluster)[0]\n",
    "    if len(cluster_indices) > 0:\n",
    "        X_cluster = X_test[cluster_indices]  # Use NumPy indexing\n",
    "        model = gb_models[cluster]\n",
    "        combined_predictions[cluster_indices] = model.predict(X_cluster).flatten()\n",
    "\n",
    "# Evaluate the combined performance\n",
    "combined_mse = mean_squared_error(y_test, combined_predictions)\n",
    "combined_rmse = np.sqrt(combined_mse)\n",
    "combined_mae = mean_absolute_error(y_test, combined_predictions)\n",
    "combined_r2 = r2_score(y_test, combined_predictions)\n",
    "\n",
    "print(f'Combined Model MSE: {combined_mse}')\n",
    "print(f'Combined Model RMSE: {combined_rmse}')\n",
    "print(f'Combined Model MAE: {combined_mae}')\n",
    "print(f'Combined Model R²: {combined_r2}')"
   ]
  },
  {
   "cell_type": "code",
   "execution_count": 38,
   "id": "220a9121-02b1-42ec-a66a-0f39e02c550f",
   "metadata": {
    "execution": {
     "iopub.execute_input": "2024-06-08T04:11:13.652490Z",
     "iopub.status.busy": "2024-06-08T04:11:13.652490Z",
     "iopub.status.idle": "2024-06-08T04:11:15.032875Z",
     "shell.execute_reply": "2024-06-08T04:11:15.031321Z",
     "shell.execute_reply.started": "2024-06-08T04:11:13.652490Z"
    }
   },
   "outputs": [
    {
     "name": "stdout",
     "output_type": "stream",
     "text": [
      "Single Model MSE: 382149.6482876455\n",
      "Single Model RMSE: 618.1825363819698\n",
      "Single Model MAE: 336.87116336474554\n",
      "Single Model R²: 0.9958445629957907\n"
     ]
    }
   ],
   "source": [
    "# Evaluate the model\n",
    "predictions = gb_model.predict(X_test)\n",
    "mse = mean_squared_error(y_test, predictions)\n",
    "rmse = np.sqrt(mse)\n",
    "mae = mean_absolute_error(y_test, predictions)\n",
    "r2 = r2_score(y_test, predictions)\n",
    "\n",
    "# Print additional metrics\n",
    "print(f\"Single Model MSE: {mse}\")\n",
    "print(f\"Single Model RMSE: {rmse}\")\n",
    "print(f\"Single Model MAE: {mae}\")\n",
    "print(f\"Single Model R²: {r2}\")"
   ]
  },
  {
   "cell_type": "code",
   "execution_count": 40,
   "id": "2c5951f8-9ccd-4e41-9828-fe7a458e2a29",
   "metadata": {
    "execution": {
     "iopub.execute_input": "2024-06-13T03:41:07.411449Z",
     "iopub.status.busy": "2024-06-13T03:41:07.403449Z",
     "iopub.status.idle": "2024-06-13T03:41:07.677534Z",
     "shell.execute_reply": "2024-06-13T03:41:07.674518Z",
     "shell.execute_reply.started": "2024-06-13T03:41:07.408448Z"
    }
   },
   "outputs": [],
   "source": [
    "#create a dataframe of scores\n",
    "performance_metrics = pd.DataFrame({\n",
    "    'Metric': ['MSE', 'RMSE', 'MAE', 'R²'],\n",
    "    'Single Model': [mse, rmse, mae, r2],\n",
    "    'Combined Model': [combined_mse, combined_rmse, combined_mae, combined_r2]\n",
    "})"
   ]
  },
  {
   "cell_type": "code",
   "execution_count": 47,
   "id": "87b71aa0-af38-4f46-bef4-123c1fcfbc46",
   "metadata": {
    "execution": {
     "iopub.execute_input": "2024-06-13T03:58:10.724481Z",
     "iopub.status.busy": "2024-06-13T03:58:10.724481Z",
     "iopub.status.idle": "2024-06-13T03:58:10.737227Z",
     "shell.execute_reply": "2024-06-13T03:58:10.736218Z",
     "shell.execute_reply.started": "2024-06-13T03:58:10.724481Z"
    }
   },
   "outputs": [],
   "source": [
    "# Export the performance metrics to a CSV file\n",
    "performance_metrics.to_csv('performance_metrics_GB_Original.csv', index=False)"
   ]
  },
  {
   "cell_type": "code",
   "execution_count": 53,
   "id": "bd5348fa-c3ca-441a-ae56-de521c5f7f00",
   "metadata": {
    "execution": {
     "iopub.execute_input": "2024-06-14T15:33:33.426915Z",
     "iopub.status.busy": "2024-06-14T15:33:33.425914Z",
     "iopub.status.idle": "2024-06-14T15:33:33.442707Z",
     "shell.execute_reply": "2024-06-14T15:33:33.441698Z",
     "shell.execute_reply.started": "2024-06-14T15:33:33.426915Z"
    }
   },
   "outputs": [
    {
     "name": "stdout",
     "output_type": "stream",
     "text": [
      "Feature 45: Importance 0.8132166331346921\n",
      "Feature 41: Importance 0.1253191943487625\n",
      "Feature 21: Importance 0.04333602372967905\n",
      "Feature 20: Importance 0.005701787039375886\n",
      "Feature 17: Importance 0.00460045737456232\n"
     ]
    }
   ],
   "source": [
    "# Get feature importances\n",
    "importances = gb_model.feature_importances_\n",
    "\n",
    "# Get the indices that would sort the importances array in descending order\n",
    "sorted_indices = np.argsort(importances)[::-1]\n",
    "\n",
    "# Display top 5 feature importance\n",
    "top_n = 5\n",
    "for i in range(top_n):\n",
    "    print(f\"Feature {sorted_indices[i]}: Importance {importances[sorted_indices[i]]}\")"
   ]
  },
  {
   "cell_type": "code",
   "execution_count": 55,
   "id": "84ad0212-4681-4435-8284-3e330ba12511",
   "metadata": {
    "execution": {
     "iopub.execute_input": "2024-06-14T15:33:37.544040Z",
     "iopub.status.busy": "2024-06-14T15:33:37.544040Z",
     "iopub.status.idle": "2024-06-14T15:33:38.204433Z",
     "shell.execute_reply": "2024-06-14T15:33:38.202397Z",
     "shell.execute_reply.started": "2024-06-14T15:33:37.544040Z"
    }
   },
   "outputs": [
    {
     "data": {
      "image/png": "[encoded data removed]",
      "text/plain": [
       "<Figure size 800x500 with 1 Axes>"
      ]
     },
     "metadata": {},
     "output_type": "display_data"
    }
   ],
   "source": [
    "# Define colors for bars\n",
    "colors = ['blue', 'green', 'red', 'orange', 'purple']\n",
    "\n",
    "# Plot horizontal bar chart of top 5 feature importances with different colors\n",
    "top_n = 5\n",
    "plt.figure(figsize=(8, 5))\n",
    "plt.barh(range(top_n), importances[sorted_indices][:top_n], align='center', color=colors)\n",
    "plt.yticks(range(top_n), sorted_indices[:top_n])\n",
    "plt.xlabel('Importance')\n",
    "plt.ylabel('Feature Index')\n",
    "plt.title('Top 5 Feature Importances')\n",
    "plt.show()"
   ]
  },
  {
   "cell_type": "code",
   "execution_count": 57,
   "id": "acaf3775-745c-4d1d-85fe-374b93c13dc6",
   "metadata": {
    "execution": {
     "iopub.execute_input": "2024-06-14T15:33:51.218372Z",
     "iopub.status.busy": "2024-06-14T15:33:51.218372Z",
     "iopub.status.idle": "2024-06-14T15:33:51.227227Z",
     "shell.execute_reply": "2024-06-14T15:33:51.226192Z",
     "shell.execute_reply.started": "2024-06-14T15:33:51.218372Z"
    }
   },
   "outputs": [
    {
     "name": "stdout",
     "output_type": "stream",
     "text": [
      "Feature 45: Importance 0.9306559460088338\n",
      "Feature 21: Importance 0.018755964778043734\n",
      "Feature 17: Importance 0.016497637182545183\n",
      "Feature 20: Importance 0.00863100741630175\n",
      "Feature 33: Importance 0.007872989542192043\n"
     ]
    }
   ],
   "source": [
    "# Get feature importances\n",
    "importances = model.feature_importances_\n",
    "\n",
    "# Get the indices that would sort the importances array in descending order\n",
    "sorted_indices = np.argsort(importances)[::-1]\n",
    "\n",
    "# Display top 5 feature importance\n",
    "top_n = 5\n",
    "for i in range(top_n):\n",
    "    print(f\"Feature {sorted_indices[i]}: Importance {importances[sorted_indices[i]]}\")"
   ]
  },
  {
   "cell_type": "code",
   "execution_count": 59,
   "id": "3e1757bf-b024-4dc6-9821-b05b072e8c96",
   "metadata": {
    "execution": {
     "iopub.execute_input": "2024-06-14T15:33:55.292068Z",
     "iopub.status.busy": "2024-06-14T15:33:55.292068Z",
     "iopub.status.idle": "2024-06-14T15:33:55.424813Z",
     "shell.execute_reply": "2024-06-14T15:33:55.423799Z",
     "shell.execute_reply.started": "2024-06-14T15:33:55.292068Z"
    }
   },
   "outputs": [
    {
     "data": {
      "image/png": "[encoded data removed]",
      "text/plain": [
       "<Figure size 800x500 with 1 Axes>"
      ]
     },
     "metadata": {},
     "output_type": "display_data"
    }
   ],
   "source": [
    "# Define colors for bars\n",
    "colors = ['blue', 'green', 'red', 'orange', 'purple']\n",
    "\n",
    "# Plot horizontal bar chart of top 5 feature importances with different colors\n",
    "top_n = 5\n",
    "plt.figure(figsize=(8, 5))\n",
    "plt.barh(range(top_n), importances[sorted_indices][:top_n], align='center', color=colors)\n",
    "plt.yticks(range(top_n), sorted_indices[:top_n])\n",
    "plt.xlabel('Importance')\n",
    "plt.ylabel('Feature Index')\n",
    "plt.title('Top 5 Feature Importances')\n",
    "plt.show()"
   ]
  }
 ],
 "metadata": {
  "kernelspec": {
   "display_name": "Python 3 (ipykernel)",
   "language": "python",
   "name": "python3"
  },
  "language_info": {
   "codemirror_mode": {
    "name": "ipython",
    "version": 3
   },
   "file_extension": ".py",
   "mimetype": "text/x-python",
   "name": "python",
   "nbconvert_exporter": "python",
   "pygments_lexer": "ipython3",
   "version": "3.11.7"
  }
 },
 "nbformat": 4,
 "nbformat_minor": 5
}
