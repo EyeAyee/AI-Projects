{
 "cells": [
  {
   "cell_type": "code",
   "execution_count": 1,
   "id": "2e5ebc34-9c8f-4bed-a6fb-b3adc9b17206",
   "metadata": {
    "execution": {
     "iopub.execute_input": "2024-06-07T18:19:30.189250Z",
     "iopub.status.busy": "2024-06-07T18:19:30.189250Z",
     "iopub.status.idle": "2024-06-07T18:19:31.597782Z",
     "shell.execute_reply": "2024-06-07T18:19:31.597782Z",
     "shell.execute_reply.started": "2024-06-07T18:19:30.189250Z"
    },
    "tags": []
   },
   "outputs": [],
   "source": [
    "# Import necessary libraries\n",
    "import pandas as pd\n",
    "from sklearn.model_selection import train_test_split\n",
    "from sklearn.linear_model import LogisticRegression\n",
    "\n",
    "from sklearn.ensemble import RandomForestClassifier\n",
    "from sklearn.svm import SVC\n",
    "from sklearn.metrics import confusion_matrix, accuracy_score, precision_score, recall_score, f1_score"
   ]
  },
  {
   "cell_type": "code",
   "execution_count": 2,
   "id": "f8a883a0-f94a-400d-b292-cf919a9253f5",
   "metadata": {
    "execution": {
     "iopub.execute_input": "2024-06-07T18:19:31.598814Z",
     "iopub.status.busy": "2024-06-07T18:19:31.598814Z",
     "iopub.status.idle": "2024-06-07T18:19:37.590896Z",
     "shell.execute_reply": "2024-06-07T18:19:37.590896Z",
     "shell.execute_reply.started": "2024-06-07T18:19:31.598814Z"
    },
    "tags": []
   },
   "outputs": [],
   "source": [
    "# Load dataset\n",
    "data = pd.read_csv('C:/Users/Imran/OneDrive - Ontario Tech University/Documents/Capstone/0.5_test_GA.csv')"
   ]
  },
  {
   "cell_type": "code",
   "execution_count": 3,
   "id": "db6ee264-66f6-43a7-aae2-3fa5bd4f5b27",
   "metadata": {
    "execution": {
     "iopub.execute_input": "2024-06-07T18:19:37.592029Z",
     "iopub.status.busy": "2024-06-07T18:19:37.592029Z",
     "iopub.status.idle": "2024-06-07T18:19:38.506561Z",
     "shell.execute_reply": "2024-06-07T18:19:38.506561Z",
     "shell.execute_reply.started": "2024-06-07T18:19:37.592029Z"
    },
    "tags": []
   },
   "outputs": [],
   "source": [
    "# Import necessary libraries\n",
    "import warnings\n",
    "warnings.filterwarnings('ignore')\n",
    "import numpy as np\n",
    "import seaborn as sns\n",
    "import matplotlib.pyplot as plt\n",
    "from sklearn.cluster import KMeans\n",
    "from sklearn.preprocessing import StandardScaler\n"
   ]
  },
  {
   "cell_type": "code",
   "execution_count": 4,
   "id": "1f97fa17-a611-4bcc-8e41-ccf66ec634a9",
   "metadata": {
    "execution": {
     "iopub.execute_input": "2024-06-07T18:19:38.508577Z",
     "iopub.status.busy": "2024-06-07T18:19:38.508577Z",
     "iopub.status.idle": "2024-06-07T18:19:38.513240Z",
     "shell.execute_reply": "2024-06-07T18:19:38.513240Z",
     "shell.execute_reply.started": "2024-06-07T18:19:38.508577Z"
    },
    "tags": []
   },
   "outputs": [],
   "source": [
    "from sklearn.ensemble import GradientBoostingRegressor\n",
    "from sklearn.metrics import mean_squared_error, mean_absolute_error, r2_score\n",
    "\n"
   ]
  },
  {
   "cell_type": "code",
   "execution_count": 5,
   "id": "5e1ff145-8159-4381-bfb2-3a9888ae9998",
   "metadata": {
    "execution": {
     "iopub.execute_input": "2024-06-07T18:19:38.514555Z",
     "iopub.status.busy": "2024-06-07T18:19:38.514555Z",
     "iopub.status.idle": "2024-06-07T18:19:38.625158Z",
     "shell.execute_reply": "2024-06-07T18:19:38.623694Z",
     "shell.execute_reply.started": "2024-06-07T18:19:38.514555Z"
    },
    "tags": []
   },
   "outputs": [],
   "source": [
    "#transform data into target variable and features\n",
    "labels = data['target']\n",
    "features_scaled = data.drop(['target'], axis=1, errors='ignore')"
   ]
  },
  {
   "cell_type": "markdown",
   "id": "2de0cd6b-049a-471d-9339-be35893d9710",
   "metadata": {},
   "source": [
    "### Creating the individual model"
   ]
  },
  {
   "cell_type": "code",
   "execution_count": 6,
   "id": "0d6a5424-1a42-4d22-ad71-c6bd2d1f67b3",
   "metadata": {
    "execution": {
     "iopub.execute_input": "2024-06-07T18:19:38.626174Z",
     "iopub.status.busy": "2024-06-07T18:19:38.626174Z",
     "iopub.status.idle": "2024-06-07T18:19:39.560957Z",
     "shell.execute_reply": "2024-06-07T18:19:39.559920Z",
     "shell.execute_reply.started": "2024-06-07T18:19:38.626174Z"
    },
    "tags": []
   },
   "outputs": [],
   "source": [
    "# Split the data into training and testing sets\n",
    "X_train, X_test, y_train, y_test = train_test_split(features_scaled, labels, test_size=0.2, random_state=42)"
   ]
  },
  {
   "cell_type": "code",
   "execution_count": 7,
   "id": "5d2cdb95-1c25-4c70-8f95-912781cbcd13",
   "metadata": {
    "execution": {
     "iopub.execute_input": "2024-06-07T18:19:39.562030Z",
     "iopub.status.busy": "2024-06-07T18:19:39.562030Z",
     "iopub.status.idle": "2024-06-07T18:28:21.325967Z",
     "shell.execute_reply": "2024-06-07T18:28:21.325967Z",
     "shell.execute_reply.started": "2024-06-07T18:19:39.562030Z"
    },
    "tags": []
   },
   "outputs": [
    {
     "data": {
      "text/html": [
       "<style>#sk-container-id-1 {\n",
       "  /* Definition of color scheme common for light and dark mode */\n",
       "  --sklearn-color-text: black;\n",
       "  --sklearn-color-line: gray;\n",
       "  /* Definition of color scheme for unfitted estimators */\n",
       "  --sklearn-color-unfitted-level-0: #fff5e6;\n",
       "  --sklearn-color-unfitted-level-1: #f6e4d2;\n",
       "  --sklearn-color-unfitted-level-2: #ffe0b3;\n",
       "  --sklearn-color-unfitted-level-3: chocolate;\n",
       "  /* Definition of color scheme for fitted estimators */\n",
       "  --sklearn-color-fitted-level-0: #f0f8ff;\n",
       "  --sklearn-color-fitted-level-1: #d4ebff;\n",
       "  --sklearn-color-fitted-level-2: #b3dbfd;\n",
       "  --sklearn-color-fitted-level-3: cornflowerblue;\n",
       "\n",
       "  /* Specific color for light theme */\n",
       "  --sklearn-color-text-on-default-background: var(--sg-text-color, var(--theme-code-foreground, var(--jp-content-font-color1, black)));\n",
       "  --sklearn-color-background: var(--sg-background-color, var(--theme-background, var(--jp-layout-color0, white)));\n",
       "  --sklearn-color-border-box: var(--sg-text-color, var(--theme-code-foreground, var(--jp-content-font-color1, black)));\n",
       "  --sklearn-color-icon: #696969;\n",
       "\n",
       "  @media (prefers-color-scheme: dark) {\n",
       "    /* Redefinition of color scheme for dark theme */\n",
       "    --sklearn-color-text-on-default-background: var(--sg-text-color, var(--theme-code-foreground, var(--jp-content-font-color1, white)));\n",
       "    --sklearn-color-background: var(--sg-background-color, var(--theme-background, var(--jp-layout-color0, #111)));\n",
       "    --sklearn-color-border-box: var(--sg-text-color, var(--theme-code-foreground, var(--jp-content-font-color1, white)));\n",
       "    --sklearn-color-icon: #878787;\n",
       "  }\n",
       "}\n",
       "\n",
       "#sk-container-id-1 {\n",
       "  color: var(--sklearn-color-text);\n",
       "}\n",
       "\n",
       "#sk-container-id-1 pre {\n",
       "  padding: 0;\n",
       "}\n",
       "\n",
       "#sk-container-id-1 input.sk-hidden--visually {\n",
       "  border: 0;\n",
       "  clip: rect(1px 1px 1px 1px);\n",
       "  clip: rect(1px, 1px, 1px, 1px);\n",
       "  height: 1px;\n",
       "  margin: -1px;\n",
       "  overflow: hidden;\n",
       "  padding: 0;\n",
       "  position: absolute;\n",
       "  width: 1px;\n",
       "}\n",
       "\n",
       "#sk-container-id-1 div.sk-dashed-wrapped {\n",
       "  border: 1px dashed var(--sklearn-color-line);\n",
       "  margin: 0 0.4em 0.5em 0.4em;\n",
       "  box-sizing: border-box;\n",
       "  padding-bottom: 0.4em;\n",
       "  background-color: var(--sklearn-color-background);\n",
       "}\n",
       "\n",
       "#sk-container-id-1 div.sk-container {\n",
       "  /* jupyter's `normalize.less` sets `[hidden] { display: none; }`\n",
       "     but bootstrap.min.css set `[hidden] { display: none !important; }`\n",
       "     so we also need the `!important` here to be able to override the\n",
       "     default hidden behavior on the sphinx rendered scikit-learn.org.\n",
       "     See: https://github.com/scikit-learn/scikit-learn/issues/21755 */\n",
       "  display: inline-block !important;\n",
       "  position: relative;\n",
       "}\n",
       "\n",
       "#sk-container-id-1 div.sk-text-repr-fallback {\n",
       "  display: none;\n",
       "}\n",
       "\n",
       "div.sk-parallel-item,\n",
       "div.sk-serial,\n",
       "div.sk-item {\n",
       "  /* draw centered vertical line to link estimators */\n",
       "  background-image: linear-gradient(var(--sklearn-color-text-on-default-background), var(--sklearn-color-text-on-default-background));\n",
       "  background-size: 2px 100%;\n",
       "  background-repeat: no-repeat;\n",
       "  background-position: center center;\n",
       "}\n",
       "\n",
       "/* Parallel-specific style estimator block */\n",
       "\n",
       "#sk-container-id-1 div.sk-parallel-item::after {\n",
       "  content: \"\";\n",
       "  width: 100%;\n",
       "  border-bottom: 2px solid var(--sklearn-color-text-on-default-background);\n",
       "  flex-grow: 1;\n",
       "}\n",
       "\n",
       "#sk-container-id-1 div.sk-parallel {\n",
       "  display: flex;\n",
       "  align-items: stretch;\n",
       "  justify-content: center;\n",
       "  background-color: var(--sklearn-color-background);\n",
       "  position: relative;\n",
       "}\n",
       "\n",
       "#sk-container-id-1 div.sk-parallel-item {\n",
       "  display: flex;\n",
       "  flex-direction: column;\n",
       "}\n",
       "\n",
       "#sk-container-id-1 div.sk-parallel-item:first-child::after {\n",
       "  align-self: flex-end;\n",
       "  width: 50%;\n",
       "}\n",
       "\n",
       "#sk-container-id-1 div.sk-parallel-item:last-child::after {\n",
       "  align-self: flex-start;\n",
       "  width: 50%;\n",
       "}\n",
       "\n",
       "#sk-container-id-1 div.sk-parallel-item:only-child::after {\n",
       "  width: 0;\n",
       "}\n",
       "\n",
       "/* Serial-specific style estimator block */\n",
       "\n",
       "#sk-container-id-1 div.sk-serial {\n",
       "  display: flex;\n",
       "  flex-direction: column;\n",
       "  align-items: center;\n",
       "  background-color: var(--sklearn-color-background);\n",
       "  padding-right: 1em;\n",
       "  padding-left: 1em;\n",
       "}\n",
       "\n",
       "\n",
       "/* Toggleable style: style used for estimator/Pipeline/ColumnTransformer box that is\n",
       "clickable and can be expanded/collapsed.\n",
       "- Pipeline and ColumnTransformer use this feature and define the default style\n",
       "- Estimators will overwrite some part of the style using the `sk-estimator` class\n",
       "*/\n",
       "\n",
       "/* Pipeline and ColumnTransformer style (default) */\n",
       "\n",
       "#sk-container-id-1 div.sk-toggleable {\n",
       "  /* Default theme specific background. It is overwritten whether we have a\n",
       "  specific estimator or a Pipeline/ColumnTransformer */\n",
       "  background-color: var(--sklearn-color-background);\n",
       "}\n",
       "\n",
       "/* Toggleable label */\n",
       "#sk-container-id-1 label.sk-toggleable__label {\n",
       "  cursor: pointer;\n",
       "  display: block;\n",
       "  width: 100%;\n",
       "  margin-bottom: 0;\n",
       "  padding: 0.5em;\n",
       "  box-sizing: border-box;\n",
       "  text-align: center;\n",
       "}\n",
       "\n",
       "#sk-container-id-1 label.sk-toggleable__label-arrow:before {\n",
       "  /* Arrow on the left of the label */\n",
       "  content: \"▸\";\n",
       "  float: left;\n",
       "  margin-right: 0.25em;\n",
       "  color: var(--sklearn-color-icon);\n",
       "}\n",
       "\n",
       "#sk-container-id-1 label.sk-toggleable__label-arrow:hover:before {\n",
       "  color: var(--sklearn-color-text);\n",
       "}\n",
       "\n",
       "/* Toggleable content - dropdown */\n",
       "\n",
       "#sk-container-id-1 div.sk-toggleable__content {\n",
       "  max-height: 0;\n",
       "  max-width: 0;\n",
       "  overflow: hidden;\n",
       "  text-align: left;\n",
       "  /* unfitted */\n",
       "  background-color: var(--sklearn-color-unfitted-level-0);\n",
       "}\n",
       "\n",
       "#sk-container-id-1 div.sk-toggleable__content.fitted {\n",
       "  /* fitted */\n",
       "  background-color: var(--sklearn-color-fitted-level-0);\n",
       "}\n",
       "\n",
       "#sk-container-id-1 div.sk-toggleable__content pre {\n",
       "  margin: 0.2em;\n",
       "  border-radius: 0.25em;\n",
       "  color: var(--sklearn-color-text);\n",
       "  /* unfitted */\n",
       "  background-color: var(--sklearn-color-unfitted-level-0);\n",
       "}\n",
       "\n",
       "#sk-container-id-1 div.sk-toggleable__content.fitted pre {\n",
       "  /* unfitted */\n",
       "  background-color: var(--sklearn-color-fitted-level-0);\n",
       "}\n",
       "\n",
       "#sk-container-id-1 input.sk-toggleable__control:checked~div.sk-toggleable__content {\n",
       "  /* Expand drop-down */\n",
       "  max-height: 200px;\n",
       "  max-width: 100%;\n",
       "  overflow: auto;\n",
       "}\n",
       "\n",
       "#sk-container-id-1 input.sk-toggleable__control:checked~label.sk-toggleable__label-arrow:before {\n",
       "  content: \"▾\";\n",
       "}\n",
       "\n",
       "/* Pipeline/ColumnTransformer-specific style */\n",
       "\n",
       "#sk-container-id-1 div.sk-label input.sk-toggleable__control:checked~label.sk-toggleable__label {\n",
       "  color: var(--sklearn-color-text);\n",
       "  background-color: var(--sklearn-color-unfitted-level-2);\n",
       "}\n",
       "\n",
       "#sk-container-id-1 div.sk-label.fitted input.sk-toggleable__control:checked~label.sk-toggleable__label {\n",
       "  background-color: var(--sklearn-color-fitted-level-2);\n",
       "}\n",
       "\n",
       "/* Estimator-specific style */\n",
       "\n",
       "/* Colorize estimator box */\n",
       "#sk-container-id-1 div.sk-estimator input.sk-toggleable__control:checked~label.sk-toggleable__label {\n",
       "  /* unfitted */\n",
       "  background-color: var(--sklearn-color-unfitted-level-2);\n",
       "}\n",
       "\n",
       "#sk-container-id-1 div.sk-estimator.fitted input.sk-toggleable__control:checked~label.sk-toggleable__label {\n",
       "  /* fitted */\n",
       "  background-color: var(--sklearn-color-fitted-level-2);\n",
       "}\n",
       "\n",
       "#sk-container-id-1 div.sk-label label.sk-toggleable__label,\n",
       "#sk-container-id-1 div.sk-label label {\n",
       "  /* The background is the default theme color */\n",
       "  color: var(--sklearn-color-text-on-default-background);\n",
       "}\n",
       "\n",
       "/* On hover, darken the color of the background */\n",
       "#sk-container-id-1 div.sk-label:hover label.sk-toggleable__label {\n",
       "  color: var(--sklearn-color-text);\n",
       "  background-color: var(--sklearn-color-unfitted-level-2);\n",
       "}\n",
       "\n",
       "/* Label box, darken color on hover, fitted */\n",
       "#sk-container-id-1 div.sk-label.fitted:hover label.sk-toggleable__label.fitted {\n",
       "  color: var(--sklearn-color-text);\n",
       "  background-color: var(--sklearn-color-fitted-level-2);\n",
       "}\n",
       "\n",
       "/* Estimator label */\n",
       "\n",
       "#sk-container-id-1 div.sk-label label {\n",
       "  font-family: monospace;\n",
       "  font-weight: bold;\n",
       "  display: inline-block;\n",
       "  line-height: 1.2em;\n",
       "}\n",
       "\n",
       "#sk-container-id-1 div.sk-label-container {\n",
       "  text-align: center;\n",
       "}\n",
       "\n",
       "/* Estimator-specific */\n",
       "#sk-container-id-1 div.sk-estimator {\n",
       "  font-family: monospace;\n",
       "  border: 1px dotted var(--sklearn-color-border-box);\n",
       "  border-radius: 0.25em;\n",
       "  box-sizing: border-box;\n",
       "  margin-bottom: 0.5em;\n",
       "  /* unfitted */\n",
       "  background-color: var(--sklearn-color-unfitted-level-0);\n",
       "}\n",
       "\n",
       "#sk-container-id-1 div.sk-estimator.fitted {\n",
       "  /* fitted */\n",
       "  background-color: var(--sklearn-color-fitted-level-0);\n",
       "}\n",
       "\n",
       "/* on hover */\n",
       "#sk-container-id-1 div.sk-estimator:hover {\n",
       "  /* unfitted */\n",
       "  background-color: var(--sklearn-color-unfitted-level-2);\n",
       "}\n",
       "\n",
       "#sk-container-id-1 div.sk-estimator.fitted:hover {\n",
       "  /* fitted */\n",
       "  background-color: var(--sklearn-color-fitted-level-2);\n",
       "}\n",
       "\n",
       "/* Specification for estimator info (e.g. \"i\" and \"?\") */\n",
       "\n",
       "/* Common style for \"i\" and \"?\" */\n",
       "\n",
       ".sk-estimator-doc-link,\n",
       "a:link.sk-estimator-doc-link,\n",
       "a:visited.sk-estimator-doc-link {\n",
       "  float: right;\n",
       "  font-size: smaller;\n",
       "  line-height: 1em;\n",
       "  font-family: monospace;\n",
       "  background-color: var(--sklearn-color-background);\n",
       "  border-radius: 1em;\n",
       "  height: 1em;\n",
       "  width: 1em;\n",
       "  text-decoration: none !important;\n",
       "  margin-left: 1ex;\n",
       "  /* unfitted */\n",
       "  border: var(--sklearn-color-unfitted-level-1) 1pt solid;\n",
       "  color: var(--sklearn-color-unfitted-level-1);\n",
       "}\n",
       "\n",
       ".sk-estimator-doc-link.fitted,\n",
       "a:link.sk-estimator-doc-link.fitted,\n",
       "a:visited.sk-estimator-doc-link.fitted {\n",
       "  /* fitted */\n",
       "  border: var(--sklearn-color-fitted-level-1) 1pt solid;\n",
       "  color: var(--sklearn-color-fitted-level-1);\n",
       "}\n",
       "\n",
       "/* On hover */\n",
       "div.sk-estimator:hover .sk-estimator-doc-link:hover,\n",
       ".sk-estimator-doc-link:hover,\n",
       "div.sk-label-container:hover .sk-estimator-doc-link:hover,\n",
       ".sk-estimator-doc-link:hover {\n",
       "  /* unfitted */\n",
       "  background-color: var(--sklearn-color-unfitted-level-3);\n",
       "  color: var(--sklearn-color-background);\n",
       "  text-decoration: none;\n",
       "}\n",
       "\n",
       "div.sk-estimator.fitted:hover .sk-estimator-doc-link.fitted:hover,\n",
       ".sk-estimator-doc-link.fitted:hover,\n",
       "div.sk-label-container:hover .sk-estimator-doc-link.fitted:hover,\n",
       ".sk-estimator-doc-link.fitted:hover {\n",
       "  /* fitted */\n",
       "  background-color: var(--sklearn-color-fitted-level-3);\n",
       "  color: var(--sklearn-color-background);\n",
       "  text-decoration: none;\n",
       "}\n",
       "\n",
       "/* Span, style for the box shown on hovering the info icon */\n",
       ".sk-estimator-doc-link span {\n",
       "  display: none;\n",
       "  z-index: 9999;\n",
       "  position: relative;\n",
       "  font-weight: normal;\n",
       "  right: .2ex;\n",
       "  padding: .5ex;\n",
       "  margin: .5ex;\n",
       "  width: min-content;\n",
       "  min-width: 20ex;\n",
       "  max-width: 50ex;\n",
       "  color: var(--sklearn-color-text);\n",
       "  box-shadow: 2pt 2pt 4pt #999;\n",
       "  /* unfitted */\n",
       "  background: var(--sklearn-color-unfitted-level-0);\n",
       "  border: .5pt solid var(--sklearn-color-unfitted-level-3);\n",
       "}\n",
       "\n",
       ".sk-estimator-doc-link.fitted span {\n",
       "  /* fitted */\n",
       "  background: var(--sklearn-color-fitted-level-0);\n",
       "  border: var(--sklearn-color-fitted-level-3);\n",
       "}\n",
       "\n",
       ".sk-estimator-doc-link:hover span {\n",
       "  display: block;\n",
       "}\n",
       "\n",
       "/* \"?\"-specific style due to the `<a>` HTML tag */\n",
       "\n",
       "#sk-container-id-1 a.estimator_doc_link {\n",
       "  float: right;\n",
       "  font-size: 1rem;\n",
       "  line-height: 1em;\n",
       "  font-family: monospace;\n",
       "  background-color: var(--sklearn-color-background);\n",
       "  border-radius: 1rem;\n",
       "  height: 1rem;\n",
       "  width: 1rem;\n",
       "  text-decoration: none;\n",
       "  /* unfitted */\n",
       "  color: var(--sklearn-color-unfitted-level-1);\n",
       "  border: var(--sklearn-color-unfitted-level-1) 1pt solid;\n",
       "}\n",
       "\n",
       "#sk-container-id-1 a.estimator_doc_link.fitted {\n",
       "  /* fitted */\n",
       "  border: var(--sklearn-color-fitted-level-1) 1pt solid;\n",
       "  color: var(--sklearn-color-fitted-level-1);\n",
       "}\n",
       "\n",
       "/* On hover */\n",
       "#sk-container-id-1 a.estimator_doc_link:hover {\n",
       "  /* unfitted */\n",
       "  background-color: var(--sklearn-color-unfitted-level-3);\n",
       "  color: var(--sklearn-color-background);\n",
       "  text-decoration: none;\n",
       "}\n",
       "\n",
       "#sk-container-id-1 a.estimator_doc_link.fitted:hover {\n",
       "  /* fitted */\n",
       "  background-color: var(--sklearn-color-fitted-level-3);\n",
       "}\n",
       "</style><div id=\"sk-container-id-1\" class=\"sk-top-container\"><div class=\"sk-text-repr-fallback\"><pre>GradientBoostingRegressor(random_state=42)</pre><b>In a Jupyter environment, please rerun this cell to show the HTML representation or trust the notebook. <br />On GitHub, the HTML representation is unable to render, please try loading this page with nbviewer.org.</b></div><div class=\"sk-container\" hidden><div class=\"sk-item\"><div class=\"sk-estimator fitted sk-toggleable\"><input class=\"sk-toggleable__control sk-hidden--visually\" id=\"sk-estimator-id-1\" type=\"checkbox\" checked><label for=\"sk-estimator-id-1\" class=\"sk-toggleable__label fitted sk-toggleable__label-arrow fitted\">&nbsp;&nbsp;GradientBoostingRegressor<a class=\"sk-estimator-doc-link fitted\" rel=\"noreferrer\" target=\"_blank\" href=\"https://scikit-learn.org/1.5/modules/generated/sklearn.ensemble.GradientBoostingRegressor.html\">?<span>Documentation for GradientBoostingRegressor</span></a><span class=\"sk-estimator-doc-link fitted\">i<span>Fitted</span></span></label><div class=\"sk-toggleable__content fitted\"><pre>GradientBoostingRegressor(random_state=42)</pre></div> </div></div></div></div>"
      ],
      "text/plain": [
       "GradientBoostingRegressor(random_state=42)"
      ]
     },
     "execution_count": 7,
     "metadata": {},
     "output_type": "execute_result"
    }
   ],
   "source": [
    "# Define and train the Gradient Boosting model\n",
    "gb_model = GradientBoostingRegressor(n_estimators=100, learning_rate=0.1, max_depth=3, random_state=42)\n",
    "gb_model.fit(X_train, y_train)"
   ]
  },
  {
   "cell_type": "code",
   "execution_count": 8,
   "id": "9e517257-a5af-429f-8f6d-da1b6fcef638",
   "metadata": {
    "execution": {
     "iopub.execute_input": "2024-06-07T18:28:21.328979Z",
     "iopub.status.busy": "2024-06-07T18:28:21.328439Z",
     "iopub.status.idle": "2024-06-07T18:28:21.975561Z",
     "shell.execute_reply": "2024-06-07T18:28:21.974546Z",
     "shell.execute_reply.started": "2024-06-07T18:28:21.328979Z"
    },
    "tags": []
   },
   "outputs": [
    {
     "name": "stdout",
     "output_type": "stream",
     "text": [
      "Test MSE: 754217.8145330388\n",
      "Test RMSE: 868.4571460544491\n",
      "Test MAE: 507.1991816337282\n",
      "Test R²: 0.9917987504900556\n"
     ]
    }
   ],
   "source": [
    "# Evaluate the model\n",
    "predictions = gb_model.predict(X_test)\n",
    "mse = mean_squared_error(y_test, predictions)\n",
    "rmse = np.sqrt(mse)\n",
    "mae = mean_absolute_error(y_test, predictions)\n",
    "r2 = r2_score(y_test, predictions)\n",
    "\n",
    "print(f\"Test MSE: {mse}\")\n",
    "print(f\"Test RMSE: {rmse}\")\n",
    "print(f\"Test MAE: {mae}\")\n",
    "print(f\"Test R²: {r2}\")\n"
   ]
  },
  {
   "cell_type": "code",
   "execution_count": 9,
   "id": "4057b2e9-24d8-49ea-90fc-476469905e08",
   "metadata": {
    "execution": {
     "iopub.execute_input": "2024-06-07T18:28:21.976929Z",
     "iopub.status.busy": "2024-06-07T18:28:21.976929Z",
     "iopub.status.idle": "2024-06-07T18:28:21.983785Z",
     "shell.execute_reply": "2024-06-07T18:28:21.982712Z",
     "shell.execute_reply.started": "2024-06-07T18:28:21.976929Z"
    },
    "tags": []
   },
   "outputs": [
    {
     "name": "stdout",
     "output_type": "stream",
     "text": [
      "First 5 predictions: [5634.77246309 4227.85603605 8382.03172367 2664.14410399 5582.69129256]\n",
      "First 5 actual values: 187826     5634.500\n",
      "934322     4216.800\n",
      "182019     8965.312\n",
      "1291636    2674.820\n",
      "254180     5701.320\n",
      "Name: target, dtype: float64\n"
     ]
    }
   ],
   "source": [
    "# Display the first 5 predictions\n",
    "print(\"First 5 predictions:\", predictions[:5])\n",
    "print(\"First 5 actual values:\", y_test[:5])"
   ]
  },
  {
   "cell_type": "markdown",
   "id": "93316134-d9c8-436c-b77e-1583409e3009",
   "metadata": {},
   "source": [
    "### Creating the hybrid model"
   ]
  },
  {
   "cell_type": "code",
   "execution_count": 10,
   "id": "870b13e8-5634-4998-b53a-ce875f9d20dd",
   "metadata": {
    "execution": {
     "iopub.execute_input": "2024-06-07T18:28:21.985723Z",
     "iopub.status.busy": "2024-06-07T18:28:21.984721Z",
     "iopub.status.idle": "2024-06-07T18:28:23.473478Z",
     "shell.execute_reply": "2024-06-07T18:28:23.472443Z",
     "shell.execute_reply.started": "2024-06-07T18:28:21.985723Z"
    },
    "tags": []
   },
   "outputs": [],
   "source": [
    "# Perform K-means clustering\n",
    "kmeans = KMeans(n_clusters=3, random_state=42)\n",
    "clusters = kmeans.fit_predict(features_scaled)"
   ]
  },
  {
   "cell_type": "code",
   "execution_count": 11,
   "id": "b4114a5d-f372-41cc-a759-d6253b360ebe",
   "metadata": {
    "execution": {
     "iopub.execute_input": "2024-06-07T18:28:23.474477Z",
     "iopub.status.busy": "2024-06-07T18:28:23.474477Z",
     "iopub.status.idle": "2024-06-07T18:28:23.487517Z",
     "shell.execute_reply": "2024-06-07T18:28:23.486508Z",
     "shell.execute_reply.started": "2024-06-07T18:28:23.474477Z"
    },
    "tags": []
   },
   "outputs": [],
   "source": [
    "# Create a DataFrame to hold the features and clusters\n",
    "data_km = features_scaled\n",
    "data_km['label'] = labels\n",
    "data_km['cluster'] = clusters"
   ]
  },
  {
   "cell_type": "code",
   "execution_count": 13,
   "id": "1d750a9e-499a-4263-8abb-47b970f9676e",
   "metadata": {
    "execution": {
     "iopub.execute_input": "2024-06-07T18:28:23.952692Z",
     "iopub.status.busy": "2024-06-07T18:28:23.952692Z",
     "iopub.status.idle": "2024-06-07T18:28:23.959861Z",
     "shell.execute_reply": "2024-06-07T18:28:23.958182Z",
     "shell.execute_reply.started": "2024-06-07T18:28:23.952692Z"
    },
    "tags": []
   },
   "outputs": [],
   "source": [
    "# Function to train Gradient Boosting on a specific cluster\n",
    "def train_gb_on_cluster(cluster_data):\n",
    "    features = cluster_data.drop(['label', 'cluster'], axis=1)\n",
    "    labels = cluster_data['label']\n",
    "    \n",
    "    X_train_cluster, X_test_cluster, y_train_cluster, y_test_cluster = train_test_split(features, labels, test_size=0.2, random_state=42)\n",
    "    \n",
    "    gb_model = GradientBoostingRegressor(n_estimators=100, learning_rate=0.1, max_depth=3, random_state=42)\n",
    "    gb_model.fit(X_train_cluster, y_train_cluster)\n",
    "    \n",
    "    return gb_model"
   ]
  },
  {
   "cell_type": "code",
   "execution_count": 14,
   "id": "b3e7c238-fbd2-4312-b20d-11075f25fdbd",
   "metadata": {
    "execution": {
     "iopub.execute_input": "2024-06-07T18:28:23.961869Z",
     "iopub.status.busy": "2024-06-07T18:28:23.960871Z",
     "iopub.status.idle": "2024-06-07T18:36:46.015306Z",
     "shell.execute_reply": "2024-06-07T18:36:46.014275Z",
     "shell.execute_reply.started": "2024-06-07T18:28:23.961869Z"
    },
    "tags": []
   },
   "outputs": [],
   "source": [
    "# Training a Gradient Boosting model for each cluster\n",
    "gb_models = {}\n",
    "for cluster in range(3):\n",
    "    cluster_data = data_km[data_km['cluster'] == cluster]\n",
    "    gb_models[cluster] = train_gb_on_cluster(cluster_data)"
   ]
  },
  {
   "cell_type": "code",
   "execution_count": 15,
   "id": "e354ff19-798b-4246-b870-90c2c667d576",
   "metadata": {
    "execution": {
     "iopub.execute_input": "2024-06-07T18:36:46.017292Z",
     "iopub.status.busy": "2024-06-07T18:36:46.017292Z",
     "iopub.status.idle": "2024-06-07T18:36:46.077803Z",
     "shell.execute_reply": "2024-06-07T18:36:46.076796Z",
     "shell.execute_reply.started": "2024-06-07T18:36:46.017292Z"
    },
    "tags": []
   },
   "outputs": [],
   "source": [
    "# Assign each sample in the test set to a cluster\n",
    "test_clusters = kmeans.predict(X_test)"
   ]
  },
  {
   "cell_type": "code",
   "execution_count": 16,
   "id": "5f378743-52b9-44ba-8bff-6dd63303fe39",
   "metadata": {
    "execution": {
     "iopub.execute_input": "2024-06-07T18:36:46.079805Z",
     "iopub.status.busy": "2024-06-07T18:36:46.079805Z",
     "iopub.status.idle": "2024-06-07T18:36:46.087316Z",
     "shell.execute_reply": "2024-06-07T18:36:46.085294Z",
     "shell.execute_reply.started": "2024-06-07T18:36:46.079805Z"
    },
    "tags": []
   },
   "outputs": [],
   "source": [
    "# Initialize an array to hold the predictions\n",
    "combined_predictions = np.zeros_like(y_test)"
   ]
  },
  {
   "cell_type": "code",
   "execution_count": 17,
   "id": "b3b07f20-42c0-4131-aeaf-02287dca3d1f",
   "metadata": {
    "execution": {
     "iopub.execute_input": "2024-06-07T18:36:46.089317Z",
     "iopub.status.busy": "2024-06-07T18:36:46.088315Z",
     "iopub.status.idle": "2024-06-07T18:36:46.982315Z",
     "shell.execute_reply": "2024-06-07T18:36:46.981248Z",
     "shell.execute_reply.started": "2024-06-07T18:36:46.089317Z"
    },
    "tags": []
   },
   "outputs": [
    {
     "name": "stdout",
     "output_type": "stream",
     "text": [
      "Combined Model MSE: 573530.9646210453\n",
      "Combined Model RMSE: 757.3182716804378\n",
      "Combined Model MAE: 419.972595578926\n",
      "Combined Model R²: 0.9937635117443514\n"
     ]
    }
   ],
   "source": [
    "# Make predictions using the corresponding model for each cluster\n",
    "for cluster in range(3):\n",
    "    cluster_indices = np.where(test_clusters == cluster)[0]\n",
    "    if len(cluster_indices) > 0:\n",
    "        X_cluster = X_test.iloc[cluster_indices]  # Use NumPy indexing\n",
    "        model = gb_models[cluster]\n",
    "        combined_predictions[cluster_indices] = model.predict(X_cluster).flatten()\n",
    "\n",
    "# Evaluate the combined performance\n",
    "combined_mse = mean_squared_error(y_test, combined_predictions)\n",
    "combined_rmse = np.sqrt(combined_mse)\n",
    "combined_mae = mean_absolute_error(y_test, combined_predictions)\n",
    "combined_r2 = r2_score(y_test, combined_predictions)\n",
    "\n",
    "print(f'Combined Model MSE: {combined_mse}')\n",
    "print(f'Combined Model RMSE: {combined_rmse}')\n",
    "print(f'Combined Model MAE: {combined_mae}')\n",
    "print(f'Combined Model R²: {combined_r2}')\n"
   ]
  },
  {
   "cell_type": "code",
   "execution_count": 18,
   "id": "ab3328ca-b478-4c2f-abae-2b3c286746e7",
   "metadata": {
    "execution": {
     "iopub.execute_input": "2024-06-07T18:36:46.983292Z",
     "iopub.status.busy": "2024-06-07T18:36:46.983292Z",
     "iopub.status.idle": "2024-06-07T18:36:47.724358Z",
     "shell.execute_reply": "2024-06-07T18:36:47.723421Z",
     "shell.execute_reply.started": "2024-06-07T18:36:46.983292Z"
    },
    "tags": []
   },
   "outputs": [
    {
     "name": "stdout",
     "output_type": "stream",
     "text": [
      "Single Model MSE: 754217.8145330388\n",
      "Single Model RMSE: 868.4571460544491\n",
      "Single Model MAE: 507.1991816337282\n",
      "Single Model R²: 0.9917987504900556\n"
     ]
    }
   ],
   "source": [
    "# Evaluate the model\n",
    "predictions = gb_model.predict(X_test)\n",
    "mse = mean_squared_error(y_test, predictions)\n",
    "rmse = np.sqrt(mse)\n",
    "mae = mean_absolute_error(y_test, predictions)\n",
    "r2 = r2_score(y_test, predictions)\n",
    "\n",
    "# Print additional metrics\n",
    "print(f\"Single Model MSE: {mse}\")\n",
    "print(f\"Single Model RMSE: {rmse}\")\n",
    "print(f\"Single Model MAE: {mae}\")\n",
    "print(f\"Single Model R²: {r2}\")"
   ]
  },
  {
   "cell_type": "code",
   "execution_count": 42,
   "id": "39faa926-91a4-4922-984e-cab61bd88144",
   "metadata": {
    "execution": {
     "iopub.execute_input": "2024-06-13T03:19:25.834635Z",
     "iopub.status.busy": "2024-06-13T03:19:25.834635Z",
     "iopub.status.idle": "2024-06-13T03:19:25.847050Z",
     "shell.execute_reply": "2024-06-13T03:19:25.844032Z",
     "shell.execute_reply.started": "2024-06-13T03:19:25.834635Z"
    }
   },
   "outputs": [],
   "source": [
    "#create a dataframe of scores\n",
    "performance_metrics = pd.DataFrame({\n",
    "    'Metric': ['MSE', 'RMSE', 'MAE', 'R²'],\n",
    "    'Single Model': [mse, rmse, mae, r2],\n",
    "    'Combined Model': [combined_mse, combined_rmse, combined_mae, combined_r2]\n",
    "})\n",
    "\n"
   ]
  },
  {
   "cell_type": "code",
   "execution_count": 44,
   "id": "31001e4e-0f69-4294-a8d0-e800f77b6b4b",
   "metadata": {
    "execution": {
     "iopub.execute_input": "2024-06-13T03:19:51.570574Z",
     "iopub.status.busy": "2024-06-13T03:19:51.569576Z",
     "iopub.status.idle": "2024-06-13T03:19:51.592289Z",
     "shell.execute_reply": "2024-06-13T03:19:51.591268Z",
     "shell.execute_reply.started": "2024-06-13T03:19:51.570574Z"
    }
   },
   "outputs": [],
   "source": [
    "# Export the performance metrics to a CSV file\n",
    "performance_metrics.to_csv('performance_metrics_GB_GA.csv', index=False)"
   ]
  },
  {
   "cell_type": "code",
   "execution_count": 85,
   "id": "16089c19-dfc3-4fbb-8882-f85c358f5353",
   "metadata": {
    "execution": {
     "iopub.execute_input": "2024-06-14T15:34:30.075995Z",
     "iopub.status.busy": "2024-06-14T15:34:30.075995Z",
     "iopub.status.idle": "2024-06-14T15:34:30.093162Z",
     "shell.execute_reply": "2024-06-14T15:34:30.091685Z",
     "shell.execute_reply.started": "2024-06-14T15:34:30.075995Z"
    }
   },
   "outputs": [
    {
     "name": "stdout",
     "output_type": "stream",
     "text": [
      "Feature 20: Importance 0.8726673164598572\n",
      "Feature 7: Importance 0.0808242520519837\n",
      "Feature 11: Importance 0.02344480328438175\n",
      "Feature 1: Importance 0.01067421796281319\n",
      "Feature 9: Importance 0.004461274035545616\n"
     ]
    }
   ],
   "source": [
    "# Get feature importances\n",
    "importances = gb_model.feature_importances_\n",
    "\n",
    "# Get the indices that would sort the importances array in descending order\n",
    "sorted_indices = np.argsort(importances)[::-1]\n",
    "\n",
    "# Display top 5 feature importance\n",
    "top_n = 5\n",
    "for i in range(top_n):\n",
    "    print(f\"Feature {sorted_indices[i]}: Importance {importances[sorted_indices[i]]}\")"
   ]
  },
  {
   "cell_type": "code",
   "execution_count": 87,
   "id": "0b27cfb6-8e99-4d9e-b84b-91a20fa9fb5d",
   "metadata": {
    "execution": {
     "iopub.execute_input": "2024-06-14T15:34:33.741166Z",
     "iopub.status.busy": "2024-06-14T15:34:33.740168Z",
     "iopub.status.idle": "2024-06-14T15:34:34.187544Z",
     "shell.execute_reply": "2024-06-14T15:34:34.186534Z",
     "shell.execute_reply.started": "2024-06-14T15:34:33.741166Z"
    }
   },
   "outputs": [
    {
     "data": {
      "image/png": "[encoded data removed]",
      "text/plain": [
       "<Figure size 800x500 with 1 Axes>"
      ]
     },
     "metadata": {},
     "output_type": "display_data"
    }
   ],
   "source": [
    "# Define colors for bars\n",
    "colors = ['blue', 'green', 'red', 'orange', 'purple']\n",
    "\n",
    "# Plot horizontal bar chart of top 5 feature importances with different colors\n",
    "top_n = 5\n",
    "plt.figure(figsize=(8, 5))\n",
    "plt.barh(range(top_n), importances[sorted_indices][:top_n], align='center', color=colors)\n",
    "plt.yticks(range(top_n), sorted_indices[:top_n])\n",
    "plt.xlabel('Importance')\n",
    "plt.ylabel('Feature Index')\n",
    "plt.title('Top 5 Feature Importances')\n",
    "plt.show()"
   ]
  },
  {
   "cell_type": "code",
   "execution_count": 89,
   "id": "5073847b-efb2-4c83-8add-7fc66b6bb248",
   "metadata": {
    "execution": {
     "iopub.execute_input": "2024-06-14T15:34:39.279190Z",
     "iopub.status.busy": "2024-06-14T15:34:39.279190Z",
     "iopub.status.idle": "2024-06-14T15:34:39.287349Z",
     "shell.execute_reply": "2024-06-14T15:34:39.286339Z",
     "shell.execute_reply.started": "2024-06-14T15:34:39.279190Z"
    }
   },
   "outputs": [
    {
     "name": "stdout",
     "output_type": "stream",
     "text": [
      "Feature 20: Importance 0.8293922382819431\n",
      "Feature 11: Importance 0.05819870748097574\n",
      "Feature 7: Importance 0.042725104507220474\n",
      "Feature 1: Importance 0.03092061097452101\n",
      "Feature 21: Importance 0.023874325784805257\n"
     ]
    }
   ],
   "source": [
    "# Get feature importances\n",
    "importances = model.feature_importances_\n",
    "\n",
    "# Get the indices that would sort the importances array in descending order\n",
    "sorted_indices = np.argsort(importances)[::-1]\n",
    "\n",
    "# Display top 5 feature importance\n",
    "top_n = 5\n",
    "for i in range(top_n):\n",
    "    print(f\"Feature {sorted_indices[i]}: Importance {importances[sorted_indices[i]]}\")"
   ]
  },
  {
   "cell_type": "code",
   "execution_count": 91,
   "id": "64c30ba0-e02b-48cb-b9d6-7be665a47d40",
   "metadata": {
    "execution": {
     "iopub.execute_input": "2024-06-14T15:34:42.426185Z",
     "iopub.status.busy": "2024-06-14T15:34:42.425185Z",
     "iopub.status.idle": "2024-06-14T15:34:42.571077Z",
     "shell.execute_reply": "2024-06-14T15:34:42.571077Z",
     "shell.execute_reply.started": "2024-06-14T15:34:42.426185Z"
    }
   },
   "outputs": [
    {
     "data": {
      "image/png": "[encoded data removed]",
      "text/plain": [
       "<Figure size 800x500 with 1 Axes>"
      ]
     },
     "metadata": {},
     "output_type": "display_data"
    }
   ],
   "source": [
    "# Define colors for bars\n",
    "colors = ['blue', 'green', 'red', 'orange', 'purple']\n",
    "\n",
    "# Plot horizontal bar chart of top 5 feature importances with different colors\n",
    "top_n = 5\n",
    "plt.figure(figsize=(8, 5))\n",
    "plt.barh(range(top_n), importances[sorted_indices][:top_n], align='center', color=colors)\n",
    "plt.yticks(range(top_n), sorted_indices[:top_n])\n",
    "plt.xlabel('Importance')\n",
    "plt.ylabel('Feature Index')\n",
    "plt.title('Top 5 Feature Importances')\n",
    "plt.show()"
   ]
  }
 ],
 "metadata": {
  "kernelspec": {
   "display_name": "Python 3 (ipykernel)",
   "language": "python",
   "name": "python3"
  },
  "language_info": {
   "codemirror_mode": {
    "name": "ipython",
    "version": 3
   },
   "file_extension": ".py",
   "mimetype": "text/x-python",
   "name": "python",
   "nbconvert_exporter": "python",
   "pygments_lexer": "ipython3",
   "version": "3.11.7"
  }
 },
 "nbformat": 4,
 "nbformat_minor": 5
}
